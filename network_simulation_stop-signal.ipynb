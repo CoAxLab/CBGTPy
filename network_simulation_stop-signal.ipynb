{
 "cells": [
  {
   "cell_type": "markdown",
   "id": "5b234bc7",
   "metadata": {},
   "source": [
    "# Compile the main simulator code using cython "
   ]
  },
  {
   "cell_type": "code",
   "execution_count": 1,
   "id": "88b9a02f",
   "metadata": {},
   "outputs": [
    {
     "name": "stdout",
     "output_type": "stream",
     "text": [
      "running build_ext\n",
      "running build_ext\n"
     ]
    }
   ],
   "source": [
    "!python setup.py build_ext --inplace"
   ]
  },
  {
   "cell_type": "markdown",
   "id": "08528b64",
   "metadata": {},
   "source": [
    "# Import all the relevant files "
   ]
  },
  {
   "cell_type": "code",
   "execution_count": 2,
   "id": "8877b51a",
   "metadata": {},
   "outputs": [],
   "source": [
    "import numpy as np\n",
    "import pandas as pd\n",
    "import matplotlib.pyplot as plt\n",
    "import pandas as pd\n",
    "import importlib\n",
    "import seaborn as sns"
   ]
  },
  {
   "cell_type": "code",
   "execution_count": 3,
   "id": "ad14d30b",
   "metadata": {},
   "outputs": [
    {
     "name": "stderr",
     "output_type": "stream",
     "text": [
      "2023-08-23 19:25:46,757\tINFO worker.py:1352 -- Connecting to existing Ray cluster at address: 127.0.0.1:6379...\n",
      "2023-08-23 19:25:46,763\tINFO worker.py:1529 -- Connected to Ray cluster. View the dashboard at \u001b[1m\u001b[32mhttp://127.0.0.1:8265 \u001b[39m\u001b[22m\n"
     ]
    },
    {
     "data": {
      "text/plain": [
       "<module 'postprocessing_helpers' from '/Users/cristina/Desktop/CBGTPy_release/CBGTPy/postprocessing_helpers.py'>"
      ]
     },
     "execution_count": 3,
     "metadata": {},
     "output_type": "execute_result"
    }
   ],
   "source": [
    "#Importing scripts:\n",
    "\n",
    "#Import relevant frames:\n",
    "import cbgt as cbgt\n",
    "import pipeline_creation as pl_creat\n",
    "\n",
    "#Import plotting functions:\n",
    "import plotting_functions as plt_func\n",
    "import plotting_helper_functions as plt_help\n",
    "import postprocessing_helpers as post_help\n",
    "\n",
    "importlib.reload(plt_help)\n",
    "importlib.reload(plt_func)\n",
    "importlib.reload(post_help)"
   ]
  },
  {
   "cell_type": "markdown",
   "id": "24317093",
   "metadata": {},
   "source": [
    "# Choose the experiment and create the main pipeline"
   ]
  },
  {
   "cell_type": "code",
   "execution_count": 4,
   "id": "75c9b428",
   "metadata": {},
   "outputs": [
    {
     "name": "stdout",
     "output_type": "stream",
     "text": [
      "in choose pipeline\n",
      "in reward pipeline\n",
      "<backend.VariablePlaceholder object at 0x7fedf91deb50>\n",
      "<backend.VariablePlaceholder object at 0x7fedd8103460>\n",
      "<backend.VariablePlaceholder object at 0x7fedd8103f70>\n",
      "<backend.VariablePlaceholder object at 0x7fedd80ff520>\n",
      "75434668\n"
     ]
    }
   ],
   "source": [
    "#Choose the experiment\n",
    "experiment_choice = 'stop-signal'\n",
    "number_of_choices = 2\n",
    "\n",
    "#Call choose_pipeline with the pipeline object\n",
    "pl_creat.choose_pipeline(experiment_choice)\n",
    "\n",
    "#Create the main pipeline\n",
    "pl = pl_creat.create_main_pipeline(runloop=True)\n",
    "\n",
    "#Define how many simulations to run \n",
    "#Each simulation is executed as a separate thread\n",
    "num_sims = 1\n",
    "num_cores = 7\n",
    "\n",
    "#Set a seed\n",
    "seed = np.random.randint(0,99999999,1)[0]\n",
    "print(seed)"
   ]
  },
  {
   "cell_type": "code",
   "execution_count": 5,
   "id": "369c400e",
   "metadata": {},
   "outputs": [],
   "source": [
    "#Define the data and figure directory\n",
    "\n",
    "data_dir = \"./Data/\"\n",
    "figure_dir = \"./Figures/\""
   ]
  },
  {
   "cell_type": "markdown",
   "id": "e7c53648",
   "metadata": {},
   "source": [
    "# Running the pipeline"
   ]
  },
  {
   "cell_type": "markdown",
   "id": "b2e5df4e",
   "metadata": {},
   "source": [
    "### Define configuration parameter"
   ]
  },
  {
   "cell_type": "code",
   "execution_count": 6,
   "id": "d908da85",
   "metadata": {},
   "outputs": [],
   "source": [
    "#See init_params.py / generateepochs.py / popconstruct.py / qvalues.py\n",
    "#to know the parameters contained in each of the following variables \n",
    "\n",
    "configuration = {\n",
    "    'experimentchoice': experiment_choice,\n",
    "    'inter_trial_interval': None,\n",
    "    'thalamic_threshold': 30.,\n",
    "    'movement_time': ['mean', 250], #['constant', 300], #default sampled from N(250,1.5), [\"constant\",250], [\"mean\",250]\n",
    "    'choice_timeout': 300, #default 1000\n",
    "    \n",
    "    'params': None, #neuron parameters (init_params.py)\n",
    "    'pops': None,   #population parameters (init_params.py)\n",
    "    'receps' : None, #receptor parameters (init_params.py)\n",
    "    'base' : None, #baseline stimulation parameters (init_params.py)\n",
    "    'dpmns' : None, #dopamine related parameters (init_params.py)\n",
    "    'd1' : None, #D1-MSNs population related parameters (init_params.py)\n",
    "    'd2' : None, #D2-MSNs population related parameters (init_params.py)\n",
    "    'channels' : pd.DataFrame([['left'], ['right']], columns=['action']), #action channels related parameters (init_params.py)\n",
    "    'number_of_choices':number_of_choices,\n",
    "    'newpathways' : None, #connectivity parameters (popconstruct.py)\n",
    "    'Q_support_params': None, #initialization of Q-values update (qvalues.py) \n",
    "    'Q_df_set': pd.DataFrame([[0.5, 0.5]],columns=[\"left\", \"right\"]), #pd.DataFrame([[0.3,0.7]],columns=['left','right']), #initialized Q-values df (qvalues.py)  \n",
    "    'n_trials': 1, #number of trials (generateepochs.py)\n",
    "    'volatility': [None,\"exact\"], #frequency of changepoints (generateepochs.py)\n",
    "    'conflict': (1.0, 0), #probability of the preferred choice (generateepochs.py)\n",
    "    'reward_mu': 1, #mean for the magnitude of the reward (generateepochs.py)\n",
    "    'reward_std': 0.1, #std for the magnitude of the reward (generateepochs.py)\n",
    "    'maxstim': 0.8, # amplitude of the cortical input over base line #0.85\n",
    "    'sustainedfraction': 0.75,\n",
    "    \n",
    "    #Stop 1\n",
    "    'stop_signal_present': [True,True],\n",
    "    'stop_signal_probability': [1., 1.],  #[[1,3],[1,2]], #probability of trials that will get the stop signal / list of trial numbers\n",
    "    'stop_signal_amplitude': [0.6, 0.6], # amplitude of the stop signal over base line\n",
    "    'stop_signal_onset': [30.,60.], #in ms #antes 200\n",
    "    'stop_signal_duration' : [170.,170.], \n",
    "    'stop_signal_channel': [\"all\",\"all\"], #\"all\" (all channels are given the stop signal) \n",
    "                                #/\"any\" (channel given the stop signal is chosen randomly)\n",
    "                                # [list of channels] == subset of channels given the stop signa\n",
    "    'stop_signal_population':[\"STN\",\"GPeA\"],\n",
    "    \n",
    "    'record_variables':[\"stop_input\"],\n",
    "    \n",
    "    \n",
    "    #Opto\n",
    "    'opt_signal_present': [False],\n",
    "    'opt_signal_probability': [1.], #[0,1,2,3,4], # probability of trials that will get the optogenetic signal / list of trial numbers\n",
    "    'opt_signal_amplitude': [.7], # ampitude of the stop signal over base line\n",
    "    'opt_signal_onset': [30.], # in ms\n",
    "    'opt_signal_duration': [150.],\n",
    "    'opt_signal_channel': [\"all\"], # \"all\" (all channels are given the stop signal) \n",
    "    'opt_signal_population':[\"iSPN\"],\n",
    "}"
   ]
  },
  {
   "cell_type": "markdown",
   "id": "37771412",
   "metadata": {},
   "source": [
    "### Run the simulation"
   ]
  },
  {
   "cell_type": "code",
   "execution_count": 7,
   "id": "db5483fe",
   "metadata": {
    "scrolled": true
   },
   "outputs": [
    {
     "name": "stdout",
     "output_type": "stream",
     "text": [
      "\u001b[2m\u001b[36m(worker pid=28752)\u001b[0m in choose pipeline\n",
      "\u001b[2m\u001b[36m(worker pid=28752)\u001b[0m in choose pipeline\n",
      "SpawnThreadManagers <backend.Pipeline object at 0x7fedf91de6d0>\n",
      "\u001b[2m\u001b[36m(worker pid=28752)\u001b[0m conflict (1.0, 0)\n",
      "\u001b[2m\u001b[36m(worker pid=28752)\u001b[0m conflict (1.0, 0)\n",
      "\u001b[2m\u001b[36m(worker pid=28752)\u001b[0m sum 1.0\n",
      "\u001b[2m\u001b[36m(worker pid=28752)\u001b[0m n_prob_trials [1, 0]\n",
      "\u001b[2m\u001b[36m(worker pid=28752)\u001b[0m calc_rew        left  right\n",
      "\u001b[2m\u001b[36m(worker pid=28752)\u001b[0m 0  1.097874    0.0\n",
      "\u001b[2m\u001b[36m(worker pid=28752)\u001b[0m reward_list        left  right\n",
      "\u001b[2m\u001b[36m(worker pid=28752)\u001b[0m 0  1.097874    0.0\n",
      "\u001b[2m\u001b[36m(worker pid=28752)\u001b[0m conflict (1.0, 0)\n",
      "\u001b[2m\u001b[36m(worker pid=28752)\u001b[0m conflict (1.0, 0)\n",
      "\u001b[2m\u001b[36m(worker pid=28752)\u001b[0m sum 1.0\n",
      "\u001b[2m\u001b[36m(worker pid=28752)\u001b[0m n_prob_trials [1, 0]\n",
      "\u001b[2m\u001b[36m(worker pid=28752)\u001b[0m calc_rew        left  right\n",
      "\u001b[2m\u001b[36m(worker pid=28752)\u001b[0m 0  1.097874    0.0\n",
      "\u001b[2m\u001b[36m(worker pid=28752)\u001b[0m reward_list        left  right\n",
      "\u001b[2m\u001b[36m(worker pid=28752)\u001b[0m 0  1.097874    0.0\n",
      "SpawnThreadManagers <backend.Pipeline object at 0x7fedd80d9490>\n",
      "\u001b[2m\u001b[36m(worker pid=28752)\u001b[0m scaling_conn 1.0\n",
      "\u001b[2m\u001b[36m(worker pid=28752)\u001b[0m scaling_wts 1\n",
      "\u001b[2m\u001b[36m(worker pid=28752)\u001b[0m begin GenOptSchedule\n",
      "\u001b[2m\u001b[36m(worker pid=28752)\u001b[0m scaling_conn 1.0\n",
      "\u001b[2m\u001b[36m(worker pid=28752)\u001b[0m scaling_wts 1\n",
      "\u001b[2m\u001b[36m(worker pid=28752)\u001b[0m begin GenOptSchedule\n",
      "\u001b[2m\u001b[36m(worker pid=28752)\u001b[0m <class 'list'>\n",
      "\u001b[2m\u001b[36m(worker pid=28752)\u001b[0m [0]\n",
      "\u001b[2m\u001b[36m(worker pid=28752)\u001b[0m pop i\n",
      "\u001b[2m\u001b[36m(worker pid=28752)\u001b[0m True\n",
      "\u001b[2m\u001b[36m(worker pid=28752)\u001b[0m pop S\n",
      "\u001b[2m\u001b[36m(worker pid=28752)\u001b[0m True\n",
      "\u001b[2m\u001b[36m(worker pid=28752)\u001b[0m pop P\n",
      "\u001b[2m\u001b[36m(worker pid=28752)\u001b[0m True\n",
      "\u001b[2m\u001b[36m(worker pid=28752)\u001b[0m pop N\n",
      "\u001b[2m\u001b[36m(worker pid=28752)\u001b[0m True\n",
      "\u001b[2m\u001b[36m(worker pid=28752)\u001b[0m opt_amplitude_dfs \n",
      "\u001b[2m\u001b[36m(worker pid=28752)\u001b[0m [   left  right  trial_num\n",
      "\u001b[2m\u001b[36m(worker pid=28752)\u001b[0m 0   0.7    0.7          0]\n",
      "\u001b[2m\u001b[36m(worker pid=28752)\u001b[0m opt_df\n",
      "SpawnThreadManagers <backend.Pipeline object at 0x7fedd8103460>\n",
      "\u001b[2m\u001b[36m(worker pid=28752)\u001b[0m <class 'list'>\n",
      "\u001b[2m\u001b[36m(worker pid=28752)\u001b[0m [0]\n",
      "\u001b[2m\u001b[36m(worker pid=28752)\u001b[0m pop i\n",
      "\u001b[2m\u001b[36m(worker pid=28752)\u001b[0m True\n",
      "\u001b[2m\u001b[36m(worker pid=28752)\u001b[0m pop S\n",
      "\u001b[2m\u001b[36m(worker pid=28752)\u001b[0m True\n",
      "\u001b[2m\u001b[36m(worker pid=28752)\u001b[0m pop P\n",
      "\u001b[2m\u001b[36m(worker pid=28752)\u001b[0m True\n",
      "\u001b[2m\u001b[36m(worker pid=28752)\u001b[0m pop N\n",
      "\u001b[2m\u001b[36m(worker pid=28752)\u001b[0m True\n",
      "\u001b[2m\u001b[36m(worker pid=28752)\u001b[0m opt_amplitude_dfs [   left  right  trial_num\n",
      "\u001b[2m\u001b[36m(worker pid=28752)\u001b[0m 0   0.7    0.7          0]\n",
      "\u001b[2m\u001b[36m(worker pid=28752)\u001b[0m opt_df\n",
      "\u001b[2m\u001b[36m(worker pid=28752)\u001b[0m    opt_signal_present  ...  opt_signal_population\n",
      "\u001b[2m\u001b[36m(worker pid=28752)\u001b[0m 0               False  ...                   iSPN\n",
      "\u001b[2m\u001b[36m(worker pid=28752)\u001b[0m \n",
      "\u001b[2m\u001b[36m(worker pid=28752)\u001b[0m [1 rows x 4 columns]\n",
      "\u001b[2m\u001b[36m(worker pid=28752)\u001b[0m opt_channels_df\n",
      "\u001b[2m\u001b[36m(worker pid=28752)\u001b[0m [   left  right  trial_num\n",
      "\u001b[2m\u001b[36m(worker pid=28752)\u001b[0m 0  True   True          0]\n",
      "\u001b[2m\u001b[36m(worker pid=28752)\u001b[0m [0]\n",
      "\u001b[2m\u001b[36m(worker pid=28752)\u001b[0m [0]\n",
      "\u001b[2m\u001b[36m(worker pid=28752)\u001b[0m stop_amplitude_dfs [   left  right  trial_num\n",
      "\u001b[2m\u001b[36m(worker pid=28752)\u001b[0m 0   0.6    0.6          0,    left  right  trial_num\n",
      "\u001b[2m\u001b[36m(worker pid=28752)\u001b[0m 0   0.6    0.6          0]\n",
      "\u001b[2m\u001b[36m(worker pid=28752)\u001b[0m    opt_signal_present  ...  opt_signal_population\n",
      "\u001b[2m\u001b[36m(worker pid=28752)\u001b[0m 0               False  ...                   iSPN\n",
      "\u001b[2m\u001b[36m(worker pid=28752)\u001b[0m \n",
      "\u001b[2m\u001b[36m(worker pid=28752)\u001b[0m [1 rows x 4 columns]\n",
      "\u001b[2m\u001b[36m(worker pid=28752)\u001b[0m opt_channels_df\n",
      "\u001b[2m\u001b[36m(worker pid=28752)\u001b[0m [   left  right  trial_num\n",
      "\u001b[2m\u001b[36m(worker pid=28752)\u001b[0m 0  True   True          0]\n",
      "\u001b[2m\u001b[36m(worker pid=28752)\u001b[0m [0]\n",
      "\u001b[2m\u001b[36m(worker pid=28752)\u001b[0m [0]\n",
      "\u001b[2m\u001b[36m(worker pid=28752)\u001b[0m stop_amplitude_dfs [   left  right  trial_num\n",
      "\u001b[2m\u001b[36m(worker pid=28752)\u001b[0m 0   0.6    0.6          0,    left  right  trial_num\n",
      "\u001b[2m\u001b[36m(worker pid=28752)\u001b[0m 0   0.6    0.6          0]\n",
      "\u001b[2m\u001b[36m(worker pid=28752)\u001b[0m scaling_conn 1.0\n",
      "\u001b[2m\u001b[36m(worker pid=28752)\u001b[0m scaling_wts 1\n",
      "\u001b[2m\u001b[36m(worker pid=28752)\u001b[0m scaling_conn 1.0\n",
      "\u001b[2m\u001b[36m(worker pid=28752)\u001b[0m scaling_wts 1\n",
      "SpawnThreadManagers <backend.Pipeline object at 0x7fedd80fff40>\n",
      "\u001b[2m\u001b[36m(worker pid=28752)\u001b[0m q_support None\n",
      "\u001b[2m\u001b[36m(worker pid=28752)\u001b[0m 0    80.0`\n",
      "\u001b[2m\u001b[36m(worker pid=28752)\u001b[0m Name: C_scale, dtype: object\n",
      "\u001b[2m\u001b[36m(worker pid=28752)\u001b[0m q_support None\n",
      "\u001b[2m\u001b[36m(worker pid=28752)\u001b[0m 0    80.0`\n",
      "\u001b[2m\u001b[36m(worker pid=28752)\u001b[0m Name: C_scale, dtype: object\n"
     ]
    },
    {
     "name": "stderr",
     "output_type": "stream",
     "text": [
      "\u001b[2m\u001b[36m(worker pid=28752)\u001b[0m /Users/cristina/Desktop/CBGTPy_release/CBGTPy/qvalues.py:105: FutureWarning: The frame.append method is deprecated and will be removed from pandas in a future version. Use pandas.concat instead.\n",
      "\u001b[2m\u001b[36m(worker pid=28752)\u001b[0m   Q_df = Q_df.append(\n",
      "\u001b[2m\u001b[36m(worker pid=28752)\u001b[0m /Users/cristina/Desktop/CBGTPy_release/CBGTPy/qvalues.py:121: FutureWarning: The frame.append method is deprecated and will be removed from pandas in a future version. Use pandas.concat instead.\n",
      "\u001b[2m\u001b[36m(worker pid=28752)\u001b[0m   Q_df = Q_df.append(\n",
      "\u001b[2m\u001b[36m(worker pid=28752)\u001b[0m /Users/cristina/Desktop/CBGTPy_release/CBGTPy/qvalues.py:105: FutureWarning: The frame.append method is deprecated and will be removed from pandas in a future version. Use pandas.concat instead.\n",
      "\u001b[2m\u001b[36m(worker pid=28752)\u001b[0m   Q_df = Q_df.append(\n",
      "\u001b[2m\u001b[36m(worker pid=28752)\u001b[0m /Users/cristina/Desktop/CBGTPy_release/CBGTPy/qvalues.py:121: FutureWarning: The frame.append method is deprecated and will be removed from pandas in a future version. Use pandas.concat instead.\n",
      "\u001b[2m\u001b[36m(worker pid=28752)\u001b[0m   Q_df = Q_df.append(\n"
     ]
    },
    {
     "name": "stdout",
     "output_type": "stream",
     "text": [
      "\u001b[2m\u001b[36m(worker pid=28752)\u001b[0m agent.stop_popids [array([2, 3]), array([6, 7])]\n",
      "\u001b[2m\u001b[36m(worker pid=28752)\u001b[0m agent.stop_popids [array([2, 3]), array([6, 7])]\n",
      "\u001b[2m\u001b[36m(worker pid=28752)\u001b[0m stop stim started\n",
      "\u001b[2m\u001b[36m(worker pid=28752)\u001b[0m stop stim started\n",
      "\u001b[2m\u001b[36m(worker pid=28752)\u001b[0m stop stim started\n",
      "\u001b[2m\u001b[36m(worker pid=28752)\u001b[0m stop stim started\n",
      "\u001b[2m\u001b[36m(worker pid=28752)\u001b[0m gateFRs [19.11111111 16.66666667]\n",
      "\u001b[2m\u001b[36m(worker pid=28752)\u001b[0m thresholds_crossed []\n",
      "\u001b[2m\u001b[36m(worker pid=28752)\u001b[0m gateFRs [19.11111111 16.66666667]\n",
      "\u001b[2m\u001b[36m(worker pid=28752)\u001b[0m thresholds_crossed []\n",
      "\u001b[2m\u001b[36m(worker pid=28752)\u001b[0m trial_num 0\n",
      "\u001b[2m\u001b[36m(worker pid=28752)\u001b[0m   action\n",
      "\u001b[2m\u001b[36m(worker pid=28752)\u001b[0m 0   left\n",
      "\u001b[2m\u001b[36m(worker pid=28752)\u001b[0m 1  right\n",
      "\u001b[2m\u001b[36m(worker pid=28752)\u001b[0m chosen_action: stop\n",
      "\u001b[2m\u001b[36m(worker pid=28752)\u001b[0m trial_num 0\n",
      "\u001b[2m\u001b[36m(worker pid=28752)\u001b[0m   action\n",
      "\u001b[2m\u001b[36m(worker pid=28752)\u001b[0m 0   left\n",
      "\u001b[2m\u001b[36m(worker pid=28752)\u001b[0m 1  right\n",
      "\u001b[2m\u001b[36m(worker pid=28752)\u001b[0m chosen_action: stop\n"
     ]
    }
   ],
   "source": [
    "results = cbgt.ExecutionManager(cores=7).run([pl]*num_sims,[configuration]*num_sims)  "
   ]
  },
  {
   "cell_type": "markdown",
   "id": "6a0fab85",
   "metadata": {},
   "source": [
    "### Results"
   ]
  },
  {
   "cell_type": "code",
   "execution_count": null,
   "id": "387d8b4a",
   "metadata": {},
   "outputs": [],
   "source": [
    "#List all the agent variables accessible\n",
    "results[0].keys()"
   ]
  },
  {
   "cell_type": "code",
   "execution_count": null,
   "id": "b4f6d370",
   "metadata": {},
   "outputs": [],
   "source": [
    "results[0]['stop_list_trials_list']"
   ]
  },
  {
   "cell_type": "code",
   "execution_count": null,
   "id": "516a4186",
   "metadata": {},
   "outputs": [],
   "source": [
    "results[0]['meaneff_GABA']"
   ]
  },
  {
   "cell_type": "code",
   "execution_count": null,
   "id": "a15540ff",
   "metadata": {},
   "outputs": [],
   "source": [
    "results[0]['stop_signal_amplitude']"
   ]
  },
  {
   "cell_type": "code",
   "execution_count": null,
   "id": "e24790c8",
   "metadata": {},
   "outputs": [],
   "source": [
    "experiment_choice"
   ]
  },
  {
   "cell_type": "code",
   "execution_count": null,
   "id": "48f110b1",
   "metadata": {},
   "outputs": [],
   "source": [
    "#Extract all the relevant dataframes\n",
    "firing_rates, rt_dist = plt_help.extract_relevant_frames(results,seed,experiment_choice)"
   ]
  },
  {
   "cell_type": "code",
   "execution_count": null,
   "id": "0947feab",
   "metadata": {},
   "outputs": [],
   "source": [
    "results[0]['popfreqs']"
   ]
  },
  {
   "cell_type": "code",
   "execution_count": null,
   "id": "35607840",
   "metadata": {},
   "outputs": [],
   "source": [
    "#Firing rates  \n",
    "firing_rates[0]"
   ]
  },
  {
   "cell_type": "code",
   "execution_count": null,
   "id": "e730df2a",
   "metadata": {},
   "outputs": [],
   "source": [
    "recorded_variables = post_help.extract_recording_variables(results,results[0]['record_variables'],seed)"
   ]
  },
  {
   "cell_type": "code",
   "execution_count": null,
   "id": "634fc832",
   "metadata": {},
   "outputs": [],
   "source": [
    "recorded_variables['stop_input']#.melt(id_vars='Time(ms)')"
   ]
  },
  {
   "cell_type": "code",
   "execution_count": null,
   "id": "2c047567",
   "metadata": {},
   "outputs": [],
   "source": [
    "fig,ax = plt.subplots(1,1,figsize=(5,4))\n",
    "sns.set(style=\"white\", font_scale=1.5)\n",
    "sns.lineplot(x=\"Time(ms)\",y=\"value\",data=recorded_variables['stop_input'],hue='nuclei',lw=3.0,ax=ax)\n",
    "# ax.set_ylabel(\"STN\",fontweight='bold')\n",
    "# ax.legend_.remove()\n",
    "ax.spines.top.set_visible(False)\n",
    "ax.spines.right.set_visible(False)\n",
    "plt.tight_layout()\n",
    "fig.savefig(figure_dir+'stop_input.png')"
   ]
  },
  {
   "cell_type": "code",
   "execution_count": null,
   "id": "ba3e9a5d",
   "metadata": {},
   "outputs": [],
   "source": [
    "#Extract the data tables from the agent\n",
    "datatables = cbgt.collateVariable(results,'datatables')\n",
    "datatables[0]"
   ]
  },
  {
   "cell_type": "code",
   "execution_count": null,
   "id": "2236a1cc",
   "metadata": {},
   "outputs": [],
   "source": [
    "#Save the selected variables of results in the data_dir specified\n",
    "cbgt.saveResults(results,data_dir+'network_data_'+str(seed)+'.pickle',['popfreqs','popdata','datatables'])"
   ]
  },
  {
   "cell_type": "code",
   "execution_count": null,
   "id": "b9fedc83",
   "metadata": {},
   "outputs": [],
   "source": [
    "results[0].keys()"
   ]
  },
  {
   "cell_type": "code",
   "execution_count": null,
   "id": "88b7c191",
   "metadata": {},
   "outputs": [],
   "source": [
    "results[0]['stop_signal_present']"
   ]
  },
  {
   "cell_type": "code",
   "execution_count": null,
   "id": "43037b9e",
   "metadata": {},
   "outputs": [],
   "source": [
    "# Plot the firing rates extracted, figure handles are returned in fig_handles\n",
    "FR_fig_handles = plt_func.plot_fr(firing_rates,datatables,results,experiment_choice,True)\n",
    "# ax = FR_fig_handles[0].axes[4]\n",
    "# for x in datatables[0].stimulusstarttime:\n",
    "#     ylim = ax.get_ylim()\n",
    "#     ax.vlines(x=x+results[0]['stop_2_signal_onset'],ymin=ylim[0],ymax=ylim[1],ls='dashed',color='k',lw=2.0)\n",
    "# ax.set_xlim(1000,1500)\n",
    "# ax = FR_fig_handles[0].axes[7]\n",
    "# for x in datatables[0].stimulusstarttime:\n",
    "#     ylim = ax.get_ylim()\n",
    "#     ax.vlines(x=x+results[0]['stop_signal_onset'],ymin=ylim[0],ymax=ylim[1],ls='dashed',color='k',lw=2.0)\n",
    "# ax.set_xlim(1000,1500)\n",
    "FR_fig_handles[0].savefig(figure_dir+\"Example_FR_stopsignal.png\",dpi=300)"
   ]
  },
  {
   "cell_type": "code",
   "execution_count": null,
   "id": "beed0221",
   "metadata": {},
   "outputs": [],
   "source": [
    "# FR_fig_handles = plt_func.plot_fr_flex(firing_rates,datatables,['left'],['all'],(1500,2000))\n",
    "# ax = FR_fig_handles.axes[0]\n",
    "# for x in datatables[0].stimulusstarttime:\n",
    "#     ylim = ax.get_ylim()\n",
    "#     ax.vlines(x=x+results[0]['stop_signal_onset'],ymin=ylim[0],ymax=ylim[1],ls='dashed',color='k',lw=2.0)\n",
    "\n",
    "# ax = FR_fig_handles[0].axes[1]\n",
    "# for x in datatables[0].stimulusstarttime:\n",
    "#     ylim = ax.get_ylim()\n",
    "#     ax.vlines(x=x+results[0]['stop_signal_onset'],ymin=ylim[0],ymax=ylim[1],ls='dashed',color='k',lw=2.0)\n"
   ]
  },
  {
   "cell_type": "code",
   "execution_count": null,
   "id": "33db114a",
   "metadata": {},
   "outputs": [],
   "source": [
    "FR_fig_handles"
   ]
  },
  {
   "cell_type": "code",
   "execution_count": null,
   "id": "e09da81f",
   "metadata": {},
   "outputs": [],
   "source": []
  },
  {
   "cell_type": "code",
   "execution_count": 14,
   "id": "b3dbea7e",
   "metadata": {},
   "outputs": [
    {
     "data": {
      "image/png": "[encoded data removed]",
      "text/plain": [
       "<Figure size 2500x700 with 1 Axes>"
      ]
     },
     "metadata": {},
     "output_type": "display_data"
    }
   ],
   "source": [
    "#Th activity\n",
    "f, (ax1) = plt.subplots(1, 1, figsize=(25, 7), sharex=True)\n",
    "plt_help.rename_columns(results[0])\n",
    "results[0]['popfreqs'].plot(x='Time (ms)', y='Th_left', c ='darkorange', ax = ax1)\n",
    "results[0]['popfreqs'].plot(x='Time (ms)', y='Th_right', c ='b', ax = ax1)\n",
    "plt.xticks(np.arange(0, 1200, 100))\n",
    "#if results[0]['stop_signal_present'] == True:\n",
    "    #ax2.hlines(y=35, xmin=datatables[0].stimulusstarttime[i]+results[0]['stop_onset_df'].iloc[0][0], xmax=datatables[0].stimulusstarttime[i]+results[0]['stop_onset_df'].iloc[0][0]+results[0]['stop_signal_duration'], colors='r', linewidth = 6)\n",
    "#if results[0]['stop_signal_present_2'] == True:\n",
    "    #ax2.hlines(y=36.5, xmin=datatables[0].stimulusstarttime[i]+results[0]['stop_onset_df_2'].iloc[0][0], xmax=datatables[0].stimulusstarttime[i]+results[0]['stop_onset_df_2'].iloc[0][0]+results[0]['stop_signal_duration_2'], colors='y', linewidth = 6)\n",
    "\n",
    "ax1.axhline(y=30, c='k', linestyle='dotted', color='silver')\n",
    "ax1.legend(['Th_left', 'Th_right'], loc = 'best', fontsize=16.)\n",
    "#ax1.legend(['Th'], loc = 'best')\n",
    "ax1.set_xlim(0, 1100)\n",
    "ax1.set_ylim(0, 60)\n",
    "ax1.set_ylabel('spikes/s', fontsize=16)\n",
    "ax1.set_xlabel('Time (ms)', fontsize=16)\n",
    "\n",
    "for x in ax1.get_xticklabels():\n",
    "    x.set_fontsize(16.)\n",
    "for x in ax1.get_yticklabels():\n",
    "    x.set_fontsize(16.)\n",
    "\n",
    "    \n",
    "plt.savefig('./Figures/FRs_Th_stop'+str(seed)+'.png', dpi=400)"
   ]
  },
  {
   "cell_type": "code",
   "execution_count": null,
   "id": "4beb8993",
   "metadata": {},
   "outputs": [],
   "source": []
  },
  {
   "cell_type": "code",
   "execution_count": null,
   "id": "06fac7e7",
   "metadata": {},
   "outputs": [],
   "source": []
  }
 ],
 "metadata": {
  "kernelspec": {
   "display_name": "Python 3 (ipykernel)",
   "language": "python",
   "name": "python3"
  },
  "language_info": {
   "codemirror_mode": {
    "name": "ipython",
    "version": 3
   },
   "file_extension": ".py",
   "mimetype": "text/x-python",
   "name": "python",
   "nbconvert_exporter": "python",
   "pygments_lexer": "ipython3",
   "version": "3.8.16"
  }
 },
 "nbformat": 4,
 "nbformat_minor": 5
}
