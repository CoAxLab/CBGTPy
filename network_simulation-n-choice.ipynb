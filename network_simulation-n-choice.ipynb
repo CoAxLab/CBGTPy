{
 "cells": [
  {
   "cell_type": "markdown",
   "metadata": {},
   "source": [
    "### To run the cbgt network, see first the technical_testbench to install all the required packages and start the server "
   ]
  },
  {
   "cell_type": "code",
   "execution_count": 1,
   "metadata": {},
   "outputs": [],
   "source": [
    "#Auto reloading \n",
    "# %load_ext autoreload\n",
    "\n",
    "\n",
    "# %autoreload\n",
    "# %reload_ext autoreload "
   ]
  },
  {
   "cell_type": "code",
   "execution_count": 2,
   "metadata": {},
   "outputs": [],
   "source": [
    "#Removing indentation issues:\n",
    "#!autopep8 --in-place --aggressive --aggressive init_params.py\n",
    "#!autopep8 --in-place --aggressive --aggressive popconstruct.py\n",
    "#!autopep8 --in-place --aggressive --aggressive generateepochs.py\n",
    "#!autopep8 --in-place --aggressive --aggressive qvalues.py"
   ]
  },
  {
   "cell_type": "markdown",
   "metadata": {},
   "source": [
    "# Compile the main simulator code using cython "
   ]
  },
  {
   "cell_type": "code",
   "execution_count": 3,
   "metadata": {},
   "outputs": [
    {
     "name": "stdout",
     "output_type": "stream",
     "text": [
      "running build_ext\n",
      "running build_ext\n"
     ]
    }
   ],
   "source": [
    "!python setup.py build_ext --inplace"
   ]
  },
  {
   "cell_type": "markdown",
   "metadata": {},
   "source": [
    "# Import all the relevant files "
   ]
  },
  {
   "cell_type": "code",
   "execution_count": 4,
   "metadata": {},
   "outputs": [
    {
     "name": "stderr",
     "output_type": "stream",
     "text": [
      "2023-08-23 19:19:46,533\tINFO worker.py:1352 -- Connecting to existing Ray cluster at address: 127.0.0.1:6379...\n",
      "2023-08-23 19:19:46,540\tINFO worker.py:1529 -- Connected to Ray cluster. View the dashboard at \u001b[1m\u001b[32mhttp://127.0.0.1:8265 \u001b[39m\u001b[22m\n"
     ]
    },
    {
     "data": {
      "text/plain": [
       "<module 'postprocessing_helpers' from '/Users/cristina/Desktop/CBGTPy_release/CBGTPy/postprocessing_helpers.py'>"
      ]
     },
     "execution_count": 4,
     "metadata": {},
     "output_type": "execute_result"
    }
   ],
   "source": [
    "# Import the pipeline creation object\n",
    "import pandas as pd\n",
    "import numpy as np\n",
    "import cbgt as cbgt\n",
    "import pipeline_creation as pl_creat\n",
    "import plotting_functions as plt_func\n",
    "import plotting_helper_functions as plt_help\n",
    "import postprocessing_helpers as post_help\n",
    "\n",
    "\n",
    "import importlib\n",
    "\n",
    "importlib.reload(plt_help)\n",
    "importlib.reload(plt_func)\n",
    "importlib.reload(post_help)"
   ]
  },
  {
   "cell_type": "markdown",
   "metadata": {},
   "source": [
    "# Choose the experiment and create the main pipeline"
   ]
  },
  {
   "cell_type": "code",
   "execution_count": 5,
   "metadata": {},
   "outputs": [
    {
     "name": "stdout",
     "output_type": "stream",
     "text": [
      "in choose pipeline\n",
      "in reward pipeline\n",
      "<backend.VariablePlaceholder object at 0x7fc6c942d9d0>\n",
      "<backend.VariablePlaceholder object at 0x7fc6c9458ac0>\n",
      "<backend.VariablePlaceholder object at 0x7fc6c945e940>\n",
      "8867366\n"
     ]
    }
   ],
   "source": [
    "# Choose the experiment\n",
    "experiment_choice = \"n-choice\"\n",
    "number_of_choices = 2\n",
    "# Call choose_pipeline with the pipeline object\n",
    "pl_creat.choose_pipeline(experiment_choice)\n",
    "\n",
    "#Create the main pipeline\n",
    "pl = pl_creat.create_main_pipeline(runloop=True)\n",
    "\n",
    "# how many simulations do you want to run ? each simulation is executed as a seperate thread\n",
    "\n",
    "num_sims = 1\n",
    "\n",
    "num_cores = 7\n",
    "# set a seed\n",
    "import time\n",
    "np.random.seed(int(time.time()))\n",
    "#seed = np.random.choice(np.random.randint(0,9999999,100),1)[0]\n",
    "seed = 8867366\n",
    "print(seed)\n"
   ]
  },
  {
   "cell_type": "code",
   "execution_count": null,
   "metadata": {},
   "outputs": [],
   "source": []
  },
  {
   "cell_type": "code",
   "execution_count": 6,
   "metadata": {},
   "outputs": [],
   "source": [
    "\n",
    "# Define the data and figure directory\n",
    "\n",
    "data_dir = \"./Data/\"\n",
    "figure_dir = \"./Figures/\"\n"
   ]
  },
  {
   "cell_type": "code",
   "execution_count": null,
   "metadata": {},
   "outputs": [],
   "source": [
    "\n"
   ]
  },
  {
   "cell_type": "markdown",
   "metadata": {},
   "source": [
    "# Running the pipeline"
   ]
  },
  {
   "cell_type": "markdown",
   "metadata": {},
   "source": [
    "### 1. Default values of environment variable"
   ]
  },
  {
   "cell_type": "code",
   "execution_count": 7,
   "metadata": {},
   "outputs": [],
   "source": [
    "#See init_params.py / generateepochs.py / popconstruct.py / qvalues.py\n",
    "#to know the parameters contained in each of the following variables \n",
    "configuration = {\n",
    "    'experimentchoice': experiment_choice,\n",
    "    'inter_trial_interval': None, # default = 600ms\n",
    "    'thalamic_threshold': None, # default 30sp/s\n",
    "    'movement_time':None,# #default sampled from N(250,1.5), [\"constant\",250], [\"mean\",250]\n",
    "    'choice_timeout':None, #wait for a choice to be made, default 1000, \n",
    "    'params': None, #neuron parameters (init_params.py)\n",
    "    'pops': None,   #population parameters (init_params.py)\n",
    "    'receps' : None, #receptor parameters (init_params.py)\n",
    "    'base' : None, #baseline stimulation parameters (init_params.py)\n",
    "    'dpmns' : None, #dopamine related parameters (init_params.py)\n",
    "    #'dpmns' : pd.DataFrame([0.05], columns=['dpmn_wmax']),\n",
    "    #'d1' : None, #D1-MSNs population related parameters (init_params.py)\n",
    "    'd1': None,#pd.DataFrame([[39.5,0.055]], columns=['dpmn_alphaw','dpmn_wmax']),\n",
    "    'd2': None, #pd.DataFrame([[-38.2,0.035]], columns=['dpmn_alphaw','dpmn_wmax']),\n",
    "        'channels' : pd.DataFrame([[\"left\"],[\"right\"]], columns=['action']), #action channels related parameters (init_params.py)\n",
    "    'number_of_choices':number_of_choices,\n",
    "    #'actionchannels' : pd.DataFrame([[1],[2]], columns=['action']), #labels for the actions (init_params.py)\n",
    "    #'actionchannels' : pd.DataFrame([[\"left\"],[\"right\"]], columns=['action']), #labels for the actions (init_params.py)\n",
    "    'newpathways' :None,\n",
    "    'Q_support_params': None,#pd.DataFrame([[85,0.6]],columns=['dpmn_CPP_scale','q_alpha']), #initialization of Q-values update (qvalues.py) \n",
    "    'Q_df_set':pd.DataFrame([[0.5, 0.5]],columns=[\"left\",\"right\"]), #initialized Q-values df (qvalues.py)  \n",
    "    'n_trials': 1, #number of trials (generateepochs.py)\n",
    "    'volatility': [None,\"exact\"], #frequency of changepoints and type of change points (exact or poisson) (generateepochs.py)\n",
    "    'conflict': (0.7, 0.3), #probability of the preferred choice (generateepochs.py)\n",
    "    'reward_mu': 1, #mean for the magnitude of the reward (generateepochs.py)\n",
    "    'reward_std': 0.01, #std for the magnitude of the reward (generateepochs.py)\n",
    "    'maxstim': 0.8, # 3 instead? how much stimulus the LIP gets at maximum\n",
    "    'corticostriatal_plasticity_present':True, # whether plasticity is on or \"off\" at corticostriatal synapses\n",
    "    'record_variables':[\"weight\",\"optogenetic_input\"],#\"optogenetic_input\"],\n",
    "    'opt_signal_present':[False],\n",
    "    'opt_signal_probability':[1], # probability of trials that will get the optogenetic signal / list of trial numbers\n",
    "    'opt_signal_amplitude':[-0.5], # ampitude of the stop signal over base line\n",
    "    'opt_signal_onset':[10.], # in ms\n",
    "    'opt_signal_duration':[500.],\n",
    "    'opt_signal_channel': [\"all\"], # \"all\" (all channels are given the stop signal) \n",
    "    'opt_signal_population':[\"dSPN\"],\n",
    "    'sustainedfraction':0.7\n",
    "                                #/\"any\" (channel given the stop signal is chosen randomly)\n",
    "                                # [list of channels] == subset of channels given the stop signal\n",
    "    \n",
    "}\n"
   ]
  },
  {
   "cell_type": "markdown",
   "metadata": {},
   "source": [
    "### Run the simulation - 1 thread with the environment variable"
   ]
  },
  {
   "cell_type": "code",
   "execution_count": 8,
   "metadata": {},
   "outputs": [],
   "source": [
    "# pl.modulelist"
   ]
  },
  {
   "cell_type": "code",
   "execution_count": 8,
   "metadata": {},
   "outputs": [
    {
     "name": "stdout",
     "output_type": "stream",
     "text": [
      "SpawnThreadManagers <backend.Pipeline object at 0x7fc6c942d520>\n",
      "\u001b[2m\u001b[36m(worker pid=28365)\u001b[0m in choose pipeline\n",
      "\u001b[2m\u001b[36m(worker pid=28365)\u001b[0m conflict (0.7, 0.3)\n",
      "\u001b[2m\u001b[36m(worker pid=28365)\u001b[0m conflict (0.7, 0.3)\n",
      "\u001b[2m\u001b[36m(worker pid=28365)\u001b[0m sum 1.0\n",
      "\u001b[2m\u001b[36m(worker pid=28365)\u001b[0m n_prob_trials [0, 0]\n",
      "\u001b[2m\u001b[36m(worker pid=28365)\u001b[0m calc_rew    left  right\n",
      "\u001b[2m\u001b[36m(worker pid=28365)\u001b[0m 0   0.0    0.0\n",
      "\u001b[2m\u001b[36m(worker pid=28365)\u001b[0m reward_list    left  right\n",
      "\u001b[2m\u001b[36m(worker pid=28365)\u001b[0m 0   0.0    0.0\n",
      "\u001b[2m\u001b[36m(worker pid=28365)\u001b[0m in choose pipeline\n",
      "\u001b[2m\u001b[36m(worker pid=28365)\u001b[0m conflict (0.7, 0.3)\n",
      "\u001b[2m\u001b[36m(worker pid=28365)\u001b[0m conflict (0.7, 0.3)\n",
      "\u001b[2m\u001b[36m(worker pid=28365)\u001b[0m sum 1.0\n",
      "\u001b[2m\u001b[36m(worker pid=28365)\u001b[0m n_prob_trials [0, 0]\n",
      "\u001b[2m\u001b[36m(worker pid=28365)\u001b[0m calc_rew    left  right\n",
      "\u001b[2m\u001b[36m(worker pid=28365)\u001b[0m 0   0.0    0.0\n",
      "\u001b[2m\u001b[36m(worker pid=28365)\u001b[0m reward_list    left  right\n",
      "\u001b[2m\u001b[36m(worker pid=28365)\u001b[0m 0   0.0    0.0\n",
      "\u001b[2m\u001b[36m(worker pid=28365)\u001b[0m scaling_conn 1.0\n",
      "\u001b[2m\u001b[36m(worker pid=28365)\u001b[0m scaling_wts 1\n",
      "SpawnThreadManagers <backend.Pipeline object at 0x7fc6c945b340>\n",
      "\u001b[2m\u001b[36m(worker pid=28365)\u001b[0m scaling_conn 1.0\n",
      "\u001b[2m\u001b[36m(worker pid=28365)\u001b[0m scaling_wts 1\n",
      "\u001b[2m\u001b[36m(worker pid=28365)\u001b[0m begin GenOptSchedule\n",
      "\u001b[2m\u001b[36m(worker pid=28365)\u001b[0m <class 'list'>\n",
      "\u001b[2m\u001b[36m(worker pid=28365)\u001b[0m [0]\n",
      "\u001b[2m\u001b[36m(worker pid=28365)\u001b[0m pop d\n",
      "\u001b[2m\u001b[36m(worker pid=28365)\u001b[0m True\n",
      "\u001b[2m\u001b[36m(worker pid=28365)\u001b[0m pop S\n",
      "\u001b[2m\u001b[36m(worker pid=28365)\u001b[0m True\n",
      "\u001b[2m\u001b[36m(worker pid=28365)\u001b[0m pop P\n",
      "\u001b[2m\u001b[36m(worker pid=28365)\u001b[0m True\n",
      "\u001b[2m\u001b[36m(worker pid=28365)\u001b[0m pop N\n",
      "\u001b[2m\u001b[36m(worker pid=28365)\u001b[0m True\n",
      "\u001b[2m\u001b[36m(worker pid=28365)\u001b[0m opt_amplitude_dfs [   left  right  trial_num\n",
      "\u001b[2m\u001b[36m(worker pid=28365)\u001b[0m 0  -0.5   -0.5          0]\n",
      "\u001b[2m\u001b[36m(worker pid=28365)\u001b[0m opt_df\n",
      "\u001b[2m\u001b[36m(worker pid=28365)\u001b[0m    opt_signal_present  ...  opt_signal_population\n",
      "\u001b[2m\u001b[36m(worker pid=28365)\u001b[0m 0               False  ...                   dSPN\n",
      "\u001b[2m\u001b[36m(worker pid=28365)\u001b[0m \n",
      "\u001b[2m\u001b[36m(worker pid=28365)\u001b[0m [1 rows x 4 columns]\n",
      "\u001b[2m\u001b[36m(worker pid=28365)\u001b[0m opt_channels_df\n",
      "\u001b[2m\u001b[36m(worker pid=28365)\u001b[0m [   left  right  trial_num\n",
      "\u001b[2m\u001b[36m(worker pid=28365)\u001b[0m 0  True   True          0]\n",
      "\u001b[2m\u001b[36m(worker pid=28365)\u001b[0m begin GenOptSchedule\n",
      "\u001b[2m\u001b[36m(worker pid=28365)\u001b[0m <class 'list'>\n",
      "\u001b[2m\u001b[36m(worker pid=28365)\u001b[0m [0]\n",
      "\u001b[2m\u001b[36m(worker pid=28365)\u001b[0m pop d\n",
      "\u001b[2m\u001b[36m(worker pid=28365)\u001b[0m True\n",
      "\u001b[2m\u001b[36m(worker pid=28365)\u001b[0m pop S\n",
      "\u001b[2m\u001b[36m(worker pid=28365)\u001b[0m True\n",
      "\u001b[2m\u001b[36m(worker pid=28365)\u001b[0m pop P\n",
      "\u001b[2m\u001b[36m(worker pid=28365)\u001b[0m True\n",
      "\u001b[2m\u001b[36m(worker pid=28365)\u001b[0m pop N\n",
      "\u001b[2m\u001b[36m(worker pid=28365)\u001b[0m True\n",
      "\u001b[2m\u001b[36m(worker pid=28365)\u001b[0m opt_amplitude_dfs [   left  right  trial_num\n",
      "\u001b[2m\u001b[36m(worker pid=28365)\u001b[0m 0  -0.5   -0.5          0]\n",
      "\u001b[2m\u001b[36m(worker pid=28365)\u001b[0m opt_df\n",
      "\u001b[2m\u001b[36m(worker pid=28365)\u001b[0m    opt_signal_present  ...  opt_signal_population\n",
      "\u001b[2m\u001b[36m(worker pid=28365)\u001b[0m 0               False  ...                   dSPN\n",
      "\u001b[2m\u001b[36m(worker pid=28365)\u001b[0m \n",
      "\u001b[2m\u001b[36m(worker pid=28365)\u001b[0m [1 rows x 4 columns]\n",
      "\u001b[2m\u001b[36m(worker pid=28365)\u001b[0m opt_channels_df\n",
      "\u001b[2m\u001b[36m(worker pid=28365)\u001b[0m [   left  right  trial_num\n",
      "\u001b[2m\u001b[36m(worker pid=28365)\u001b[0m 0  True   True          0]\n",
      "\u001b[2m\u001b[36m(worker pid=28365)\u001b[0m scaling_conn 1.0\n",
      "\u001b[2m\u001b[36m(worker pid=28365)\u001b[0m scaling_wts 1\n",
      "\u001b[2m\u001b[36m(worker pid=28365)\u001b[0m scaling_conn 1.0\n",
      "\u001b[2m\u001b[36m(worker pid=28365)\u001b[0m scaling_wts 1\n",
      "SpawnThreadManagers <backend.Pipeline object at 0x7fc6c9458880>\n",
      "\u001b[2m\u001b[36m(worker pid=28365)\u001b[0m q_support None\n",
      "\u001b[2m\u001b[36m(worker pid=28365)\u001b[0m 0    80.0`\n",
      "\u001b[2m\u001b[36m(worker pid=28365)\u001b[0m Name: C_scale, dtype: object\n",
      "\u001b[2m\u001b[36m(worker pid=28365)\u001b[0m q_support None\n",
      "\u001b[2m\u001b[36m(worker pid=28365)\u001b[0m 0    80.0`\n",
      "\u001b[2m\u001b[36m(worker pid=28365)\u001b[0m Name: C_scale, dtype: object\n"
     ]
    },
    {
     "name": "stderr",
     "output_type": "stream",
     "text": [
      "\u001b[2m\u001b[36m(worker pid=28365)\u001b[0m /Users/cristina/Desktop/CBGTPy_release/CBGTPy/qvalues.py:105: FutureWarning: The frame.append method is deprecated and will be removed from pandas in a future version. Use pandas.concat instead.\n",
      "\u001b[2m\u001b[36m(worker pid=28365)\u001b[0m   Q_df = Q_df.append(\n",
      "\u001b[2m\u001b[36m(worker pid=28365)\u001b[0m /Users/cristina/Desktop/CBGTPy_release/CBGTPy/qvalues.py:121: FutureWarning: The frame.append method is deprecated and will be removed from pandas in a future version. Use pandas.concat instead.\n",
      "\u001b[2m\u001b[36m(worker pid=28365)\u001b[0m   Q_df = Q_df.append(\n",
      "\u001b[2m\u001b[36m(worker pid=28365)\u001b[0m /Users/cristina/Desktop/CBGTPy_release/CBGTPy/qvalues.py:105: FutureWarning: The frame.append method is deprecated and will be removed from pandas in a future version. Use pandas.concat instead.\n",
      "\u001b[2m\u001b[36m(worker pid=28365)\u001b[0m   Q_df = Q_df.append(\n",
      "\u001b[2m\u001b[36m(worker pid=28365)\u001b[0m /Users/cristina/Desktop/CBGTPy_release/CBGTPy/qvalues.py:121: FutureWarning: The frame.append method is deprecated and will be removed from pandas in a future version. Use pandas.concat instead.\n",
      "\u001b[2m\u001b[36m(worker pid=28365)\u001b[0m   Q_df = Q_df.append(\n"
     ]
    },
    {
     "name": "stdout",
     "output_type": "stream",
     "text": [
      "\u001b[2m\u001b[36m(worker pid=28365)\u001b[0m agent.opt_popids [array([6, 7])]\n",
      "\u001b[2m\u001b[36m(worker pid=28365)\u001b[0m agent.opt_popids [array([6, 7])]\n",
      "\u001b[2m\u001b[36m(worker pid=28365)\u001b[0m phasetimer 218\n",
      "\u001b[2m\u001b[36m(worker pid=28365)\u001b[0m gateFRs [30.44444444 23.33333333]\n",
      "\u001b[2m\u001b[36m(worker pid=28365)\u001b[0m thresholds_crossed [0]\n",
      "\u001b[2m\u001b[36m(worker pid=28365)\u001b[0m phasetimer 218\n",
      "\u001b[2m\u001b[36m(worker pid=28365)\u001b[0m gateFRs [30.44444444 23.33333333]\n",
      "\u001b[2m\u001b[36m(worker pid=28365)\u001b[0m thresholds_crossed [0]\n",
      "\u001b[2m\u001b[36m(worker pid=28365)\u001b[0m trial_num 0\n",
      "\u001b[2m\u001b[36m(worker pid=28365)\u001b[0m chosen_action left\n",
      "\u001b[2m\u001b[36m(worker pid=28365)\u001b[0m scaled dopamine signal -40.0\n",
      "\u001b[2m\u001b[36m(worker pid=28365)\u001b[0m trial_num 0\n",
      "\u001b[2m\u001b[36m(worker pid=28365)\u001b[0m chosen_action left\n",
      "\u001b[2m\u001b[36m(worker pid=28365)\u001b[0m scaled dopamine signal -40.0\n"
     ]
    }
   ],
   "source": [
    "results = cbgt.ExecutionManager(cores=num_cores).run([pl]*num_sims,[configuration]*num_sims)\n"
   ]
  },
  {
   "cell_type": "code",
   "execution_count": null,
   "metadata": {},
   "outputs": [],
   "source": [
    "# List all the agent variables accessible\n",
    "results[0].keys()"
   ]
  },
  {
   "cell_type": "code",
   "execution_count": null,
   "metadata": {},
   "outputs": [],
   "source": [
    "results[0]['meaneff_GABA']"
   ]
  },
  {
   "cell_type": "code",
   "execution_count": null,
   "metadata": {},
   "outputs": [],
   "source": [
    "results[0]['conflict']"
   ]
  },
  {
   "cell_type": "code",
   "execution_count": null,
   "metadata": {},
   "outputs": [],
   "source": [
    "results[0]['Q_df']"
   ]
  },
  {
   "cell_type": "code",
   "execution_count": null,
   "metadata": {},
   "outputs": [],
   "source": []
  },
  {
   "cell_type": "code",
   "execution_count": null,
   "metadata": {},
   "outputs": [],
   "source": [
    "experiment_choice"
   ]
  },
  {
   "cell_type": "code",
   "execution_count": null,
   "metadata": {},
   "outputs": [],
   "source": [
    "#Extract all the relevant dataframes\n",
    "firing_rates, reward_q_df, performance, rt_dist, total_performance = plt_help.extract_relevant_frames(results,seed,experiment_choice)"
   ]
  },
  {
   "cell_type": "code",
   "execution_count": null,
   "metadata": {},
   "outputs": [],
   "source": [
    "results[0]['popfreqs']"
   ]
  },
  {
   "cell_type": "code",
   "execution_count": null,
   "metadata": {},
   "outputs": [],
   "source": [
    "# firing rates  \n",
    "firing_rates[0]"
   ]
  },
  {
   "cell_type": "code",
   "execution_count": null,
   "metadata": {},
   "outputs": [],
   "source": [
    "performance"
   ]
  },
  {
   "cell_type": "code",
   "execution_count": null,
   "metadata": {},
   "outputs": [],
   "source": [
    "recorded_variables = post_help.extract_recording_variables(results,results[0]['record_variables'],seed)"
   ]
  },
  {
   "cell_type": "code",
   "execution_count": null,
   "metadata": {},
   "outputs": [],
   "source": [
    "recorded_variables['weight']"
   ]
  },
  {
   "cell_type": "code",
   "execution_count": null,
   "metadata": {},
   "outputs": [],
   "source": [
    "# recorded_variables['optogenetic_input']"
   ]
  },
  {
   "cell_type": "code",
   "execution_count": null,
   "metadata": {},
   "outputs": [],
   "source": [
    "import seaborn as sns\n",
    "import pylab as pl\n",
    "sns.pointplot(x=\"trials\",y=\"weights\",hue=\"nuclei\",data=recorded_variables['weight'])\n"
   ]
  },
  {
   "cell_type": "code",
   "execution_count": null,
   "metadata": {},
   "outputs": [],
   "source": [
    "pl.figure()\n",
    "sns.lineplot(x=\"Time(ms)\",y=\"D1STR_left\",data=recorded_variables['optogenetic_input'],hue='seed')"
   ]
  },
  {
   "cell_type": "code",
   "execution_count": null,
   "metadata": {},
   "outputs": [],
   "source": []
  },
  {
   "cell_type": "code",
   "execution_count": null,
   "metadata": {},
   "outputs": [],
   "source": [
    "# Relevant reward_dataframe\n",
    "reward_q_df[0]"
   ]
  },
  {
   "cell_type": "code",
   "execution_count": null,
   "metadata": {},
   "outputs": [],
   "source": [
    "performance"
   ]
  },
  {
   "cell_type": "code",
   "execution_count": null,
   "metadata": {},
   "outputs": [],
   "source": [
    "# Extract the data tables from the agent\n",
    "datatables = cbgt.collateVariable(results,'datatables')\n",
    "datatables[0][\"decisiondurationplusdelay\"]-datatables[0][\"decisionduration\"]"
   ]
  },
  {
   "cell_type": "code",
   "execution_count": null,
   "metadata": {},
   "outputs": [],
   "source": [
    "datatables[0]"
   ]
  },
  {
   "cell_type": "code",
   "execution_count": null,
   "metadata": {},
   "outputs": [],
   "source": [
    "# Check the Q-values data frame\n",
    "results[0]['Q_df']"
   ]
  },
  {
   "cell_type": "code",
   "execution_count": null,
   "metadata": {},
   "outputs": [],
   "source": [
    "# postfix = \"weak_GPi_inh\"\n",
    "postfix = \"\""
   ]
  },
  {
   "cell_type": "code",
   "execution_count": null,
   "metadata": {},
   "outputs": [],
   "source": [
    "#Save the selected variables of results in the data_dir specified\n",
    "cbgt.saveResults(results,data_dir+'network_data_'+postfix+'_'+str(seed)+'.pickle',['popfreqs','popdata','Q_support_params','d1','d2','dpmns','datatables'])\n"
   ]
  },
  {
   "cell_type": "code",
   "execution_count": null,
   "metadata": {},
   "outputs": [],
   "source": [
    "firing_rates[0].to_csv(data_dir+\"firing_rates_\"+postfix+\".csv\")\n",
    "reward_q_df[0].to_csv(data_dir+\"reward_df_\"+postfix+\".csv\")\n",
    "performance.to_csv(data_dir+\"performance_\"+postfix+\".csv\")\n",
    "rt_dist.to_csv(data_dir+\"rt_dist_\"+postfix+\".csv\")\n",
    "total_performance.to_csv(data_dir+\"total_performance_\"+postfix+\".csv\")"
   ]
  },
  {
   "cell_type": "code",
   "execution_count": null,
   "metadata": {},
   "outputs": [],
   "source": [
    "reward_q_df"
   ]
  },
  {
   "cell_type": "code",
   "execution_count": null,
   "metadata": {},
   "outputs": [],
   "source": []
  },
  {
   "cell_type": "code",
   "execution_count": null,
   "metadata": {},
   "outputs": [],
   "source": [
    "# Plot the firing rates extracted, figure handles are returned in fig_handles\n",
    "\n",
    "FR_fig_handles = plt_func.plot_fr(firing_rates,datatables,experiment_choice)\n",
    "FR_fig_handles[0].savefig(figure_dir+\"Example_FR_\"+postfix+\".png\",dpi=400)"
   ]
  },
  {
   "cell_type": "code",
   "execution_count": null,
   "metadata": {
    "scrolled": false
   },
   "outputs": [],
   "source": [
    "FR_fig_handles_zoom = plt_func.plot_fr_flex(firing_rates[0],datatables[0],['all'], [], (0, 500)) "
   ]
  },
  {
   "cell_type": "code",
   "execution_count": null,
   "metadata": {},
   "outputs": [],
   "source": []
  },
  {
   "cell_type": "code",
   "execution_count": null,
   "metadata": {},
   "outputs": [],
   "source": [
    "reward_fig_handles = plt_func.plot_reward_Q_df(reward_q_df)"
   ]
  },
  {
   "cell_type": "code",
   "execution_count": null,
   "metadata": {},
   "outputs": [],
   "source": []
  },
  {
   "cell_type": "code",
   "execution_count": null,
   "metadata": {},
   "outputs": [],
   "source": []
  },
  {
   "cell_type": "code",
   "execution_count": null,
   "metadata": {},
   "outputs": [],
   "source": []
  },
  {
   "cell_type": "code",
   "execution_count": null,
   "metadata": {},
   "outputs": [],
   "source": []
  },
  {
   "cell_type": "code",
   "execution_count": null,
   "metadata": {},
   "outputs": [],
   "source": []
  },
  {
   "cell_type": "code",
   "execution_count": null,
   "metadata": {},
   "outputs": [],
   "source": []
  },
  {
   "cell_type": "code",
   "execution_count": null,
   "metadata": {},
   "outputs": [],
   "source": []
  },
  {
   "cell_type": "code",
   "execution_count": null,
   "metadata": {},
   "outputs": [],
   "source": []
  },
  {
   "cell_type": "code",
   "execution_count": null,
   "metadata": {},
   "outputs": [],
   "source": []
  }
 ],
 "metadata": {
  "kernelspec": {
   "display_name": "Python 3 (ipykernel)",
   "language": "python",
   "name": "python3"
  },
  "language_info": {
   "codemirror_mode": {
    "name": "ipython",
    "version": 3
   },
   "file_extension": ".py",
   "mimetype": "text/x-python",
   "name": "python",
   "nbconvert_exporter": "python",
   "pygments_lexer": "ipython3",
   "version": "3.8.16"
  }
 },
 "nbformat": 4,
 "nbformat_minor": 4
}
