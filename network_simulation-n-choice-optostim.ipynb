{
 "cells": [
  {
   "cell_type": "markdown",
   "metadata": {},
   "source": [
    "### To run the cbgt network, see first the technical_testbench to install all the required packages and start the server "
   ]
  },
  {
   "cell_type": "code",
   "execution_count": 11,
   "metadata": {},
   "outputs": [],
   "source": [
    "#Auto reloading \n",
    "# %load_ext autoreload\n",
    "\n",
    "\n",
    "# %autoreload\n",
    "# %reload_ext autoreload "
   ]
  },
  {
   "cell_type": "code",
   "execution_count": 12,
   "metadata": {},
   "outputs": [],
   "source": [
    "#Removing indentation issues:\n",
    "#!autopep8 --in-place --aggressive --aggressive init_params.py\n",
    "#!autopep8 --in-place --aggressive --aggressive popconstruct.py\n",
    "#!autopep8 --in-place --aggressive --aggressive generateepochs.py\n",
    "#!autopep8 --in-place --aggressive --aggressive qvalues.py"
   ]
  },
  {
   "cell_type": "markdown",
   "metadata": {},
   "source": [
    "# Compile the main simulator code using cython "
   ]
  },
  {
   "cell_type": "code",
   "execution_count": 13,
   "metadata": {},
   "outputs": [
    {
     "name": "stdout",
     "output_type": "stream",
     "text": [
      "running build_ext\n",
      "running build_ext\n"
     ]
    }
   ],
   "source": [
    "!python setup.py build_ext --inplace"
   ]
  },
  {
   "cell_type": "markdown",
   "metadata": {},
   "source": [
    "# Import all the relevant files "
   ]
  },
  {
   "cell_type": "code",
   "execution_count": 14,
   "metadata": {},
   "outputs": [
    {
     "data": {
      "text/plain": [
       "<module 'postprocessing_helpers' from '/home/jyotika/Work/CBGTPy_release/CBGTPy/postprocessing_helpers.py'>"
      ]
     },
     "execution_count": 14,
     "metadata": {},
     "output_type": "execute_result"
    }
   ],
   "source": [
    "# Import the pipeline creation object\n",
    "import pandas as pd\n",
    "import numpy as np\n",
    "import cbgt as cbgt\n",
    "import pipeline_creation as pl_creat\n",
    "import plotting_functions as plt_func\n",
    "import plotting_helper_functions as plt_help\n",
    "import postprocessing_helpers as post_help\n",
    "\n",
    "\n",
    "import importlib\n",
    "\n",
    "importlib.reload(plt_help)\n",
    "importlib.reload(plt_func)\n",
    "importlib.reload(post_help)"
   ]
  },
  {
   "cell_type": "markdown",
   "metadata": {},
   "source": [
    "# Choose the experiment and create the main pipeline"
   ]
  },
  {
   "cell_type": "code",
   "execution_count": 15,
   "metadata": {},
   "outputs": [
    {
     "name": "stdout",
     "output_type": "stream",
     "text": [
      "in choose pipeline\n",
      "in reward pipeline\n",
      "<backend.VariablePlaceholder object at 0x7f0b5a3aa0a0>\n",
      "<backend.VariablePlaceholder object at 0x7f0b5a320310>\n",
      "<backend.VariablePlaceholder object at 0x7f0b5a381850>\n",
      "8867366\n"
     ]
    }
   ],
   "source": [
    "# Choose the experiment\n",
    "experiment_choice = \"n-choice\"\n",
    "number_of_choices = 3\n",
    "# Call choose_pipeline with the pipeline object\n",
    "pl_creat.choose_pipeline(experiment_choice)\n",
    "\n",
    "#Create the main pipeline\n",
    "pl = pl_creat.create_main_pipeline(runloop=True)\n",
    "\n",
    "# how many simulations do you want to run ? each simulation is executed as a seperate thread\n",
    "\n",
    "num_sims = 1\n",
    "\n",
    "num_cores = 7\n",
    "# set a seed\n",
    "import time\n",
    "np.random.seed(int(time.time()))\n",
    "#seed = np.random.choice(np.random.randint(0,9999999,100),1)[0]\n",
    "seed = 8867366\n",
    "print(seed)\n"
   ]
  },
  {
   "cell_type": "code",
   "execution_count": null,
   "metadata": {},
   "outputs": [],
   "source": []
  },
  {
   "cell_type": "code",
   "execution_count": 16,
   "metadata": {},
   "outputs": [],
   "source": [
    "\n",
    "# Define the data and figure directory\n",
    "\n",
    "data_dir = \"./Data/\"\n",
    "figure_dir = \"./Figures/\"\n"
   ]
  },
  {
   "cell_type": "code",
   "execution_count": null,
   "metadata": {},
   "outputs": [],
   "source": [
    "\n"
   ]
  },
  {
   "cell_type": "markdown",
   "metadata": {},
   "source": [
    "# Running the pipeline"
   ]
  },
  {
   "cell_type": "markdown",
   "metadata": {},
   "source": [
    "### 1. Default values of environment variable"
   ]
  },
  {
   "cell_type": "code",
   "execution_count": 17,
   "metadata": {},
   "outputs": [],
   "source": [
    "#See init_params.py / generateepochs.py / popconstruct.py / qvalues.py\n",
    "#to know the parameters contained in each of the following variables \n",
    "configuration = {\n",
    "    'experimentchoice': experiment_choice,\n",
    "    'inter_trial_interval': None, # default = 600ms\n",
    "    'thalamic_threshold': None, # default 30sp/s\n",
    "    'movement_time':None,# #default sampled from N(250,1.5), [\"constant\",250], [\"mean\",250]\n",
    "    'choice_timeout':None, #wait for a choice to be made, default 1000, \n",
    "    'params': None, #neuron parameters (init_params.py)\n",
    "    'pops': None,   #population parameters (init_params.py)\n",
    "    'receps' : None, #receptor parameters (init_params.py)\n",
    "    'base' : None, #baseline stimulation parameters (init_params.py)\n",
    "    'dpmns' : None, #dopamine related parameters (init_params.py)\n",
    "    #'dpmns' : pd.DataFrame([0.05], columns=['dpmn_wmax']),\n",
    "    #'d1' : None, #D1-MSNs population related parameters (init_params.py)\n",
    "    'd1': None,#pd.DataFrame([[39.5,0.055]], columns=['dpmn_alphaw','dpmn_wmax']),\n",
    "    'd2': None, #pd.DataFrame([[-38.2,0.035]], columns=['dpmn_alphaw','dpmn_wmax']),\n",
    "        'channels' : pd.DataFrame([[\"A\"],[\"B\"],[\"C\"]], columns=['action']), #action channels related parameters (init_params.py)\n",
    "    'number_of_choices':number_of_choices,\n",
    "    #'actionchannels' : pd.DataFrame([[1],[2]], columns=['action']), #labels for the actions (init_params.py)\n",
    "    #'actionchannels' : pd.DataFrame([[\"left\"],[\"right\"]], columns=['action']), #labels for the actions (init_params.py)\n",
    "    'newpathways' :None,\n",
    "    'Q_support_params': None,#pd.DataFrame([[85,0.6]],columns=['dpmn_CPP_scale','q_alpha']), #initialization of Q-values update (qvalues.py) \n",
    "    'Q_df_set':pd.DataFrame([[0.5, 0.5,0.5]],columns=[\"A\",\"B\",\"C\"]), #initialized Q-values df (qvalues.py)  \n",
    "    'n_trials': 3, #number of trials (generateepochs.py)\n",
    "    'volatility': [1,\"exact\"], #frequency of changepoints and type of change points (exact or poisson) (generateepochs.py)\n",
    "    'conflict': (0.7, 0.3,0.4), #probability of the preferred choice (generateepochs.py)\n",
    "    'reward_mu': 1, #mean for the magnitude of the reward (generateepochs.py)\n",
    "    'reward_std': 0.01, #std for the magnitude of the reward (generateepochs.py)\n",
    "    'maxstim': 0.8, # 3 instead? how much stimulus the LIP gets at maximum\n",
    "    'corticostriatal_plasticity_present':False, # whether plasticity is on or \"off\" at corticostriatal synapses\n",
    "    'record_variables':[\"weight\",\"optogenetic_input\"],#\"optogenetic_input\"],\n",
    "    'opt_signal_present':True,\n",
    "    'opt_signal_probability':1, # probability of trials that will get the optogenetic signal / list of trial numbers\n",
    "    'opt_signal_amplitude':-0.5, # ampitude of the stop signal over base line\n",
    "    'opt_signal_onset':10., # in ms\n",
    "    'opt_signal_duration':1000.,\n",
    "    'opt_signal_channel': \"all\", # \"all\" (all channels are given the stop signal) \n",
    "    'opt_signal_population':[\"D1STR\"],\n",
    "    'sustainedfraction':0.7\n",
    "                                #/\"any\" (channel given the stop signal is chosen randomly)\n",
    "                                # [list of channels] == subset of channels given the stop signal\n",
    "    \n",
    "}\n"
   ]
  },
  {
   "cell_type": "markdown",
   "metadata": {},
   "source": [
    "### Run the simulation - 1 thread with the environment variable"
   ]
  },
  {
   "cell_type": "code",
   "execution_count": 18,
   "metadata": {},
   "outputs": [],
   "source": [
    "# pl.modulelist"
   ]
  },
  {
   "cell_type": "code",
   "execution_count": 19,
   "metadata": {},
   "outputs": [
    {
     "name": "stdout",
     "output_type": "stream",
     "text": [
      "SpawnThreadManagers <backend.Pipeline object at 0x7f0b5a3aa0d0>\n",
      "\u001b[2m\u001b[36m(worker pid=37130)\u001b[0m in choose pipeline\n",
      "\u001b[2m\u001b[36m(worker pid=37130)\u001b[0m change points: [0 1 2 2]\n",
      "\u001b[2m\u001b[36m(worker pid=37130)\u001b[0m conflict (0.7, 0.3, 0.4)\n",
      "\u001b[2m\u001b[36m(worker pid=37130)\u001b[0m conflict (0.7, 0.3, 0.4)\n",
      "\u001b[2m\u001b[36m(worker pid=37130)\u001b[0m sum 1.4\n",
      "\u001b[2m\u001b[36m(worker pid=37130)\u001b[0m n_prob_trials [0, 0, 0]\n",
      "\u001b[2m\u001b[36m(worker pid=37130)\u001b[0m calc_rew \n",
      "\u001b[2m\u001b[36m(worker pid=37130)\u001b[0m in choose pipeline\n",
      "\u001b[2m\u001b[36m(worker pid=37130)\u001b[0m change points: [0 1 2 2]\n",
      "\u001b[2m\u001b[36m(worker pid=37130)\u001b[0m conflict (0.7, 0.3, 0.4)\n",
      "\u001b[2m\u001b[36m(worker pid=37130)\u001b[0m conflict (0.7, 0.3, 0.4)\n",
      "\u001b[2m\u001b[36m(worker pid=37130)\u001b[0m sum 1.4\n",
      "\u001b[2m\u001b[36m(worker pid=37130)\u001b[0m n_prob_trials [0, 0, 0]\n",
      "\u001b[2m\u001b[36m(worker pid=37130)\u001b[0m calc_rew      A    B    C\n",
      "\u001b[2m\u001b[36m(worker pid=37130)\u001b[0m 0  0.0  0.0  0.0\n",
      "\u001b[2m\u001b[36m(worker pid=37130)\u001b[0m reward_list      A    B    C\n",
      "\u001b[2m\u001b[36m(worker pid=37130)\u001b[0m 0  0.0  0.0  0.0\n",
      "\u001b[2m\u001b[36m(worker pid=37130)\u001b[0m conflict (0.7, 0.3, 0.4)\n",
      "\u001b[2m\u001b[36m(worker pid=37130)\u001b[0m sum 1.4\n",
      "\u001b[2m\u001b[36m(worker pid=37130)\u001b[0m n_prob_trials [0, 0, 0]\n",
      "\u001b[2m\u001b[36m(worker pid=37130)\u001b[0m calc_rew      B    C    A\n",
      "\u001b[2m\u001b[36m(worker pid=37130)\u001b[0m 0  0.0  0.0  0.0\n",
      "\u001b[2m\u001b[36m(worker pid=37130)\u001b[0m reward_list      B    C    A\n",
      "\u001b[2m\u001b[36m(worker pid=37130)\u001b[0m 0  0.0  0.0  0.0\n",
      "\u001b[2m\u001b[36m(worker pid=37130)\u001b[0m      A    B    C\n",
      "\u001b[2m\u001b[36m(worker pid=37130)\u001b[0m 0  0.0  0.0  0.0\n",
      "\u001b[2m\u001b[36m(worker pid=37130)\u001b[0m reward_list      A    B    C\n",
      "\u001b[2m\u001b[36m(worker pid=37130)\u001b[0m 0  0.0  0.0  0.0\n",
      "\u001b[2m\u001b[36m(worker pid=37130)\u001b[0m conflict (0.7, 0.3, 0.4)\n",
      "\u001b[2m\u001b[36m(worker pid=37130)\u001b[0m sum 1.4\n",
      "\u001b[2m\u001b[36m(worker pid=37130)\u001b[0m n_prob_trials [0, 0, 0]\n",
      "\u001b[2m\u001b[36m(worker pid=37130)\u001b[0m calc_rew      B    C    A\n",
      "\u001b[2m\u001b[36m(worker pid=37130)\u001b[0m 0  0.0  0.0  0.0\n",
      "\u001b[2m\u001b[36m(worker pid=37130)\u001b[0m reward_list      B    C    A\n",
      "\u001b[2m\u001b[36m(worker pid=37130)\u001b[0m 0  0.0  0.0  0.0\n",
      "SpawnThreadManagers <backend.Pipeline object at 0x7f0b5a3aaa60>\n",
      "\u001b[2m\u001b[36m(worker pid=37130)\u001b[0m scaling_conn 0.6666666666666666\n",
      "\u001b[2m\u001b[36m(worker pid=37130)\u001b[0m scaling_wts 1\n",
      "\u001b[2m\u001b[36m(worker pid=37130)\u001b[0m begin GenOptSchedule\n"
     ]
    },
    {
     "ename": "RayTaskError(UnboundLocalError)",
     "evalue": "\u001b[36mray::worker()\u001b[39m (pid=37130, ip=172.26.52.164)\n  File \"/home/jyotika/Work/CBGTPy_release/CBGTPy/backend.py\", line 12, in worker\n    return module(configuration)\n  File \"/home/jyotika/Work/CBGTPy_release/CBGTPy/backend.py\", line 145, in Payload\n    result = self.bodyfunc(*array, **dictionary)\n  File \"/home/jyotika/Work/CBGTPy_release/CBGTPy/generate_opt_dataframe.py\", line 96, in GenOptSchedule\n    opt_df, opt_channels_df, opt_amplitude_df, opt_onset_df,opt_duration_df,opt_populations_df,opt_list_trials = define_opt(\n  File \"/home/jyotika/Work/CBGTPy_release/CBGTPy/generate_opt_dataframe.py\", line 66, in define_opt\n    opt_list_trials = trials_with_opt_signal\nUnboundLocalError: local variable 'trials_with_opt_signal' referenced before assignment",
     "output_type": "error",
     "traceback": [
      "\u001b[0;31m---------------------------------------------------------------------------\u001b[0m",
      "\u001b[0;31mRayTaskError(UnboundLocalError)\u001b[0m           Traceback (most recent call last)",
      "\u001b[0;32m/tmp/ipykernel_36966/2189649349.py\u001b[0m in \u001b[0;36m<module>\u001b[0;34m\u001b[0m\n\u001b[0;32m----> 1\u001b[0;31m \u001b[0mresults\u001b[0m \u001b[0;34m=\u001b[0m \u001b[0mcbgt\u001b[0m\u001b[0;34m.\u001b[0m\u001b[0mExecutionManager\u001b[0m\u001b[0;34m(\u001b[0m\u001b[0mcores\u001b[0m\u001b[0;34m=\u001b[0m\u001b[0mnum_cores\u001b[0m\u001b[0;34m)\u001b[0m\u001b[0;34m.\u001b[0m\u001b[0mrun\u001b[0m\u001b[0;34m(\u001b[0m\u001b[0;34m[\u001b[0m\u001b[0mpl\u001b[0m\u001b[0;34m]\u001b[0m\u001b[0;34m*\u001b[0m\u001b[0mnum_sims\u001b[0m\u001b[0;34m,\u001b[0m\u001b[0;34m[\u001b[0m\u001b[0mconfiguration\u001b[0m\u001b[0;34m]\u001b[0m\u001b[0;34m*\u001b[0m\u001b[0mnum_sims\u001b[0m\u001b[0;34m)\u001b[0m\u001b[0;34m\u001b[0m\u001b[0;34m\u001b[0m\u001b[0m\n\u001b[0m",
      "\u001b[0;32m~/Work/CBGTPy_release/CBGTPy/backend.py\u001b[0m in \u001b[0;36mrun\u001b[0;34m(self, pipelines, configurations)\u001b[0m\n\u001b[1;32m    464\u001b[0m         \u001b[0mself\u001b[0m\u001b[0;34m.\u001b[0m\u001b[0mcyclethrough\u001b[0m\u001b[0;34m(\u001b[0m\u001b[0;34m)\u001b[0m\u001b[0;34m\u001b[0m\u001b[0;34m\u001b[0m\u001b[0m\n\u001b[1;32m    465\u001b[0m         \u001b[0;32mwhile\u001b[0m \u001b[0;32mnot\u001b[0m \u001b[0mself\u001b[0m\u001b[0;34m.\u001b[0m\u001b[0mallfinished\u001b[0m\u001b[0;34m(\u001b[0m\u001b[0mrootids\u001b[0m\u001b[0;34m)\u001b[0m\u001b[0;34m:\u001b[0m\u001b[0;34m\u001b[0m\u001b[0;34m\u001b[0m\u001b[0m\n\u001b[0;32m--> 466\u001b[0;31m             \u001b[0mself\u001b[0m\u001b[0;34m.\u001b[0m\u001b[0mconsumeQueue\u001b[0m\u001b[0;34m(\u001b[0m\u001b[0;34m)\u001b[0m\u001b[0;34m\u001b[0m\u001b[0;34m\u001b[0m\u001b[0m\n\u001b[0m\u001b[1;32m    467\u001b[0m             \u001b[0mself\u001b[0m\u001b[0;34m.\u001b[0m\u001b[0mcyclethrough\u001b[0m\u001b[0;34m(\u001b[0m\u001b[0;34m)\u001b[0m\u001b[0;34m\u001b[0m\u001b[0;34m\u001b[0m\u001b[0m\n\u001b[1;32m    468\u001b[0m \u001b[0;34m\u001b[0m\u001b[0m\n",
      "\u001b[0;32m~/Work/CBGTPy_release/CBGTPy/backend.py\u001b[0m in \u001b[0;36mconsumeQueue\u001b[0;34m(self)\u001b[0m\n\u001b[1;32m    414\u001b[0m             list(self.workerrefs.keys()), num_returns=1)\n\u001b[1;32m    415\u001b[0m         \u001b[0;31m#print(ready_ids)\u001b[0m\u001b[0;34m\u001b[0m\u001b[0;34m\u001b[0m\u001b[0;34m\u001b[0m\u001b[0m\n\u001b[0;32m--> 416\u001b[0;31m         \u001b[0mtaskfunctionresult\u001b[0m \u001b[0;34m=\u001b[0m \u001b[0mray\u001b[0m\u001b[0;34m.\u001b[0m\u001b[0mget\u001b[0m\u001b[0;34m(\u001b[0m\u001b[0mready_ids\u001b[0m\u001b[0;34m[\u001b[0m\u001b[0;36m0\u001b[0m\u001b[0;34m]\u001b[0m\u001b[0;34m)\u001b[0m\u001b[0;34m\u001b[0m\u001b[0;34m\u001b[0m\u001b[0m\n\u001b[0m\u001b[1;32m    417\u001b[0m         \u001b[0mqid\u001b[0m \u001b[0;34m=\u001b[0m \u001b[0mself\u001b[0m\u001b[0;34m.\u001b[0m\u001b[0mworkerrefs\u001b[0m\u001b[0;34m.\u001b[0m\u001b[0mpop\u001b[0m\u001b[0;34m(\u001b[0m\u001b[0mready_ids\u001b[0m\u001b[0;34m[\u001b[0m\u001b[0;36m0\u001b[0m\u001b[0;34m]\u001b[0m\u001b[0;34m)\u001b[0m\u001b[0;34m\u001b[0m\u001b[0;34m\u001b[0m\u001b[0m\n\u001b[1;32m    418\u001b[0m         \u001b[0mself\u001b[0m\u001b[0;34m.\u001b[0m\u001b[0mtaskfunctionresults\u001b[0m\u001b[0;34m[\u001b[0m\u001b[0mqid\u001b[0m\u001b[0;34m]\u001b[0m \u001b[0;34m=\u001b[0m \u001b[0mtaskfunctionresult\u001b[0m\u001b[0;34m\u001b[0m\u001b[0;34m\u001b[0m\u001b[0m\n",
      "\u001b[0;32m~/Utils/envs/cbgt_env3.8/lib/python3.8/site-packages/ray/_private/client_mode_hook.py\u001b[0m in \u001b[0;36mwrapper\u001b[0;34m(*args, **kwargs)\u001b[0m\n\u001b[1;32m    103\u001b[0m             \u001b[0;32mif\u001b[0m \u001b[0mfunc\u001b[0m\u001b[0;34m.\u001b[0m\u001b[0m__name__\u001b[0m \u001b[0;34m!=\u001b[0m \u001b[0;34m\"init\"\u001b[0m \u001b[0;32mor\u001b[0m \u001b[0mis_client_mode_enabled_by_default\u001b[0m\u001b[0;34m:\u001b[0m\u001b[0;34m\u001b[0m\u001b[0;34m\u001b[0m\u001b[0m\n\u001b[1;32m    104\u001b[0m                 \u001b[0;32mreturn\u001b[0m \u001b[0mgetattr\u001b[0m\u001b[0;34m(\u001b[0m\u001b[0mray\u001b[0m\u001b[0;34m,\u001b[0m \u001b[0mfunc\u001b[0m\u001b[0;34m.\u001b[0m\u001b[0m__name__\u001b[0m\u001b[0;34m)\u001b[0m\u001b[0;34m(\u001b[0m\u001b[0;34m*\u001b[0m\u001b[0margs\u001b[0m\u001b[0;34m,\u001b[0m \u001b[0;34m**\u001b[0m\u001b[0mkwargs\u001b[0m\u001b[0;34m)\u001b[0m\u001b[0;34m\u001b[0m\u001b[0;34m\u001b[0m\u001b[0m\n\u001b[0;32m--> 105\u001b[0;31m         \u001b[0;32mreturn\u001b[0m \u001b[0mfunc\u001b[0m\u001b[0;34m(\u001b[0m\u001b[0;34m*\u001b[0m\u001b[0margs\u001b[0m\u001b[0;34m,\u001b[0m \u001b[0;34m**\u001b[0m\u001b[0mkwargs\u001b[0m\u001b[0;34m)\u001b[0m\u001b[0;34m\u001b[0m\u001b[0;34m\u001b[0m\u001b[0m\n\u001b[0m\u001b[1;32m    106\u001b[0m \u001b[0;34m\u001b[0m\u001b[0m\n\u001b[1;32m    107\u001b[0m     \u001b[0;32mreturn\u001b[0m \u001b[0mwrapper\u001b[0m\u001b[0;34m\u001b[0m\u001b[0;34m\u001b[0m\u001b[0m\n",
      "\u001b[0;32m~/Utils/envs/cbgt_env3.8/lib/python3.8/site-packages/ray/worker.py\u001b[0m in \u001b[0;36mget\u001b[0;34m(object_refs, timeout)\u001b[0m\n\u001b[1;32m   1711\u001b[0m                     \u001b[0mworker\u001b[0m\u001b[0;34m.\u001b[0m\u001b[0mcore_worker\u001b[0m\u001b[0;34m.\u001b[0m\u001b[0mdump_object_store_memory_usage\u001b[0m\u001b[0;34m(\u001b[0m\u001b[0;34m)\u001b[0m\u001b[0;34m\u001b[0m\u001b[0;34m\u001b[0m\u001b[0m\n\u001b[1;32m   1712\u001b[0m                 \u001b[0;32mif\u001b[0m \u001b[0misinstance\u001b[0m\u001b[0;34m(\u001b[0m\u001b[0mvalue\u001b[0m\u001b[0;34m,\u001b[0m \u001b[0mRayTaskError\u001b[0m\u001b[0;34m)\u001b[0m\u001b[0;34m:\u001b[0m\u001b[0;34m\u001b[0m\u001b[0;34m\u001b[0m\u001b[0m\n\u001b[0;32m-> 1713\u001b[0;31m                     \u001b[0;32mraise\u001b[0m \u001b[0mvalue\u001b[0m\u001b[0;34m.\u001b[0m\u001b[0mas_instanceof_cause\u001b[0m\u001b[0;34m(\u001b[0m\u001b[0;34m)\u001b[0m\u001b[0;34m\u001b[0m\u001b[0;34m\u001b[0m\u001b[0m\n\u001b[0m\u001b[1;32m   1714\u001b[0m                 \u001b[0;32melse\u001b[0m\u001b[0;34m:\u001b[0m\u001b[0;34m\u001b[0m\u001b[0;34m\u001b[0m\u001b[0m\n\u001b[1;32m   1715\u001b[0m                     \u001b[0;32mraise\u001b[0m \u001b[0mvalue\u001b[0m\u001b[0;34m\u001b[0m\u001b[0;34m\u001b[0m\u001b[0m\n",
      "\u001b[0;31mRayTaskError(UnboundLocalError)\u001b[0m: \u001b[36mray::worker()\u001b[39m (pid=37130, ip=172.26.52.164)\n  File \"/home/jyotika/Work/CBGTPy_release/CBGTPy/backend.py\", line 12, in worker\n    return module(configuration)\n  File \"/home/jyotika/Work/CBGTPy_release/CBGTPy/backend.py\", line 145, in Payload\n    result = self.bodyfunc(*array, **dictionary)\n  File \"/home/jyotika/Work/CBGTPy_release/CBGTPy/generate_opt_dataframe.py\", line 96, in GenOptSchedule\n    opt_df, opt_channels_df, opt_amplitude_df, opt_onset_df,opt_duration_df,opt_populations_df,opt_list_trials = define_opt(\n  File \"/home/jyotika/Work/CBGTPy_release/CBGTPy/generate_opt_dataframe.py\", line 66, in define_opt\n    opt_list_trials = trials_with_opt_signal\nUnboundLocalError: local variable 'trials_with_opt_signal' referenced before assignment"
     ]
    },
    {
     "name": "stdout",
     "output_type": "stream",
     "text": [
      "\u001b[2m\u001b[36m(worker pid=37130)\u001b[0m scaling_conn 0.6666666666666666\n",
      "\u001b[2m\u001b[36m(worker pid=37130)\u001b[0m scaling_wts 1\n",
      "\u001b[2m\u001b[36m(worker pid=37130)\u001b[0m begin GenOptSchedule\n",
      "\u001b[2m\u001b[36m(worker pid=37130)\u001b[0m <class 'int'>\n",
      "\u001b[2m\u001b[36m(worker pid=37130)\u001b[0m <class 'int'>\n"
     ]
    }
   ],
   "source": [
    "results = cbgt.ExecutionManager(cores=num_cores).run([pl]*num_sims,[configuration]*num_sims)\n"
   ]
  },
  {
   "cell_type": "code",
   "execution_count": null,
   "metadata": {},
   "outputs": [],
   "source": [
    "# List all the agent variables accessible\n",
    "results[0].keys()"
   ]
  },
  {
   "cell_type": "code",
   "execution_count": null,
   "metadata": {},
   "outputs": [],
   "source": [
    "results[0]['meaneff_GABA']"
   ]
  },
  {
   "cell_type": "code",
   "execution_count": null,
   "metadata": {},
   "outputs": [],
   "source": [
    "results[0]['conflict']"
   ]
  },
  {
   "cell_type": "code",
   "execution_count": null,
   "metadata": {},
   "outputs": [],
   "source": [
    "results[0]['Q_df']"
   ]
  },
  {
   "cell_type": "code",
   "execution_count": null,
   "metadata": {},
   "outputs": [],
   "source": []
  },
  {
   "cell_type": "code",
   "execution_count": null,
   "metadata": {},
   "outputs": [],
   "source": [
    "experiment_choice"
   ]
  },
  {
   "cell_type": "code",
   "execution_count": null,
   "metadata": {},
   "outputs": [],
   "source": [
    "#Extract all the relevant dataframes\n",
    "firing_rates, reward_q_df, performance, rt_dist, total_performance = plt_help.extract_relevant_frames(results,seed,experiment_choice)"
   ]
  },
  {
   "cell_type": "code",
   "execution_count": null,
   "metadata": {},
   "outputs": [],
   "source": [
    "results[0]['popfreqs']"
   ]
  },
  {
   "cell_type": "code",
   "execution_count": null,
   "metadata": {},
   "outputs": [],
   "source": [
    "# firing rates  \n",
    "firing_rates[0]"
   ]
  },
  {
   "cell_type": "code",
   "execution_count": null,
   "metadata": {},
   "outputs": [],
   "source": [
    "performance"
   ]
  },
  {
   "cell_type": "code",
   "execution_count": null,
   "metadata": {},
   "outputs": [],
   "source": [
    "recorded_variables = post_help.extract_recording_variables(results,results[0]['record_variables'],seed)"
   ]
  },
  {
   "cell_type": "code",
   "execution_count": null,
   "metadata": {},
   "outputs": [],
   "source": [
    "recorded_variables['weight']"
   ]
  },
  {
   "cell_type": "code",
   "execution_count": null,
   "metadata": {},
   "outputs": [],
   "source": [
    "recorded_variables['optogenetic_input']"
   ]
  },
  {
   "cell_type": "code",
   "execution_count": null,
   "metadata": {},
   "outputs": [],
   "source": [
    "import seaborn as sns\n",
    "import pylab as pl\n",
    "sns.pointplot(x=\"trials\",y=\"weights\",hue=\"nuclei\",data=recorded_variables['weight'])\n"
   ]
  },
  {
   "cell_type": "code",
   "execution_count": null,
   "metadata": {},
   "outputs": [],
   "source": [
    "fig,ax = pl.subplots(1,1,figsize=(5,4))\n",
    "sns.set(style=\"white\", font_scale=1.5)\n",
    "sns.lineplot(x=\"Time(ms)\",y=\"D1STR_A\",data=recorded_variables['optogenetic_input'],hue='seed',lw=3.0,ax=ax)\n",
    "ax.set_ylabel(\"D1STR\",fontweight='bold')\n",
    "ax.legend_.remove()\n",
    "ax.spines.top.set_visible(False)\n",
    "ax.spines.right.set_visible(False)\n",
    "pl.tight_layout()\n",
    "fig.savefig(figure_dir+'optogenetic_stimulation.png')\n"
   ]
  },
  {
   "cell_type": "code",
   "execution_count": null,
   "metadata": {},
   "outputs": [],
   "source": []
  },
  {
   "cell_type": "code",
   "execution_count": null,
   "metadata": {},
   "outputs": [],
   "source": [
    "# Relevant reward_dataframe\n",
    "reward_q_df[0]"
   ]
  },
  {
   "cell_type": "code",
   "execution_count": null,
   "metadata": {},
   "outputs": [],
   "source": [
    "performance"
   ]
  },
  {
   "cell_type": "code",
   "execution_count": null,
   "metadata": {},
   "outputs": [],
   "source": [
    "# Extract the data tables from the agent\n",
    "datatables = cbgt.collateVariable(results,'datatables')\n",
    "datatables[0][\"decisiondurationplusdelay\"]-datatables[0][\"decisionduration\"]"
   ]
  },
  {
   "cell_type": "code",
   "execution_count": null,
   "metadata": {},
   "outputs": [],
   "source": [
    "datatables[0]"
   ]
  },
  {
   "cell_type": "code",
   "execution_count": null,
   "metadata": {},
   "outputs": [],
   "source": [
    "# Check the Q-values data frame\n",
    "results[0]['Q_df']"
   ]
  },
  {
   "cell_type": "code",
   "execution_count": null,
   "metadata": {},
   "outputs": [],
   "source": [
    "# postfix = \"weak_GPi_inh\"\n",
    "postfix = \"\""
   ]
  },
  {
   "cell_type": "code",
   "execution_count": null,
   "metadata": {},
   "outputs": [],
   "source": [
    "#Save the selected variables of results in the data_dir specified\n",
    "cbgt.saveResults(results,data_dir+'network_data_'+postfix+'_'+str(seed)+'.pickle',['popfreqs','popdata','Q_support_params','d1','d2','dpmns','datatables'])\n"
   ]
  },
  {
   "cell_type": "code",
   "execution_count": null,
   "metadata": {},
   "outputs": [],
   "source": [
    "firing_rates[0].to_csv(data_dir+\"firing_rates_\"+postfix+\".csv\")\n",
    "reward_q_df[0].to_csv(data_dir+\"reward_df_\"+postfix+\".csv\")\n",
    "performance.to_csv(data_dir+\"performance_\"+postfix+\".csv\")\n",
    "rt_dist.to_csv(data_dir+\"rt_dist_\"+postfix+\".csv\")\n",
    "total_performance.to_csv(data_dir+\"total_performance_\"+postfix+\".csv\")"
   ]
  },
  {
   "cell_type": "code",
   "execution_count": null,
   "metadata": {},
   "outputs": [],
   "source": [
    "reward_q_df"
   ]
  },
  {
   "cell_type": "code",
   "execution_count": null,
   "metadata": {},
   "outputs": [],
   "source": []
  },
  {
   "cell_type": "code",
   "execution_count": null,
   "metadata": {},
   "outputs": [],
   "source": [
    "# Plot the firing rates extracted, figure handles are returned in fig_handles\n",
    "\n",
    "FR_fig_handles = plt_func.plot_fr(firing_rates,datatables,experiment_choice)\n",
    "FR_fig_handles[0].savefig(figure_dir+\"Example_FR_optostim_\"+postfix+\".png\",dpi=300)"
   ]
  },
  {
   "cell_type": "code",
   "execution_count": null,
   "metadata": {
    "scrolled": false
   },
   "outputs": [],
   "source": [
    "FR_fig_handles_zoom = plt_func.plot_fr_flex(firing_rates[0],datatables[0],['all'], [], (0, 500)) "
   ]
  },
  {
   "cell_type": "code",
   "execution_count": null,
   "metadata": {},
   "outputs": [],
   "source": []
  },
  {
   "cell_type": "code",
   "execution_count": null,
   "metadata": {},
   "outputs": [],
   "source": [
    "reward_fig_handles = plt_func.plot_reward_Q_df(reward_q_df)"
   ]
  },
  {
   "cell_type": "code",
   "execution_count": null,
   "metadata": {},
   "outputs": [],
   "source": []
  },
  {
   "cell_type": "code",
   "execution_count": null,
   "metadata": {},
   "outputs": [],
   "source": []
  },
  {
   "cell_type": "code",
   "execution_count": null,
   "metadata": {},
   "outputs": [],
   "source": []
  },
  {
   "cell_type": "code",
   "execution_count": null,
   "metadata": {},
   "outputs": [],
   "source": []
  },
  {
   "cell_type": "code",
   "execution_count": null,
   "metadata": {},
   "outputs": [],
   "source": []
  },
  {
   "cell_type": "code",
   "execution_count": null,
   "metadata": {},
   "outputs": [],
   "source": []
  },
  {
   "cell_type": "code",
   "execution_count": null,
   "metadata": {},
   "outputs": [],
   "source": []
  },
  {
   "cell_type": "code",
   "execution_count": null,
   "metadata": {},
   "outputs": [],
   "source": []
  },
  {
   "cell_type": "code",
   "execution_count": null,
   "metadata": {},
   "outputs": [],
   "source": []
  },
  {
   "cell_type": "code",
   "execution_count": null,
   "metadata": {},
   "outputs": [],
   "source": []
  },
  {
   "cell_type": "code",
   "execution_count": null,
   "metadata": {},
   "outputs": [],
   "source": []
  },
  {
   "cell_type": "code",
   "execution_count": null,
   "metadata": {},
   "outputs": [],
   "source": []
  }
 ],
 "metadata": {
  "kernelspec": {
   "display_name": "Python 3 (ipykernel)",
   "language": "python",
   "name": "python3"
  },
  "language_info": {
   "codemirror_mode": {
    "name": "ipython",
    "version": 3
   },
   "file_extension": ".py",
   "mimetype": "text/x-python",
   "name": "python",
   "nbconvert_exporter": "python",
   "pygments_lexer": "ipython3",
   "version": "3.8.12"
  }
 },
 "nbformat": 4,
 "nbformat_minor": 4
}
