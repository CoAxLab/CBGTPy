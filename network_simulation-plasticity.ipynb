{
 "cells": [
  {
   "cell_type": "markdown",
   "metadata": {},
   "source": [
    "### To run the cbgt network, see first the technical_testbench to install all the required packages and start the server "
   ]
  },
  {
   "cell_type": "code",
   "execution_count": 1,
   "metadata": {},
   "outputs": [],
   "source": [
    "#Auto reloading \n",
    "# %load_ext autoreload\n",
    "\n",
    "\n",
    "# %autoreload\n",
    "# %reload_ext autoreload "
   ]
  },
  {
   "cell_type": "code",
   "execution_count": 2,
   "metadata": {},
   "outputs": [],
   "source": [
    "#Removing indentation issues:\n",
    "#!autopep8 --in-place --aggressive --aggressive init_params.py\n",
    "#!autopep8 --in-place --aggressive --aggressive popconstruct.py\n",
    "#!autopep8 --in-place --aggressive --aggressive generateepochs.py\n",
    "#!autopep8 --in-place --aggressive --aggressive qvalues.py"
   ]
  },
  {
   "cell_type": "markdown",
   "metadata": {},
   "source": [
    "# Compile the main simulator code using cython "
   ]
  },
  {
   "cell_type": "code",
   "execution_count": 3,
   "metadata": {},
   "outputs": [
    {
     "name": "stdout",
     "output_type": "stream",
     "text": [
      "running build_ext\n",
      "running build_ext\n"
     ]
    }
   ],
   "source": [
    "!python setup.py build_ext --inplace"
   ]
  },
  {
   "cell_type": "markdown",
   "metadata": {},
   "source": [
    "# Import all the relevant files "
   ]
  },
  {
   "cell_type": "code",
   "execution_count": 4,
   "metadata": {},
   "outputs": [
    {
     "name": "stderr",
     "output_type": "stream",
     "text": [
      "2023-04-28 17:34:47,690\tINFO worker.py:842 -- Connecting to existing Ray cluster at address: 172.26.9.230:6379\n"
     ]
    },
    {
     "data": {
      "text/plain": [
       "<module 'postprocessing_helpers' from '/home/jyotika/Work/CBGTPy_release/CBGTPy/postprocessing_helpers.py'>"
      ]
     },
     "execution_count": 4,
     "metadata": {},
     "output_type": "execute_result"
    }
   ],
   "source": [
    "# Import the pipeline creation object\n",
    "import pandas as pd\n",
    "import numpy as np\n",
    "import cbgt as cbgt\n",
    "import pipeline_creation as pl_creat\n",
    "import plotting_functions as plt_func\n",
    "import plotting_helper_functions as plt_help\n",
    "import postprocessing_helpers as post_help\n",
    "\n",
    "\n",
    "import importlib\n",
    "\n",
    "importlib.reload(plt_help)\n",
    "importlib.reload(plt_func)\n",
    "importlib.reload(post_help)"
   ]
  },
  {
   "cell_type": "markdown",
   "metadata": {},
   "source": [
    "# Choose the experiment and create the main pipeline"
   ]
  },
  {
   "cell_type": "code",
   "execution_count": 5,
   "metadata": {},
   "outputs": [
    {
     "name": "stdout",
     "output_type": "stream",
     "text": [
      "in choose pipeline\n",
      "in reward pipeline\n",
      "<backend.VariablePlaceholder object at 0x7fc6b482a220>\n",
      "<backend.VariablePlaceholder object at 0x7fc6b47aa220>\n",
      "<backend.VariablePlaceholder object at 0x7fc6b47b0f40>\n",
      "8867366\n"
     ]
    }
   ],
   "source": [
    "# Choose the experiment\n",
    "experiment_choice = \"plastic\"\n",
    "\n",
    "# Call choose_pipeline with the pipeline object\n",
    "pl_creat.choose_pipeline(experiment_choice)\n",
    "\n",
    "#Create the main pipeline\n",
    "pl = pl_creat.create_main_pipeline(runloop=True)\n",
    "\n",
    "# how many simulations do you want to run ? each simulation is executed as a seperate thread\n",
    "\n",
    "num_sims = 1\n",
    "\n",
    "# set a seed\n",
    "import time\n",
    "np.random.seed(int(time.time()))\n",
    "# seed = np.random.choice(np.random.randint(0,9999999,100),1)[0]\n",
    "seed = 8867366\n",
    "print(seed)\n"
   ]
  },
  {
   "cell_type": "code",
   "execution_count": null,
   "metadata": {},
   "outputs": [],
   "source": []
  },
  {
   "cell_type": "code",
   "execution_count": 6,
   "metadata": {},
   "outputs": [],
   "source": [
    "#Import core functions\n",
    "\n",
    "# from frontendhelpers import * \n",
    "# from tracetype import *\n",
    "# import qvalues as qval\n",
    "# import generateepochs as gen\n",
    "# from agentmatrixinit import *\n",
    "\n",
    "# import pipeline_creation as pl_creat\n",
    "\n",
    "# Import plotting functions\n",
    "# import matplotlib.pyplot as plt\n",
    "\n",
    "# Define the data and figure directory\n",
    "\n",
    "data_dir = \"./Data/\"\n",
    "figure_dir = \"./Figures/\"\n"
   ]
  },
  {
   "cell_type": "code",
   "execution_count": null,
   "metadata": {},
   "outputs": [],
   "source": [
    "\n"
   ]
  },
  {
   "cell_type": "markdown",
   "metadata": {},
   "source": [
    "# Running the pipeline"
   ]
  },
  {
   "cell_type": "markdown",
   "metadata": {},
   "source": [
    "### 1. Default values of environment variable"
   ]
  },
  {
   "cell_type": "code",
   "execution_count": 7,
   "metadata": {},
   "outputs": [],
   "source": [
    "#See init_params.py / generateepochs.py / popconstruct.py / qvalues.py\n",
    "#to know the parameters contained in each of the following variables \n",
    "environment = {\n",
    "    'experimentchoice': experiment_choice,\n",
    "    'inter_trial_interval': None, # default = 600ms\n",
    "    'thalamic_threshold': None, # default 30sp/s\n",
    "    'movement_time':None,# #default sampled from N(250,1.5), [\"constant\",250], [\"mean\",250]\n",
    "    'choice_timeout':None, #wait for a choice to be made, default 1000, \n",
    "    'params': None, #neuron parameters (init_params.py)\n",
    "    'pops': None,   #population parameters (init_params.py)\n",
    "    'receps' : None, #receptor parameters (init_params.py)\n",
    "    'base' : None, #baseline stimulation parameters (init_params.py)\n",
    "    'dpmns' : None, #dopamine related parameters (init_params.py)\n",
    "    #'dpmns' : pd.DataFrame([0.05], columns=['dpmn_wmax']),\n",
    "    #'d1' : None, #D1-MSNs population related parameters (init_params.py)\n",
    "    'd1': None,#pd.DataFrame([[39.5,0.055]], columns=['dpmn_alphaw','dpmn_wmax']),\n",
    "    'd2': None, #pd.DataFrame([[-38.2,0.035]], columns=['dpmn_alphaw','dpmn_wmax']),\n",
    "    'channels' : pd.DataFrame([[\"left\"],[\"right\"]], columns=['action']), #action channels related parameters (init_params.py)\n",
    "    #'actionchannels' : pd.DataFrame([[1],[2]], columns=['action']), #labels for the actions (init_params.py)\n",
    "    #'actionchannels' : pd.DataFrame([[\"left\"],[\"right\"]], columns=['action']), #labels for the actions (init_params.py)\n",
    "    'newpathways' :None,\n",
    "    'Q_support_params': None,#pd.DataFrame([[85,0.6]],columns=['dpmn_CPP_scale','q_alpha']), #initialization of Q-values update (qvalues.py) \n",
    "    'Q_df_set':pd.DataFrame([[0.5, 0.5]],columns=[\"left\",\"right\"]), #initialized Q-values df (qvalues.py)  \n",
    "    'n_trials': 3, #number of trials (generateepochs.py)\n",
    "    'volatility': [1,\"exact\"], #frequency of changepoints and type of change points (exact or poisson) (generateepochs.py)\n",
    "    'conflict': (1.0, 0.0), #probability of the preferred choice (generateepochs.py)\n",
    "    'reward_mu': 1, #mean for the magnitude of the reward (generateepochs.py)\n",
    "    'reward_std': 0.01, #std for the magnitude of the reward (generateepochs.py)\n",
    "    'maxstim': 0.8, # 3 instead? how much stimulus the LIP gets at maximum\n",
    "    'corticostriatal_plasticity_present':\"on\", # whether plasticity is on or \"off\" at corticostriatal synapses\n",
    "    'record_variables':[\"weight\"],#\"optogenetic_input\"],\n",
    "    'opt_signal_present':False,\n",
    "    'opt_signal_probability':[0,2], # probability of trials that will get the optogenetic signal / list of trial numbers\n",
    "    'opt_signal_amplitude':0.1, # ampitude of the stop signal over base line\n",
    "    'opt_signal_onset':20., # in ms\n",
    "    'opt_signal_duration':100.,\n",
    "    'opt_signal_channel': \"all\", # \"all\" (all channels are given the stop signal) \n",
    "    'opt_signal_population':[\"D1STR\"],\n",
    "    'sustainedfraction':0.7\n",
    "                                #/\"any\" (channel given the stop signal is chosen randomly)\n",
    "                                # [list of channels] == subset of channels given the stop signal\n",
    "    \n",
    "}\n"
   ]
  },
  {
   "cell_type": "markdown",
   "metadata": {},
   "source": [
    "### Run the simulation - 1 thread with the environment variable"
   ]
  },
  {
   "cell_type": "code",
   "execution_count": 8,
   "metadata": {},
   "outputs": [],
   "source": [
    "# def _run_thread_exp(i_iter):\n",
    "#     import cbgt as cbgt\n",
    "#     import pandas as pd\n",
    "#     import numpy as np\n",
    "#     import cbgt as cbgt\n",
    "#     import pipeline_creation as pl_creat\n",
    "#     import plotting_functions as plt_func\n",
    "#     import plotting_helper_functions as plt_help\n",
    "#     import postprocessing_helpers as post_help\n",
    "#     # Choose the experiment\n",
    "#     experiment_choice = \"plastic\"\n",
    "\n",
    "#     # Call choose_pipeline with the pipeline object\n",
    "#     pl_creat.choose_pipeline(experiment_choice)\n",
    "\n",
    "#     #Create the main pipeline\n",
    "#     pl = pl_creat.create_main_pipeline(runloop=True)\n",
    "\n",
    "\n",
    "#     seed = np.random.choice(np.random.randint(0,9999999,100),1)[0]\n",
    "\n",
    "#     results=cbgt.ExecutionManager(cores=1).run([pl]*1,[environment]*1)\n",
    "#     return(results)"
   ]
  },
  {
   "cell_type": "code",
   "execution_count": 9,
   "metadata": {},
   "outputs": [],
   "source": [
    "# from joblib import delayed, Parallel\n",
    "\n",
    "# res = Parallel(n_jobs=3)(delayed(_run_thread_exp)(ii) for ii in range(9))"
   ]
  },
  {
   "cell_type": "code",
   "execution_count": null,
   "metadata": {},
   "outputs": [],
   "source": []
  },
  {
   "cell_type": "code",
   "execution_count": 10,
   "metadata": {},
   "outputs": [],
   "source": [
    "# pl.modulelist"
   ]
  },
  {
   "cell_type": "code",
   "execution_count": null,
   "metadata": {},
   "outputs": [
    {
     "name": "stdout",
     "output_type": "stream",
     "text": [
      "SpawnThreadManagers <backend.Pipeline object at 0x7fc6b482a130>\n",
      "\u001b[2m\u001b[36m(worker pid=None)\u001b[0m in choose pipeline\n",
      "\u001b[2m\u001b[36m(worker pid=None)\u001b[0m in choose pipeline\n",
      "\u001b[2m\u001b[36m(worker pid=None)\u001b[0m conflict (1.0, 0.0)\n",
      "\u001b[2m\u001b[36m(worker pid=None)\u001b[0m change points: [0 1 2 2]\n",
      "\u001b[2m\u001b[36m(worker pid=None)\u001b[0m conflict (1.0, 0.0)\n",
      "\u001b[2m\u001b[36m(worker pid=None)\u001b[0m conflict (1.0, 0.0)\n",
      "\u001b[2m\u001b[36m(worker pid=None)\u001b[0m change points: [0 1 2 2]\n",
      "\u001b[2m\u001b[36m(worker pid=None)\u001b[0m conflict (1.0, 0.0)\n",
      "SpawnThreadManagers <backend.Pipeline object at 0x7fc6b47ac160>\n",
      "\u001b[2m\u001b[36m(worker pid=None)\u001b[0m begin GenOptSchedule\n",
      "\u001b[2m\u001b[36m(worker pid=None)\u001b[0m <class 'list'>\n",
      "\u001b[2m\u001b[36m(worker pid=None)\u001b[0m [0, 2]\n",
      "\u001b[2m\u001b[36m(worker pid=None)\u001b[0m pop D1STR\n",
      "\u001b[2m\u001b[36m(worker pid=None)\u001b[0m True\n",
      "\u001b[2m\u001b[36m(worker pid=None)\u001b[0m pop D1STR\n",
      "\u001b[2m\u001b[36m(worker pid=None)\u001b[0m True\n",
      "\u001b[2m\u001b[36m(worker pid=None)\u001b[0m opt_df\n",
      "\u001b[2m\u001b[36m(worker pid=None)\u001b[0m    opt_signal_present  ... opt_signal_population\n",
      "\u001b[2m\u001b[36m(worker pid=None)\u001b[0m 0               False  ...               [D1STR]\n",
      "\u001b[2m\u001b[36m(worker pid=None)\u001b[0m \n",
      "\u001b[2m\u001b[36m(worker pid=None)\u001b[0m [1 rows x 4 columns]\n",
      "\u001b[2m\u001b[36m(worker pid=None)\u001b[0m opt_channels_df\n",
      "\u001b[2m\u001b[36m(worker pid=None)\u001b[0m     left  right  trial_num\n",
      "\u001b[2m\u001b[36m(worker pid=None)\u001b[0m 0   True   True          0\n",
      "\u001b[2m\u001b[36m(worker pid=None)\u001b[0m 1  False  False          1\n",
      "\u001b[2m\u001b[36m(worker pid=None)\u001b[0m 2   True   True          2\n",
      "\u001b[2m\u001b[36m(worker pid=None)\u001b[0m begin GenOptSchedule\n",
      "\u001b[2m\u001b[36m(worker pid=None)\u001b[0m <class 'list'>\n",
      "\u001b[2m\u001b[36m(worker pid=None)\u001b[0m [0, 2]\n",
      "\u001b[2m\u001b[36m(worker pid=None)\u001b[0m pop D1STR\n",
      "\u001b[2m\u001b[36m(worker pid=None)\u001b[0m True\n",
      "\u001b[2m\u001b[36m(worker pid=None)\u001b[0m pop D1STR\n",
      "\u001b[2m\u001b[36m(worker pid=None)\u001b[0m True\n",
      "\u001b[2m\u001b[36m(worker pid=None)\u001b[0m opt_df\n",
      "\u001b[2m\u001b[36m(worker pid=None)\u001b[0m    opt_signal_present  ... opt_signal_population\n",
      "\u001b[2m\u001b[36m(worker pid=None)\u001b[0m 0               False  ...               [D1STR]\n",
      "\u001b[2m\u001b[36m(worker pid=None)\u001b[0m \n",
      "\u001b[2m\u001b[36m(worker pid=None)\u001b[0m [1 rows x 4 columns]\n",
      "\u001b[2m\u001b[36m(worker pid=None)\u001b[0m opt_channels_df\n",
      "\u001b[2m\u001b[36m(worker pid=None)\u001b[0m     left  right  trial_num\n",
      "\u001b[2m\u001b[36m(worker pid=None)\u001b[0m 0   True   True          0\n",
      "\u001b[2m\u001b[36m(worker pid=None)\u001b[0m 1  False  False          1\n",
      "\u001b[2m\u001b[36m(worker pid=None)\u001b[0m 2   True   True          2\n",
      "SpawnThreadManagers <backend.Pipeline object at 0x7fc6b4841280>\n",
      "\u001b[2m\u001b[36m(worker pid=None)\u001b[0m 0    80.0`\n",
      "\u001b[2m\u001b[36m(worker pid=None)\u001b[0m Name: dpmn_CPP_scale, dtype: object\n",
      "\u001b[2m\u001b[36m(worker pid=None)\u001b[0m 0    80.0`\n",
      "\u001b[2m\u001b[36m(worker pid=None)\u001b[0m Name: dpmn_CPP_scale, dtype: object\n"
     ]
    },
    {
     "name": "stderr",
     "output_type": "stream",
     "text": [
      "\u001b[2m\u001b[36m(worker pid=None)\u001b[0m /home/jyotika/Work/CBGTPy_release/CBGTPy/qvalues.py:114: FutureWarning: The frame.append method is deprecated and will be removed from pandas in a future version. Use pandas.concat instead.\n",
      "\u001b[2m\u001b[36m(worker pid=None)\u001b[0m   Q_df = Q_df.append(\n",
      "\u001b[2m\u001b[36m(worker pid=None)\u001b[0m /home/jyotika/Work/CBGTPy_release/CBGTPy/qvalues.py:127: FutureWarning: The frame.append method is deprecated and will be removed from pandas in a future version. Use pandas.concat instead.\n",
      "\u001b[2m\u001b[36m(worker pid=None)\u001b[0m   Q_df = Q_df.append(\n",
      "\u001b[2m\u001b[36m(worker pid=None)\u001b[0m /home/jyotika/Work/CBGTPy_release/CBGTPy/qvalues.py:114: FutureWarning: The frame.append method is deprecated and will be removed from pandas in a future version. Use pandas.concat instead.\n",
      "\u001b[2m\u001b[36m(worker pid=None)\u001b[0m   Q_df = Q_df.append(\n",
      "\u001b[2m\u001b[36m(worker pid=None)\u001b[0m /home/jyotika/Work/CBGTPy_release/CBGTPy/qvalues.py:127: FutureWarning: The frame.append method is deprecated and will be removed from pandas in a future version. Use pandas.concat instead.\n",
      "\u001b[2m\u001b[36m(worker pid=None)\u001b[0m   Q_df = Q_df.append(\n"
     ]
    }
   ],
   "source": [
    "results = cbgt.ExecutionManager(cores=7).run([pl]*num_sims,[environment]*num_sims)\n"
   ]
  },
  {
   "cell_type": "code",
   "execution_count": null,
   "metadata": {},
   "outputs": [],
   "source": [
    "# List all the agent variables accessible\n",
    "results[0].keys()"
   ]
  },
  {
   "cell_type": "code",
   "execution_count": null,
   "metadata": {},
   "outputs": [],
   "source": [
    "results[0]['meaneff_GABA']"
   ]
  },
  {
   "cell_type": "code",
   "execution_count": null,
   "metadata": {},
   "outputs": [],
   "source": [
    "results[0]['conflict']"
   ]
  },
  {
   "cell_type": "code",
   "execution_count": null,
   "metadata": {},
   "outputs": [],
   "source": [
    "results[0]['Q_df']"
   ]
  },
  {
   "cell_type": "code",
   "execution_count": null,
   "metadata": {},
   "outputs": [],
   "source": [
    "results[0]['popfreqs']"
   ]
  },
  {
   "cell_type": "code",
   "execution_count": null,
   "metadata": {},
   "outputs": [],
   "source": []
  },
  {
   "cell_type": "code",
   "execution_count": null,
   "metadata": {},
   "outputs": [],
   "source": []
  },
  {
   "cell_type": "code",
   "execution_count": null,
   "metadata": {},
   "outputs": [],
   "source": [
    "#Extract all the relevant dataframes\n",
    "firing_rates, reward_q_df, performance, rt_dist, total_performance = plt_help.extract_relevant_frames(results,seed)"
   ]
  },
  {
   "cell_type": "code",
   "execution_count": null,
   "metadata": {},
   "outputs": [],
   "source": [
    "# firing rates  \n",
    "firing_rates[0]"
   ]
  },
  {
   "cell_type": "code",
   "execution_count": null,
   "metadata": {},
   "outputs": [],
   "source": [
    "performance"
   ]
  },
  {
   "cell_type": "code",
   "execution_count": null,
   "metadata": {},
   "outputs": [],
   "source": [
    "recorded_variables = post_help.extract_recording_variables(results,results[0]['record_variables'],seed)"
   ]
  },
  {
   "cell_type": "code",
   "execution_count": null,
   "metadata": {},
   "outputs": [],
   "source": [
    "recorded_variables['weight']"
   ]
  },
  {
   "cell_type": "code",
   "execution_count": null,
   "metadata": {},
   "outputs": [],
   "source": [
    "# recorded_variables['optogenetic_input']"
   ]
  },
  {
   "cell_type": "code",
   "execution_count": null,
   "metadata": {},
   "outputs": [],
   "source": [
    "import seaborn as sns\n",
    "import pylab as pl\n",
    "sns.pointplot(x=\"trials\",y=\"weights\",hue=\"nuclei\",data=recorded_variables['weight'])\n"
   ]
  },
  {
   "cell_type": "code",
   "execution_count": null,
   "metadata": {},
   "outputs": [],
   "source": [
    "# pl.figure()\n",
    "# sns.lineplot(x=\"Time(ms)\",y=\"D1STR_left\",data=recorded_variables['optogenetic_input'],hue='seed')"
   ]
  },
  {
   "cell_type": "code",
   "execution_count": null,
   "metadata": {},
   "outputs": [],
   "source": []
  },
  {
   "cell_type": "code",
   "execution_count": null,
   "metadata": {},
   "outputs": [],
   "source": [
    "# Relevant reward_dataframe\n",
    "reward_q_df[0]"
   ]
  },
  {
   "cell_type": "code",
   "execution_count": null,
   "metadata": {},
   "outputs": [],
   "source": [
    "performance"
   ]
  },
  {
   "cell_type": "code",
   "execution_count": null,
   "metadata": {},
   "outputs": [],
   "source": [
    "# Extract the data tables from the agent\n",
    "datatables = cbgt.collateVariable(results,'datatables')\n",
    "datatables[0][\"decisiondurationplusdelay\"]-datatables[0][\"decisionduration\"]"
   ]
  },
  {
   "cell_type": "code",
   "execution_count": null,
   "metadata": {},
   "outputs": [],
   "source": [
    "datatables[0]"
   ]
  },
  {
   "cell_type": "code",
   "execution_count": null,
   "metadata": {},
   "outputs": [],
   "source": [
    "# Check the Q-values data frame\n",
    "results[0]['Q_df']"
   ]
  },
  {
   "cell_type": "code",
   "execution_count": null,
   "metadata": {},
   "outputs": [],
   "source": [
    "#Save the selected variables of results in the data_dir specified\n",
    "cbgt.saveResults(results,data_dir+'network_data_'+str(seed)+'.pickle',['popfreqs','popdata','Q_support_params','d1','d2','dpmns','datatables'])\n",
    "# import os\n",
    "# os.mkdir(data_dir+str(seed))\n",
    "# for i in np.arange(len(firing_rates)):\n",
    "#     firing_rates[i][\"seed\"] = str(seed)+\"_\"+str(i)\n",
    "#     reward_q_df[i][\"seed\"] = str(seed)+\"_\"+str(i)\n",
    "# #     rt_dist[i][\"seed\"] = str(seed)+\"_\"+str(i)\n",
    "# #     total_performance[i][\"seed\"] = str(seed)+\"_\"+str(i)\n",
    "# firing_rates1 = pd.concat(firing_rates)\n",
    "# reward_q_df1 = pd.concat(reward_q_df)\n",
    "# firing_rates1.to_csv(data_dir+\"/\"+str(seed)+\"/firing_rates.csv\")\n",
    "# reward_q_df1.to_csv(data_dir+\"/\"+str(seed)+\"/reward_df.csv\")\n",
    "# performance.to_csv(data_dir+\"/\"+str(seed)+\"/performance.csv\")\n",
    "# rt_dist.to_csv(data_dir+\"/\"+str(seed)+\"/rt_dist.csv\")\n",
    "#                     , reward_q_df, performance, rt_dist, total_performance"
   ]
  },
  {
   "cell_type": "code",
   "execution_count": null,
   "metadata": {},
   "outputs": [],
   "source": [
    "reward_q_df"
   ]
  },
  {
   "cell_type": "code",
   "execution_count": null,
   "metadata": {},
   "outputs": [],
   "source": []
  },
  {
   "cell_type": "code",
   "execution_count": null,
   "metadata": {},
   "outputs": [],
   "source": [
    "# import seaborn as sns\n",
    "# import matplotlib.pyplot as plt \n",
    "# for i in np.arange(len(results)):\n",
    "#     weights = np.array(results[i]['agent'].hist_w)\n",
    "#     weights[0]\n",
    "#     np.shape(weights)\n",
    "#     reshaped_wts = weights.reshape(len(weights),4)\n",
    "#     nuc_list = ['D1-left','D2-left','D1-right','D2-right' ]\n",
    "#     ind_list = [(0,0),(0,1),(1,0),(1,1)]\n",
    "#     weights_df = pd.DataFrame(columns=[\"weights\",\"trials\",\"nuclei\"])\n",
    "\n",
    "#     for j in np.arange(4):\n",
    "#         temp = pd.DataFrame()\n",
    "#         temp[\"weights\"] = [ np.mean(reshaped_wts[:,j][datatables[0]['stimulusstarttime'][i]:datatables[0]['stimulusstarttime'][i+1]])   for i in np.arange(len(datatables[0])-1) ]\n",
    "#         #temp[\"weights\"] = [ weights[:,ind_list[j][0],ind_list[j][1],:,:][datatables[0]['stimulusstarttime'][i]:datatables[0]['stimulusstarttime'][i+1]])   for i in np.arange(len(datatables[0])-1) ]\n",
    "#         temp[\"trials\"] = np.arange(0,len(datatables[0])-1)\n",
    "#         temp[\"nuclei\"] = nuc_list[j]\n",
    "#         weights_df = weights_df.append(temp)\n",
    "    \n",
    "#    #weights_df.to_csv(data_dir+\"Weights_\"+str(seed)+\".csv\")\n",
    "#     fig,ax = plt.subplots(1,1,figsize=(16,9))\n",
    "#     sns.pointplot(x=\"trials\",y=\"weights\",hue=\"nuclei\",data=weights_df,ax=ax)\n",
    "    #fig.savefig(figure_dir+\"Weights_\"+str(seed)+\"_\"+str(i)+\".png\")    "
   ]
  },
  {
   "cell_type": "code",
   "execution_count": null,
   "metadata": {},
   "outputs": [],
   "source": [
    "# Plot the firing rates extracted, figure handles are returned in fig_handles\n",
    "\n",
    "FR_fig_handles = plt_func.plot_fr(firing_rates,datatables)\n",
    "FR_fig_handles[0].savefig(figure_dir+\"Example_FR.pdf\",dpi=300)"
   ]
  },
  {
   "cell_type": "code",
   "execution_count": null,
   "metadata": {
    "scrolled": false
   },
   "outputs": [],
   "source": [
    "FR_fig_handles_zoom = plt_func.plot_fr_flex(firing_rates[0],datatables[0],['all'], [], (0, 500)) "
   ]
  },
  {
   "cell_type": "code",
   "execution_count": null,
   "metadata": {},
   "outputs": [],
   "source": []
  },
  {
   "cell_type": "code",
   "execution_count": null,
   "metadata": {},
   "outputs": [],
   "source": [
    "reward_fig_handles = plt_func.plot_reward_Q_df(reward_q_df)"
   ]
  },
  {
   "cell_type": "code",
   "execution_count": null,
   "metadata": {},
   "outputs": [],
   "source": [
    "# inp = np.array(results[0]['agent'].inp)\n",
    "\n",
    "# fig,ax = pl.subplots(1,2,figsize=(12,9))\n",
    "# ax[0].plot(inp[:,0],label='Ctx-left-input')\n",
    "# ax[0].plot(inp[:,1],label='Ctx-right-input')\n",
    "# ax[0].legend()\n",
    "# ax[1].plot(popfreqs[i].iloc[:,10],label=\"Ctx-left-activity\",color='r')\n",
    "# ax[1].plot(popfreqs[i].iloc[:,11],label=\"Ctx-right-activity\",color='g')\n",
    "# ax[1].plot(popfreqs[i].iloc[:,15],label=\"Ctx-inhibition\",color='c')\n",
    "# ax[1].legend()\n",
    "# fig.savefig(figure_dir+\"Input_vs_activity_lip\"+str(seed)+\".png\")"
   ]
  },
  {
   "cell_type": "code",
   "execution_count": null,
   "metadata": {
    "scrolled": true
   },
   "outputs": [],
   "source": [
    "# for i in np.arange(len(results)):\n",
    "#     fig,ax = plt.subplots(2,3,figsize=(24,16))\n",
    "#     print(ax)\n",
    "#     stim_on = datatables[i][\"stimulusstarttime\"]\n",
    "#     decision_time = datatables[i][\"decisiontime\"]\n",
    "#     weights = np.array(results[i]['agent'].hist_w)\n",
    "#     Wts = pd.DataFrame.from_records(np.array(results[i]['agent'].hist_w).reshape(len(weights),4),columns=nuc_list)\n",
    "#     ax[0][0].plot(popfreqs[i].iloc[:,0],label=\"GPi-left\")\n",
    "#     ax[0][0].plot(popfreqs[i].iloc[:,1],label=\"GPi-right\")\n",
    "\n",
    "#     ax[0][1].plot(popfreqs[i].iloc[:,12],label=\"Th-left\")\n",
    "#     ax[0][1].plot(popfreqs[i].iloc[:,13],label=\"Th-right\")\n",
    "    \n",
    "#     ax[0][2].plot(popfreqs[i].iloc[:,10],label=\"Ctx-left\")\n",
    "#     ax[0][2].plot(popfreqs[i].iloc[:,11],label=\"Ctx-right\")\n",
    "\n",
    "    \n",
    "#     ax[1][0].plot(popfreqs[i].iloc[:,6],label=\"D1-left\")\n",
    "#     ax[1][0].plot(popfreqs[i].iloc[:,7],label=\"D1-right\")\n",
    "#     for k in nuc_list:\n",
    "#         ax[1][1].plot(Wts[k],label=k)\n",
    "\n",
    "#     for a in np.hstack(ax):\n",
    "#         ylims = a.get_ylim()\n",
    "#         for s,d in zip(stim_on,decision_time):\n",
    "#             a.vlines(x=s,ymin=ylims[0],ymax=ylims[1],color='k',lw=1.0,ls=\"solid\")\n",
    "#             a.vlines(x=d,ymin=ylims[0],ymax=ylims[1],color='k',lw=1.0,ls=\"dashed\")\n",
    "#             a.set_ylim(ylims[0],ylims[1])\n",
    "#         a.set_xlim(0,3000)\n",
    "#         a.legend()\n",
    "#     fig.subplots_adjust(left=0.06,bottom=0.06,right=0.96,top=0.96)\n",
    "#     fig.savefig(figure_dir+\"Zoomed_in_activity_\"+str(seed)+\"_\"+str(i)+\".png\")"
   ]
  },
  {
   "cell_type": "code",
   "execution_count": null,
   "metadata": {},
   "outputs": [],
   "source": []
  },
  {
   "cell_type": "code",
   "execution_count": null,
   "metadata": {},
   "outputs": [],
   "source": []
  },
  {
   "cell_type": "code",
   "execution_count": null,
   "metadata": {},
   "outputs": [],
   "source": []
  },
  {
   "cell_type": "code",
   "execution_count": null,
   "metadata": {},
   "outputs": [],
   "source": []
  },
  {
   "cell_type": "code",
   "execution_count": null,
   "metadata": {},
   "outputs": [],
   "source": []
  },
  {
   "cell_type": "code",
   "execution_count": null,
   "metadata": {},
   "outputs": [],
   "source": []
  },
  {
   "cell_type": "code",
   "execution_count": null,
   "metadata": {},
   "outputs": [],
   "source": []
  },
  {
   "cell_type": "code",
   "execution_count": null,
   "metadata": {},
   "outputs": [],
   "source": []
  },
  {
   "cell_type": "code",
   "execution_count": null,
   "metadata": {},
   "outputs": [],
   "source": []
  },
  {
   "cell_type": "code",
   "execution_count": null,
   "metadata": {},
   "outputs": [],
   "source": []
  }
 ],
 "metadata": {
  "kernelspec": {
   "display_name": "Python 3 (ipykernel)",
   "language": "python",
   "name": "python3"
  },
  "language_info": {
   "codemirror_mode": {
    "name": "ipython",
    "version": 3
   },
   "file_extension": ".py",
   "mimetype": "text/x-python",
   "name": "python",
   "nbconvert_exporter": "python",
   "pygments_lexer": "ipython3",
   "version": "3.8.12"
  }
 },
 "nbformat": 4,
 "nbformat_minor": 4
}
