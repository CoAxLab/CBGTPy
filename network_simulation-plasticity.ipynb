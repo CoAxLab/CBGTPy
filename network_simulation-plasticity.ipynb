{
 "cells": [
  {
   "cell_type": "markdown",
   "metadata": {},
   "source": [
    "### To run the cbgt network, see first the technical_testbench to install all the required packages and start the server "
   ]
  },
  {
   "cell_type": "code",
   "execution_count": 1,
   "metadata": {},
   "outputs": [],
   "source": [
    "#Auto reloading \n",
    "# %load_ext autoreload\n",
    "\n",
    "# %autoreload\n",
    "# %reload_ext autoreload "
   ]
  },
  {
   "cell_type": "code",
   "execution_count": 2,
   "metadata": {},
   "outputs": [],
   "source": [
    "#Removing indentation issues:\n",
    "#!autopep8 --in-place --aggressive --aggressive init_params.py\n",
    "#!autopep8 --in-place --aggressive --aggressive popconstruct.py\n",
    "#!autopep8 --in-place --aggressive --aggressive generateepochs.py\n",
    "#!autopep8 --in-place --aggressive --aggressive qvalues.py"
   ]
  },
  {
   "cell_type": "markdown",
   "metadata": {},
   "source": [
    "# Compile the main simulator code using cython "
   ]
  },
  {
   "cell_type": "code",
   "execution_count": 3,
   "metadata": {},
   "outputs": [
    {
     "name": "stdout",
     "output_type": "stream",
     "text": [
      "running build_ext\n",
      "running build_ext\n"
     ]
    }
   ],
   "source": [
    "!python setup.py build_ext --inplace"
   ]
  },
  {
   "cell_type": "markdown",
   "metadata": {},
   "source": [
    "# Import all the relevant files "
   ]
  },
  {
   "cell_type": "code",
   "execution_count": 4,
   "metadata": {},
   "outputs": [
    {
     "name": "stderr",
     "output_type": "stream",
     "text": [
      "2023-02-27 16:31:47,304\tINFO worker.py:842 -- Connecting to existing Ray cluster at address: 172.26.26.180:6379\n"
     ]
    },
    {
     "data": {
      "text/plain": [
       "<module 'plotting_functions' from '/home/jyotika/Work/CBGTPy_release/CBGTPy/plotting_functions.py'>"
      ]
     },
     "execution_count": 4,
     "metadata": {},
     "output_type": "execute_result"
    }
   ],
   "source": [
    "# Import the pipeline creation object\n",
    "import pandas as pd\n",
    "import numpy as np\n",
    "import cbgt as cbgt\n",
    "import pipeline_creation as pl_creat\n",
    "import plotting_functions as plt_func\n",
    "import plotting_helper_functions as plt_help\n",
    "\n",
    "\n",
    "import importlib\n",
    "\n",
    "importlib.reload(plt_help)\n",
    "importlib.reload(plt_func)"
   ]
  },
  {
   "cell_type": "markdown",
   "metadata": {},
   "source": [
    "# Choose the experiment and create the main pipeline"
   ]
  },
  {
   "cell_type": "code",
   "execution_count": 5,
   "metadata": {},
   "outputs": [
    {
     "name": "stdout",
     "output_type": "stream",
     "text": [
      "75434668\n"
     ]
    }
   ],
   "source": [
    "# Choose the experiment\n",
    "experiment_choice = \"plastic\"\n",
    "\n",
    "# Call choose_pipeline with the pipeline object\n",
    "pl_creat.choose_pipeline(experiment_choice)\n",
    "\n",
    "#Create the main pipeline\n",
    "pl = pl_creat.create_main_pipeline(runloop=True)\n",
    "\n",
    "# set a seed\n",
    "seed = np.random.randint(0,99999999,1)[0]\n",
    "print(seed)\n"
   ]
  },
  {
   "cell_type": "code",
   "execution_count": 6,
   "metadata": {},
   "outputs": [],
   "source": [
    "#Import core functions\n",
    "\n",
    "# from frontendhelpers import * \n",
    "# from tracetype import *\n",
    "# import qvalues as qval\n",
    "# import generateepochs as gen\n",
    "# from agentmatrixinit import *\n",
    "\n",
    "# import pipeline_creation as pl_creat\n",
    "\n",
    "# Import plotting functions\n",
    "# import matplotlib.pyplot as plt\n",
    "\n",
    "# Define the data and figure directory\n",
    "\n",
    "data_dir = \"./Data/\"\n",
    "figure_dir = \"./Figures/\"\n"
   ]
  },
  {
   "cell_type": "markdown",
   "metadata": {},
   "source": [
    "# Running the pipeline"
   ]
  },
  {
   "cell_type": "markdown",
   "metadata": {},
   "source": [
    "### 1. Default values of environment variable"
   ]
  },
  {
   "cell_type": "code",
   "execution_count": 7,
   "metadata": {},
   "outputs": [],
   "source": [
    "#See init_params.py / generateepochs.py / popconstruct.py / qvalues.py\n",
    "#to know the parameters contained in each of the following variables \n",
    "environment = {\n",
    "    'experimentchoice': experiment_choice,\n",
    "    'params': None, #neuron parameters (init_params.py)\n",
    "    'pops': None,   #population parameters (init_params.py)\n",
    "    'receps' : None, #receptor parameters (init_params.py)\n",
    "    'base' : None, #baseline stimulation parameters (init_params.py)\n",
    "    'dpmns' : None, #dopamine related parameters (init_params.py)\n",
    "    #'dpmns' : pd.DataFrame([0.05], columns=['dpmn_wmax']),\n",
    "    #'d1' : None, #D1-MSNs population related parameters (init_params.py)\n",
    "    'd1': None,#pd.DataFrame([[39.5,0.055]], columns=['dpmn_alphaw','dpmn_wmax']),\n",
    "    'd2': None, #pd.DataFrame([[-38.2,0.035]], columns=['dpmn_alphaw','dpmn_wmax']),\n",
    "    'channels' : pd.DataFrame([[\"left\"],[\"right\"]], columns=['action']), #action channels related parameters (init_params.py)\n",
    "    #'actionchannels' : pd.DataFrame([[1],[2]], columns=['action']), #labels for the actions (init_params.py)\n",
    "    #'actionchannels' : pd.DataFrame([[\"left\"],[\"right\"]], columns=['action']), #labels for the actions (init_params.py)\n",
    "    'newpathways' :None,\n",
    "    'Q_support_params': None,#pd.DataFrame([[85,0.6]],columns=['dpmn_CPP_scale','q_alpha']), #initialization of Q-values update (qvalues.py) \n",
    "    'Q_df_set':pd.DataFrame([[0.7, 0.3]],columns=[\"left\",\"right\"]), #initialized Q-values df (qvalues.py)  \n",
    "    'n_trials': 5, #number of trials (generateepochs.py)\n",
    "    'volatility': 2, #frequency of changepoints (generateepochs.py)\n",
    "    'conflict': 1.0, #probability of the preferred choice (generateepochs.py)\n",
    "    'reward_mu': 1, #mean for the magnitude of the reward (generateepochs.py)\n",
    "    'reward_std': 0.01, #std for the magnitude of the reward (generateepochs.py)\n",
    "    'maxstim': 1.0, # 3 instead? how much stimulus the LIP gets at maximum\n",
    "    'opt_signal_present':False,\n",
    "    'opt_signal_probability':1.0, # probability of trials that will get the stop signal / list of trial numbers\n",
    "    'opt_signal_amplitude':0.2, # ampitude of the stop signal over base line\n",
    "    'opt_signal_onset':0., # in ms\n",
    "    'opt_signal_channel': \"all\", # \"all\" (all channels are given the stop signal) \n",
    "    'opt_signal_population':[\"D1STR\"],\n",
    "    'sustainedfraction':0.85\n",
    "                                #/\"any\" (channel given the stop signal is chosen randomly)\n",
    "                                # [list of channels] == subset of channels given the stop signal\n",
    "    \n",
    "}\n"
   ]
  },
  {
   "cell_type": "markdown",
   "metadata": {},
   "source": [
    "### Run the simulation - 1 thread with the environment variable"
   ]
  },
  {
   "cell_type": "code",
   "execution_count": 8,
   "metadata": {},
   "outputs": [
    {
     "name": "stdout",
     "output_type": "stream",
     "text": [
      "\u001b[2m\u001b[36m(worker pid=2885992)\u001b[0m reward_values [1.01764052 1.00400157 1.00978738 1.02240893 1.01867558]\n",
      "\u001b[2m\u001b[36m(worker pid=2885992)\u001b[0m change points: [0 2 4 4]\n",
      "\u001b[2m\u001b[36m(worker pid=2885992)\u001b[0m reward_values [1.01764052 1.00400157 1.00978738 1.02240893 1.01867558]\n",
      "\u001b[2m\u001b[36m(worker pid=2885992)\u001b[0m change points: [0 2 4 4]\n"
     ]
    },
    {
     "name": "stderr",
     "output_type": "stream",
     "text": [
      "\u001b[2m\u001b[36m(worker pid=2885992)\u001b[0m /home/jyotika/Work/CBGTPy_release/CBGTPy/qvalues.py:113: FutureWarning: The frame.append method is deprecated and will be removed from pandas in a future version. Use pandas.concat instead.\n",
      "\u001b[2m\u001b[36m(worker pid=2885992)\u001b[0m   Q_df = Q_df.append(\n",
      "\u001b[2m\u001b[36m(worker pid=2885992)\u001b[0m /home/jyotika/Work/CBGTPy_release/CBGTPy/qvalues.py:126: FutureWarning: The frame.append method is deprecated and will be removed from pandas in a future version. Use pandas.concat instead.\n",
      "\u001b[2m\u001b[36m(worker pid=2885992)\u001b[0m   Q_df = Q_df.append(\n",
      "\u001b[2m\u001b[36m(worker pid=2885992)\u001b[0m /home/jyotika/Work/CBGTPy_release/CBGTPy/qvalues.py:113: FutureWarning: The frame.append method is deprecated and will be removed from pandas in a future version. Use pandas.concat instead.\n",
      "\u001b[2m\u001b[36m(worker pid=2885992)\u001b[0m   Q_df = Q_df.append(\n",
      "\u001b[2m\u001b[36m(worker pid=2885992)\u001b[0m /home/jyotika/Work/CBGTPy_release/CBGTPy/qvalues.py:126: FutureWarning: The frame.append method is deprecated and will be removed from pandas in a future version. Use pandas.concat instead.\n",
      "\u001b[2m\u001b[36m(worker pid=2885992)\u001b[0m   Q_df = Q_df.append(\n"
     ]
    },
    {
     "name": "stdout",
     "output_type": "stream",
     "text": [
      "\u001b[2m\u001b[36m(worker pid=2885992)\u001b[0m 0    100.0`\n",
      "\u001b[2m\u001b[36m(worker pid=2885992)\u001b[0m Name: dpmn_CPP_scale, dtype: object\n",
      "\u001b[2m\u001b[36m(worker pid=2885992)\u001b[0m in helper init Q_df\n",
      "\u001b[2m\u001b[36m(worker pid=2885992)\u001b[0m Q_df_set    left  right\n",
      "\u001b[2m\u001b[36m(worker pid=2885992)\u001b[0m 0   0.7    0.3\n",
      "\u001b[2m\u001b[36m(worker pid=2885992)\u001b[0m q_df not None\n",
      "\u001b[2m\u001b[36m(worker pid=2885992)\u001b[0m Q_df Empty DataFrame\n",
      "\u001b[2m\u001b[36m(worker pid=2885992)\u001b[0m Columns: [left, right]\n",
      "\u001b[2m\u001b[36m(worker pid=2885992)\u001b[0m Index: []\n",
      "\u001b[2m\u001b[36m(worker pid=2885992)\u001b[0m Q_df    left  right\n",
      "\u001b[2m\u001b[36m(worker pid=2885992)\u001b[0m 0   0.5    0.5\n",
      "\u001b[2m\u001b[36m(worker pid=2885992)\u001b[0m Q_df    left  right\n",
      "\u001b[2m\u001b[36m(worker pid=2885992)\u001b[0m 0   0.7    0.3\n",
      "\u001b[2m\u001b[36m(worker pid=2885992)\u001b[0m 0    100.0`\n",
      "\u001b[2m\u001b[36m(worker pid=2885992)\u001b[0m Name: dpmn_CPP_scale, dtype: object\n",
      "\u001b[2m\u001b[36m(worker pid=2885992)\u001b[0m in helper init Q_df\n",
      "\u001b[2m\u001b[36m(worker pid=2885992)\u001b[0m Q_df_set    left  right\n",
      "\u001b[2m\u001b[36m(worker pid=2885992)\u001b[0m 0   0.7    0.3\n",
      "\u001b[2m\u001b[36m(worker pid=2885992)\u001b[0m q_df not None\n",
      "\u001b[2m\u001b[36m(worker pid=2885992)\u001b[0m Q_df Empty DataFrame\n",
      "\u001b[2m\u001b[36m(worker pid=2885992)\u001b[0m Columns: [left, right]\n",
      "\u001b[2m\u001b[36m(worker pid=2885992)\u001b[0m Index: []\n",
      "\u001b[2m\u001b[36m(worker pid=2885992)\u001b[0m Q_df    left  right\n",
      "\u001b[2m\u001b[36m(worker pid=2885992)\u001b[0m 0   0.5    0.5\n",
      "\u001b[2m\u001b[36m(worker pid=2885992)\u001b[0m Q_df    left  right\n",
      "\u001b[2m\u001b[36m(worker pid=2885992)\u001b[0m 0   0.7    0.3\n",
      "\u001b[2m\u001b[36m(worker pid=2885992)\u001b[0m 2 4 0.161666`\n",
      "\u001b[2m\u001b[36m(worker pid=2885992)\u001b[0m 2 4 0.161666`\n",
      "\u001b[2m\u001b[36m(worker pid=2885992)\u001b[0m 3 5 0.161666`\n",
      "\u001b[2m\u001b[36m(worker pid=2885992)\u001b[0m 10 6 1.0`\n",
      "\u001b[2m\u001b[36m(worker pid=2885992)\u001b[0m 10 8 1.0`\n",
      "\u001b[2m\u001b[36m(worker pid=2885992)\u001b[0m 3 5 0.161666`\n",
      "\u001b[2m\u001b[36m(worker pid=2885992)\u001b[0m 10 6 1.0`\n",
      "\u001b[2m\u001b[36m(worker pid=2885992)\u001b[0m 10 8 1.0`\n",
      "\u001b[2m\u001b[36m(worker pid=2885992)\u001b[0m 10 10 0.13`\n",
      "\u001b[2m\u001b[36m(worker pid=2885992)\u001b[0m 10 12 1.0`\n",
      "\u001b[2m\u001b[36m(worker pid=2885992)\u001b[0m 10 14 1.0`\n",
      "\u001b[2m\u001b[36m(worker pid=2885992)\u001b[0m 10 10 0.13`\n",
      "\u001b[2m\u001b[36m(worker pid=2885992)\u001b[0m 10 12 1.0`\n",
      "\u001b[2m\u001b[36m(worker pid=2885992)\u001b[0m 10 14 1.0`\n",
      "\u001b[2m\u001b[36m(worker pid=2885992)\u001b[0m 10 15 0.0725`\n",
      "\u001b[2m\u001b[36m(worker pid=2885992)\u001b[0m 11 7 1.0`\n",
      "\u001b[2m\u001b[36m(worker pid=2885992)\u001b[0m 11 9 1.0`\n",
      "\u001b[2m\u001b[36m(worker pid=2885992)\u001b[0m 10 15 0.0725`\n",
      "\u001b[2m\u001b[36m(worker pid=2885992)\u001b[0m 11 7 1.0`\n",
      "\u001b[2m\u001b[36m(worker pid=2885992)\u001b[0m 11 9 1.0`\n",
      "\u001b[2m\u001b[36m(worker pid=2885992)\u001b[0m 11 11 0.13`\n",
      "\u001b[2m\u001b[36m(worker pid=2885992)\u001b[0m 11 13 1.0`\n",
      "\u001b[2m\u001b[36m(worker pid=2885992)\u001b[0m 11 14 1.0`\n",
      "\u001b[2m\u001b[36m(worker pid=2885992)\u001b[0m 11 11 0.13`\n",
      "\u001b[2m\u001b[36m(worker pid=2885992)\u001b[0m 11 13 1.0`\n",
      "\u001b[2m\u001b[36m(worker pid=2885992)\u001b[0m 11 14 1.0`\n",
      "\u001b[2m\u001b[36m(worker pid=2885992)\u001b[0m 11 15 0.0725`\n",
      "\u001b[2m\u001b[36m(worker pid=2885992)\u001b[0m 12 6 1.0`\n",
      "\u001b[2m\u001b[36m(worker pid=2885992)\u001b[0m 12 8 1.0`\n",
      "\u001b[2m\u001b[36m(worker pid=2885992)\u001b[0m 12 14 0.8334`\n",
      "\u001b[2m\u001b[36m(worker pid=2885992)\u001b[0m 13 7 1.0`\n",
      "\u001b[2m\u001b[36m(worker pid=2885992)\u001b[0m 13 9 1.0`\n",
      "\u001b[2m\u001b[36m(worker pid=2885992)\u001b[0m 13 14 0.8334`\n",
      "\u001b[2m\u001b[36m(worker pid=2885992)\u001b[0m 0 12 1.0`\n",
      "\u001b[2m\u001b[36m(worker pid=2885992)\u001b[0m 1 13 1.0`\n",
      "\u001b[2m\u001b[36m(worker pid=2885992)\u001b[0m 4 0 1.0`\n",
      "\u001b[2m\u001b[36m(worker pid=2885992)\u001b[0m 11 15 0.0725`\n",
      "\u001b[2m\u001b[36m(worker pid=2885992)\u001b[0m 12 6 1.0`\n",
      "\u001b[2m\u001b[36m(worker pid=2885992)\u001b[0m 12 8 1.0`\n",
      "\u001b[2m\u001b[36m(worker pid=2885992)\u001b[0m 12 14 0.8334`\n",
      "\u001b[2m\u001b[36m(worker pid=2885992)\u001b[0m 13 7 1.0`\n",
      "\u001b[2m\u001b[36m(worker pid=2885992)\u001b[0m 13 9 1.0`\n",
      "\u001b[2m\u001b[36m(worker pid=2885992)\u001b[0m 13 14 0.8334`\n",
      "\u001b[2m\u001b[36m(worker pid=2885992)\u001b[0m 0 12 1.0`\n",
      "\u001b[2m\u001b[36m(worker pid=2885992)\u001b[0m 1 13 1.0`\n",
      "\u001b[2m\u001b[36m(worker pid=2885992)\u001b[0m 4 0 1.0`\n",
      "\u001b[2m\u001b[36m(worker pid=2885992)\u001b[0m 4 2 0.0667`\n",
      "\u001b[2m\u001b[36m(worker pid=2885992)\u001b[0m 4 2 0.0667`\n",
      "\u001b[2m\u001b[36m(worker pid=2885992)\u001b[0m 4 4 0.0667`\n",
      "\u001b[2m\u001b[36m(worker pid=2885992)\u001b[0m 4 4 0.0667`\n",
      "\u001b[2m\u001b[36m(worker pid=2885992)\u001b[0m 4 5 0.0667`\n",
      "\u001b[2m\u001b[36m(worker pid=2885992)\u001b[0m 5 1 1.0`\n",
      "\u001b[2m\u001b[36m(worker pid=2885992)\u001b[0m 4 5 0.0667`\n",
      "\u001b[2m\u001b[36m(worker pid=2885992)\u001b[0m 5 1 1.0`\n",
      "\u001b[2m\u001b[36m(worker pid=2885992)\u001b[0m 5 3 0.0667`\n",
      "\u001b[2m\u001b[36m(worker pid=2885992)\u001b[0m 5 3 0.0667`\n",
      "\u001b[2m\u001b[36m(worker pid=2885992)\u001b[0m 5 4 0.0667`\n",
      "\u001b[2m\u001b[36m(worker pid=2885992)\u001b[0m 5 4 0.0667`\n",
      "\u001b[2m\u001b[36m(worker pid=2885992)\u001b[0m 5 5 0.0667`\n",
      "\u001b[2m\u001b[36m(worker pid=2885992)\u001b[0m 5 5 0.0667`\n",
      "\u001b[2m\u001b[36m(worker pid=2885992)\u001b[0m 6 0 1.0`\n",
      "\u001b[2m\u001b[36m(worker pid=2885992)\u001b[0m 6 6 0.45`\n",
      "\u001b[2m\u001b[36m(worker pid=2885992)\u001b[0m 6 8 0.45`\n",
      "\u001b[2m\u001b[36m(worker pid=2885992)\u001b[0m 7 1 1.0`\n",
      "\u001b[2m\u001b[36m(worker pid=2885992)\u001b[0m 7 7 0.45`\n",
      "\u001b[2m\u001b[36m(worker pid=2885992)\u001b[0m 6 0 1.0`\n",
      "\u001b[2m\u001b[36m(worker pid=2885992)\u001b[0m 6 6 0.45`\n",
      "\u001b[2m\u001b[36m(worker pid=2885992)\u001b[0m 6 8 0.45`\n",
      "\u001b[2m\u001b[36m(worker pid=2885992)\u001b[0m 7 1 1.0`\n",
      "\u001b[2m\u001b[36m(worker pid=2885992)\u001b[0m 7 7 0.45`\n",
      "\u001b[2m\u001b[36m(worker pid=2885992)\u001b[0m 7 9 0.45`\n",
      "\u001b[2m\u001b[36m(worker pid=2885992)\u001b[0m 8 4 1.0`\n",
      "\u001b[2m\u001b[36m(worker pid=2885992)\u001b[0m 8 6 0.5`\n",
      "\u001b[2m\u001b[36m(worker pid=2885992)\u001b[0m 8 8 0.45`\n",
      "\u001b[2m\u001b[36m(worker pid=2885992)\u001b[0m 9 5 1.0`\n",
      "\u001b[2m\u001b[36m(worker pid=2885992)\u001b[0m 9 7 0.5`\n",
      "\u001b[2m\u001b[36m(worker pid=2885992)\u001b[0m 9 9 0.45`\n",
      "\u001b[2m\u001b[36m(worker pid=2885992)\u001b[0m 7 9 0.45`\n",
      "\u001b[2m\u001b[36m(worker pid=2885992)\u001b[0m 8 4 1.0`\n",
      "\u001b[2m\u001b[36m(worker pid=2885992)\u001b[0m 8 6 0.5`\n",
      "\u001b[2m\u001b[36m(worker pid=2885992)\u001b[0m 8 8 0.45`\n",
      "\u001b[2m\u001b[36m(worker pid=2885992)\u001b[0m 9 5 1.0`\n",
      "\u001b[2m\u001b[36m(worker pid=2885992)\u001b[0m 9 7 0.5`\n",
      "\u001b[2m\u001b[36m(worker pid=2885992)\u001b[0m 9 9 0.45`\n",
      "\u001b[2m\u001b[36m(worker pid=2885992)\u001b[0m 14 6 1.0`\n",
      "\u001b[2m\u001b[36m(worker pid=2885992)\u001b[0m 14 7 1.0`\n",
      "\u001b[2m\u001b[36m(worker pid=2885992)\u001b[0m 14 8 1.0`\n",
      "\u001b[2m\u001b[36m(worker pid=2885992)\u001b[0m 14 9 1.0`\n",
      "\u001b[2m\u001b[36m(worker pid=2885992)\u001b[0m 14 14 1.0`\n",
      "\u001b[2m\u001b[36m(worker pid=2885992)\u001b[0m 14 6 1.0`\n",
      "\u001b[2m\u001b[36m(worker pid=2885992)\u001b[0m 14 7 1.0`\n",
      "\u001b[2m\u001b[36m(worker pid=2885992)\u001b[0m 14 8 1.0`\n",
      "\u001b[2m\u001b[36m(worker pid=2885992)\u001b[0m 14 9 1.0`\n",
      "\u001b[2m\u001b[36m(worker pid=2885992)\u001b[0m 14 14 1.0`\n",
      "\u001b[2m\u001b[36m(worker pid=2885992)\u001b[0m 15 10 0.5`\n",
      "\u001b[2m\u001b[36m(worker pid=2885992)\u001b[0m 15 10 0.5`\n",
      "\u001b[2m\u001b[36m(worker pid=2885992)\u001b[0m 15 11 0.5`\n",
      "\u001b[2m\u001b[36m(worker pid=2885992)\u001b[0m 15 15 1.0`\n",
      "\u001b[2m\u001b[36m(worker pid=2885992)\u001b[0m 2 0 1.0`\n",
      "\u001b[2m\u001b[36m(worker pid=2885992)\u001b[0m 2 1 1.0`\n",
      "\u001b[2m\u001b[36m(worker pid=2885992)\u001b[0m 15 11 0.5`\n",
      "\u001b[2m\u001b[36m(worker pid=2885992)\u001b[0m 15 15 1.0`\n",
      "\u001b[2m\u001b[36m(worker pid=2885992)\u001b[0m 2 0 1.0`\n",
      "\u001b[2m\u001b[36m(worker pid=2885992)\u001b[0m 2 1 1.0`\n",
      "\u001b[2m\u001b[36m(worker pid=2885992)\u001b[0m 2 4 0.161666`\n",
      "\u001b[2m\u001b[36m(worker pid=2885992)\u001b[0m 3 0 1.0`\n",
      "\u001b[2m\u001b[36m(worker pid=2885992)\u001b[0m 3 1 1.0`\n",
      "\u001b[2m\u001b[36m(worker pid=2885992)\u001b[0m 2 4 0.161666`\n",
      "\u001b[2m\u001b[36m(worker pid=2885992)\u001b[0m 3 0 1.0`\n",
      "\u001b[2m\u001b[36m(worker pid=2885992)\u001b[0m 3 1 1.0`\n",
      "\u001b[2m\u001b[36m(worker pid=2885992)\u001b[0m 3 5 0.161666`\n",
      "\u001b[2m\u001b[36m(worker pid=2885992)\u001b[0m 10 6 1.0`\n",
      "\u001b[2m\u001b[36m(worker pid=2885992)\u001b[0m 10 8 1.0`\n",
      "\u001b[2m\u001b[36m(worker pid=2885992)\u001b[0m 3 5 0.161666`\n",
      "\u001b[2m\u001b[36m(worker pid=2885992)\u001b[0m 10 6 1.0`\n",
      "\u001b[2m\u001b[36m(worker pid=2885992)\u001b[0m 10 8 1.0`\n",
      "\u001b[2m\u001b[36m(worker pid=2885992)\u001b[0m 10 10 0.13`\n",
      "\u001b[2m\u001b[36m(worker pid=2885992)\u001b[0m 10 12 1.0`\n",
      "\u001b[2m\u001b[36m(worker pid=2885992)\u001b[0m 10 10 0.13`\n",
      "\u001b[2m\u001b[36m(worker pid=2885992)\u001b[0m 10 12 1.0`\n",
      "\u001b[2m\u001b[36m(worker pid=2885992)\u001b[0m 10 15 0.0725`\n",
      "\u001b[2m\u001b[36m(worker pid=2885992)\u001b[0m 11 7 1.0`\n",
      "\u001b[2m\u001b[36m(worker pid=2885992)\u001b[0m 11 9 1.0`\n",
      "\u001b[2m\u001b[36m(worker pid=2885992)\u001b[0m 10 15 0.0725`\n",
      "\u001b[2m\u001b[36m(worker pid=2885992)\u001b[0m 11 7 1.0`\n",
      "\u001b[2m\u001b[36m(worker pid=2885992)\u001b[0m 11 9 1.0`\n",
      "\u001b[2m\u001b[36m(worker pid=2885992)\u001b[0m 11 11 0.13`\n",
      "\u001b[2m\u001b[36m(worker pid=2885992)\u001b[0m 11 13 1.0`\n",
      "\u001b[2m\u001b[36m(worker pid=2885992)\u001b[0m 11 11 0.13`\n",
      "\u001b[2m\u001b[36m(worker pid=2885992)\u001b[0m 11 13 1.0`\n",
      "\u001b[2m\u001b[36m(worker pid=2885992)\u001b[0m 11 15 0.0725`\n",
      "\u001b[2m\u001b[36m(worker pid=2885992)\u001b[0m 11 15 0.0725`\n",
      "\u001b[2m\u001b[36m(worker pid=2885992)\u001b[0m 12 10 0.8334`\n",
      "\u001b[2m\u001b[36m(worker pid=2885992)\u001b[0m 12 10 0.8334`\n",
      "\u001b[2m\u001b[36m(worker pid=2885992)\u001b[0m 12 11 0.8334`\n",
      "\u001b[2m\u001b[36m(worker pid=2885992)\u001b[0m 12 15 0.8334`\n",
      "\u001b[2m\u001b[36m(worker pid=2885992)\u001b[0m 12 11 0.8334`\n",
      "\u001b[2m\u001b[36m(worker pid=2885992)\u001b[0m 12 15 0.8334`\n",
      "\u001b[2m\u001b[36m(worker pid=2885992)\u001b[0m 13 10 0.8334`\n",
      "\u001b[2m\u001b[36m(worker pid=2885992)\u001b[0m 13 10 0.8334`\n",
      "\u001b[2m\u001b[36m(worker pid=2885992)\u001b[0m 13 11 0.8334`\n",
      "\u001b[2m\u001b[36m(worker pid=2885992)\u001b[0m 13 15 0.8334`\n",
      "\u001b[2m\u001b[36m(worker pid=2885992)\u001b[0m 13 11 0.8334`\n",
      "\u001b[2m\u001b[36m(worker pid=2885992)\u001b[0m 13 15 0.8334`\n",
      "\u001b[2m\u001b[36m(worker pid=2885992)\u001b[0m phasetimer 264\n",
      "\u001b[2m\u001b[36m(worker pid=2885992)\u001b[0m gateFRs [24.         30.22222222]\n",
      "\u001b[2m\u001b[36m(worker pid=2885992)\u001b[0m thresholds_crossed [1]\n",
      "\u001b[2m\u001b[36m(worker pid=2885992)\u001b[0m phasetimer 264\n",
      "\u001b[2m\u001b[36m(worker pid=2885992)\u001b[0m gateFRs [24.         30.22222222]\n",
      "\u001b[2m\u001b[36m(worker pid=2885992)\u001b[0m thresholds_crossed [1]\n"
     ]
    },
    {
     "name": "stdout",
     "output_type": "stream",
     "text": [
      "\u001b[2m\u001b[36m(worker pid=2885992)\u001b[0m globaltimer 565\n",
      "\u001b[2m\u001b[36m(worker pid=2885992)\u001b[0m trial_num 0\n",
      "\u001b[2m\u001b[36m(worker pid=2885992)\u001b[0m chosen_action right\n",
      "\u001b[2m\u001b[36m(worker pid=2885992)\u001b[0m globaltimer 565\n",
      "\u001b[2m\u001b[36m(worker pid=2885992)\u001b[0m trial_num 0\n",
      "\u001b[2m\u001b[36m(worker pid=2885992)\u001b[0m chosen_action right\n",
      "\u001b[2m\u001b[36m(worker pid=2885992)\u001b[0m trial_num 0\n",
      "\u001b[2m\u001b[36m(worker pid=2885992)\u001b[0m q_val_chosen [0.3]\n",
      "\u001b[2m\u001b[36m(worker pid=2885992)\u001b[0m da_inc [-0.3]\n",
      "\u001b[2m\u001b[36m(worker pid=2885992)\u001b[0m Q_df updated\n",
      "\u001b[2m\u001b[36m(worker pid=2885992)\u001b[0m    left  right\n",
      "\u001b[2m\u001b[36m(worker pid=2885992)\u001b[0m 0   0.7  0.300\n",
      "\u001b[2m\u001b[36m(worker pid=2885992)\u001b[0m 0   0.7  0.225\n",
      "\u001b[2m\u001b[36m(worker pid=2885992)\u001b[0m scaled dopamine signal -30.0\n",
      "\u001b[2m\u001b[36m(worker pid=2885992)\u001b[0m trial_num 0\n",
      "\u001b[2m\u001b[36m(worker pid=2885992)\u001b[0m q_val_chosen [0.3]\n",
      "\u001b[2m\u001b[36m(worker pid=2885992)\u001b[0m da_inc [-0.3]\n",
      "\u001b[2m\u001b[36m(worker pid=2885992)\u001b[0m Q_df updated\n",
      "\u001b[2m\u001b[36m(worker pid=2885992)\u001b[0m    left  right\n",
      "\u001b[2m\u001b[36m(worker pid=2885992)\u001b[0m 0   0.7  0.300\n",
      "\u001b[2m\u001b[36m(worker pid=2885992)\u001b[0m 0   0.7  0.225\n",
      "\u001b[2m\u001b[36m(worker pid=2885992)\u001b[0m scaled dopamine signal -30.0\n"
     ]
    },
    {
     "name": "stderr",
     "output_type": "stream",
     "text": [
      "\u001b[2m\u001b[36m(worker pid=2885992)\u001b[0m /home/jyotika/Work/CBGTPy_release/CBGTPy/qvalues.py:182: FutureWarning: The frame.append method is deprecated and will be removed from pandas in a future version. Use pandas.concat instead.\n",
      "\u001b[2m\u001b[36m(worker pid=2885992)\u001b[0m   Q_df = Q_df.append(new_data)\n",
      "\u001b[2m\u001b[36m(worker pid=2885992)\u001b[0m /home/jyotika/Work/CBGTPy_release/CBGTPy/qvalues.py:182: FutureWarning: The frame.append method is deprecated and will be removed from pandas in a future version. Use pandas.concat instead.\n",
      "\u001b[2m\u001b[36m(worker pid=2885992)\u001b[0m   Q_df = Q_df.append(new_data)\n"
     ]
    },
    {
     "name": "stdout",
     "output_type": "stream",
     "text": [
      "\u001b[2m\u001b[36m(worker pid=2885992)\u001b[0m phasetimer 184\n",
      "\u001b[2m\u001b[36m(worker pid=2885992)\u001b[0m gateFRs [30.88888889 20.        ]\n",
      "\u001b[2m\u001b[36m(worker pid=2885992)\u001b[0m thresholds_crossed [0]\n",
      "\u001b[2m\u001b[36m(worker pid=2885992)\u001b[0m phasetimer 184\n",
      "\u001b[2m\u001b[36m(worker pid=2885992)\u001b[0m gateFRs [30.88888889 20.        ]\n",
      "\u001b[2m\u001b[36m(worker pid=2885992)\u001b[0m thresholds_crossed [0]\n"
     ]
    },
    {
     "name": "stderr",
     "output_type": "stream",
     "text": [
      "\u001b[2m\u001b[36m(worker pid=2885992)\u001b[0m /home/jyotika/Work/CBGTPy_release/CBGTPy/qvalues.py:182: FutureWarning: The frame.append method is deprecated and will be removed from pandas in a future version. Use pandas.concat instead.\n",
      "\u001b[2m\u001b[36m(worker pid=2885992)\u001b[0m   Q_df = Q_df.append(new_data)\n",
      "\u001b[2m\u001b[36m(worker pid=2885992)\u001b[0m /home/jyotika/Work/CBGTPy_release/CBGTPy/qvalues.py:182: FutureWarning: The frame.append method is deprecated and will be removed from pandas in a future version. Use pandas.concat instead.\n",
      "\u001b[2m\u001b[36m(worker pid=2885992)\u001b[0m   Q_df = Q_df.append(new_data)\n"
     ]
    },
    {
     "name": "stdout",
     "output_type": "stream",
     "text": [
      "\u001b[2m\u001b[36m(worker pid=2885992)\u001b[0m globaltimer 1651\n",
      "\u001b[2m\u001b[36m(worker pid=2885992)\u001b[0m trial_num 1\n",
      "\u001b[2m\u001b[36m(worker pid=2885992)\u001b[0m chosen_action left\n",
      "\u001b[2m\u001b[36m(worker pid=2885992)\u001b[0m trial_num 1\n",
      "\u001b[2m\u001b[36m(worker pid=2885992)\u001b[0m q_val_chosen [0.7]\n",
      "\u001b[2m\u001b[36m(worker pid=2885992)\u001b[0m da_inc [0.30400157]\n",
      "\u001b[2m\u001b[36m(worker pid=2885992)\u001b[0m Q_df updated\n",
      "\u001b[2m\u001b[36m(worker pid=2885992)\u001b[0m     left  right\n",
      "\u001b[2m\u001b[36m(worker pid=2885992)\u001b[0m 0  0.700  0.300\n",
      "\u001b[2m\u001b[36m(worker pid=2885992)\u001b[0m 0  0.700  0.225\n",
      "\u001b[2m\u001b[36m(worker pid=2885992)\u001b[0m 0  0.776  0.225\n",
      "\u001b[2m\u001b[36m(worker pid=2885992)\u001b[0m scaled dopamine signal 30.40015720836722\n",
      "\u001b[2m\u001b[36m(worker pid=2885992)\u001b[0m globaltimer 1651\n",
      "\u001b[2m\u001b[36m(worker pid=2885992)\u001b[0m trial_num 1\n",
      "\u001b[2m\u001b[36m(worker pid=2885992)\u001b[0m chosen_action left\n",
      "\u001b[2m\u001b[36m(worker pid=2885992)\u001b[0m trial_num 1\n",
      "\u001b[2m\u001b[36m(worker pid=2885992)\u001b[0m q_val_chosen [0.7]\n",
      "\u001b[2m\u001b[36m(worker pid=2885992)\u001b[0m da_inc [0.30400157]\n",
      "\u001b[2m\u001b[36m(worker pid=2885992)\u001b[0m Q_df updated\n",
      "\u001b[2m\u001b[36m(worker pid=2885992)\u001b[0m     left  right\n",
      "\u001b[2m\u001b[36m(worker pid=2885992)\u001b[0m 0  0.700  0.300\n",
      "\u001b[2m\u001b[36m(worker pid=2885992)\u001b[0m 0  0.700  0.225\n",
      "\u001b[2m\u001b[36m(worker pid=2885992)\u001b[0m 0  0.776  0.225\n",
      "\u001b[2m\u001b[36m(worker pid=2885992)\u001b[0m scaled dopamine signal 30.40015720836722\n",
      "\u001b[2m\u001b[36m(worker pid=2885992)\u001b[0m phasetimer 124\n",
      "\u001b[2m\u001b[36m(worker pid=2885992)\u001b[0m gateFRs [30.44444444 24.66666667]\n",
      "\u001b[2m\u001b[36m(worker pid=2885992)\u001b[0m thresholds_crossed [0]\n",
      "\u001b[2m\u001b[36m(worker pid=2885992)\u001b[0m phasetimer 124\n",
      "\u001b[2m\u001b[36m(worker pid=2885992)\u001b[0m gateFRs [30.44444444 24.66666667]\n",
      "\u001b[2m\u001b[36m(worker pid=2885992)\u001b[0m thresholds_crossed [0]\n"
     ]
    },
    {
     "name": "stderr",
     "output_type": "stream",
     "text": [
      "\u001b[2m\u001b[36m(worker pid=2885992)\u001b[0m /home/jyotika/Work/CBGTPy_release/CBGTPy/qvalues.py:182: FutureWarning: The frame.append method is deprecated and will be removed from pandas in a future version. Use pandas.concat instead.\n",
      "\u001b[2m\u001b[36m(worker pid=2885992)\u001b[0m   Q_df = Q_df.append(new_data)\n",
      "\u001b[2m\u001b[36m(worker pid=2885992)\u001b[0m /home/jyotika/Work/CBGTPy_release/CBGTPy/qvalues.py:182: FutureWarning: The frame.append method is deprecated and will be removed from pandas in a future version. Use pandas.concat instead.\n",
      "\u001b[2m\u001b[36m(worker pid=2885992)\u001b[0m   Q_df = Q_df.append(new_data)\n"
     ]
    },
    {
     "name": "stdout",
     "output_type": "stream",
     "text": [
      "\u001b[2m\u001b[36m(worker pid=2885992)\u001b[0m globaltimer 2677\n",
      "\u001b[2m\u001b[36m(worker pid=2885992)\u001b[0m trial_num 2\n",
      "\u001b[2m\u001b[36m(worker pid=2885992)\u001b[0m chosen_action left\n",
      "\u001b[2m\u001b[36m(worker pid=2885992)\u001b[0m trial_num 2\n",
      "\u001b[2m\u001b[36m(worker pid=2885992)\u001b[0m q_val_chosen [0.77600039]\n",
      "\u001b[2m\u001b[36m(worker pid=2885992)\u001b[0m da_inc [-0.77600039]\n",
      "\u001b[2m\u001b[36m(worker pid=2885992)\u001b[0m Q_df updated\n",
      "\u001b[2m\u001b[36m(worker pid=2885992)\u001b[0m     left  right\n",
      "\u001b[2m\u001b[36m(worker pid=2885992)\u001b[0m 0  0.700  0.300\n",
      "\u001b[2m\u001b[36m(worker pid=2885992)\u001b[0m 0  0.700  0.225\n",
      "\u001b[2m\u001b[36m(worker pid=2885992)\u001b[0m 0  0.776  0.225\n",
      "\u001b[2m\u001b[36m(worker pid=2885992)\u001b[0m 0  0.582  0.225\n",
      "\u001b[2m\u001b[36m(worker pid=2885992)\u001b[0m scaled dopamine signal -77.6000393020918\n",
      "\u001b[2m\u001b[36m(worker pid=2885992)\u001b[0m globaltimer 2677\n",
      "\u001b[2m\u001b[36m(worker pid=2885992)\u001b[0m trial_num 2\n",
      "\u001b[2m\u001b[36m(worker pid=2885992)\u001b[0m chosen_action left\n",
      "\u001b[2m\u001b[36m(worker pid=2885992)\u001b[0m trial_num 2\n",
      "\u001b[2m\u001b[36m(worker pid=2885992)\u001b[0m q_val_chosen [0.77600039]\n",
      "\u001b[2m\u001b[36m(worker pid=2885992)\u001b[0m da_inc [-0.77600039]\n",
      "\u001b[2m\u001b[36m(worker pid=2885992)\u001b[0m Q_df updated\n",
      "\u001b[2m\u001b[36m(worker pid=2885992)\u001b[0m     left  right\n",
      "\u001b[2m\u001b[36m(worker pid=2885992)\u001b[0m 0  0.700  0.300\n",
      "\u001b[2m\u001b[36m(worker pid=2885992)\u001b[0m 0  0.700  0.225\n",
      "\u001b[2m\u001b[36m(worker pid=2885992)\u001b[0m 0  0.776  0.225\n",
      "\u001b[2m\u001b[36m(worker pid=2885992)\u001b[0m 0  0.582  0.225\n",
      "\u001b[2m\u001b[36m(worker pid=2885992)\u001b[0m scaled dopamine signal -77.6000393020918\n",
      "\u001b[2m\u001b[36m(worker pid=2885992)\u001b[0m phasetimer 215\n",
      "\u001b[2m\u001b[36m(worker pid=2885992)\u001b[0m gateFRs [20.88888889 30.66666667]\n",
      "\u001b[2m\u001b[36m(worker pid=2885992)\u001b[0m thresholds_crossed [1]\n",
      "\u001b[2m\u001b[36m(worker pid=2885992)\u001b[0m phasetimer 215\n",
      "\u001b[2m\u001b[36m(worker pid=2885992)\u001b[0m gateFRs [20.88888889 30.66666667]\n",
      "\u001b[2m\u001b[36m(worker pid=2885992)\u001b[0m thresholds_crossed [1]\n",
      "\u001b[2m\u001b[36m(worker pid=2885992)\u001b[0m globaltimer 3794\n",
      "\u001b[2m\u001b[36m(worker pid=2885992)\u001b[0m trial_num 3\n",
      "\u001b[2m\u001b[36m(worker pid=2885992)\u001b[0m chosen_action right\n",
      "\u001b[2m\u001b[36m(worker pid=2885992)\u001b[0m globaltimer 3794\n",
      "\u001b[2m\u001b[36m(worker pid=2885992)\u001b[0m trial_num 3\n",
      "\u001b[2m\u001b[36m(worker pid=2885992)\u001b[0m chosen_action right\n",
      "\u001b[2m\u001b[36m(worker pid=2885992)\u001b[0m trial_num 3\n",
      "\u001b[2m\u001b[36m(worker pid=2885992)\u001b[0m q_val_chosen [0.225]\n",
      "\u001b[2m\u001b[36m(worker pid=2885992)\u001b[0m da_inc [0.79740893]\n",
      "\u001b[2m\u001b[36m(worker pid=2885992)\u001b[0m Q_df updated\n",
      "\u001b[2m\u001b[36m(worker pid=2885992)\u001b[0m     left     right\n",
      "\u001b[2m\u001b[36m(worker pid=2885992)\u001b[0m 0  0.700  0.300000\n",
      "\u001b[2m\u001b[36m(worker pid=2885992)\u001b[0m 0  0.700  0.225000\n",
      "\u001b[2m\u001b[36m(worker pid=2885992)\u001b[0m 0  0.776  0.225000\n",
      "\u001b[2m\u001b[36m(worker pid=2885992)\u001b[0m 0  0.582  0.225000\n",
      "\u001b[2m\u001b[36m(worker pid=2885992)\u001b[0m 0  0.582  0.424352\n",
      "\u001b[2m\u001b[36m(worker pid=2885992)\u001b[0m scaled dopamine signal 79.74089319920147\n",
      "\u001b[2m\u001b[36m(worker pid=2885992)\u001b[0m trial_num 3\n",
      "\u001b[2m\u001b[36m(worker pid=2885992)\u001b[0m q_val_chosen [0.225]\n",
      "\u001b[2m\u001b[36m(worker pid=2885992)\u001b[0m da_inc [0.79740893]\n",
      "\u001b[2m\u001b[36m(worker pid=2885992)\u001b[0m Q_df updated\n",
      "\u001b[2m\u001b[36m(worker pid=2885992)\u001b[0m     left     right\n",
      "\u001b[2m\u001b[36m(worker pid=2885992)\u001b[0m 0  0.700  0.300000\n",
      "\u001b[2m\u001b[36m(worker pid=2885992)\u001b[0m 0  0.700  0.225000\n",
      "\u001b[2m\u001b[36m(worker pid=2885992)\u001b[0m 0  0.776  0.225000\n",
      "\u001b[2m\u001b[36m(worker pid=2885992)\u001b[0m 0  0.582  0.225000\n",
      "\u001b[2m\u001b[36m(worker pid=2885992)\u001b[0m 0  0.582  0.424352\n",
      "\u001b[2m\u001b[36m(worker pid=2885992)\u001b[0m scaled dopamine signal 79.74089319920147\n"
     ]
    },
    {
     "name": "stderr",
     "output_type": "stream",
     "text": [
      "\u001b[2m\u001b[36m(worker pid=2885992)\u001b[0m /home/jyotika/Work/CBGTPy_release/CBGTPy/qvalues.py:182: FutureWarning: The frame.append method is deprecated and will be removed from pandas in a future version. Use pandas.concat instead.\n",
      "\u001b[2m\u001b[36m(worker pid=2885992)\u001b[0m   Q_df = Q_df.append(new_data)\n",
      "\u001b[2m\u001b[36m(worker pid=2885992)\u001b[0m /home/jyotika/Work/CBGTPy_release/CBGTPy/qvalues.py:182: FutureWarning: The frame.append method is deprecated and will be removed from pandas in a future version. Use pandas.concat instead.\n",
      "\u001b[2m\u001b[36m(worker pid=2885992)\u001b[0m   Q_df = Q_df.append(new_data)\n"
     ]
    },
    {
     "name": "stdout",
     "output_type": "stream",
     "text": [
      "\u001b[2m\u001b[36m(worker pid=2885992)\u001b[0m phasetimer 211\n",
      "\u001b[2m\u001b[36m(worker pid=2885992)\u001b[0m gateFRs [26.22222222 30.66666667]\n",
      "\u001b[2m\u001b[36m(worker pid=2885992)\u001b[0m thresholds_crossed [1]\n",
      "\u001b[2m\u001b[36m(worker pid=2885992)\u001b[0m phasetimer 211\n",
      "\u001b[2m\u001b[36m(worker pid=2885992)\u001b[0m gateFRs [26.22222222 30.66666667]\n",
      "\u001b[2m\u001b[36m(worker pid=2885992)\u001b[0m thresholds_crossed [1]\n"
     ]
    },
    {
     "name": "stderr",
     "output_type": "stream",
     "text": [
      "\u001b[2m\u001b[36m(worker pid=2885992)\u001b[0m /home/jyotika/Work/CBGTPy_release/CBGTPy/qvalues.py:182: FutureWarning: The frame.append method is deprecated and will be removed from pandas in a future version. Use pandas.concat instead.\n",
      "\u001b[2m\u001b[36m(worker pid=2885992)\u001b[0m   Q_df = Q_df.append(new_data)\n",
      "\u001b[2m\u001b[36m(worker pid=2885992)\u001b[0m /home/jyotika/Work/CBGTPy_release/CBGTPy/qvalues.py:182: FutureWarning: The frame.append method is deprecated and will be removed from pandas in a future version. Use pandas.concat instead.\n",
      "\u001b[2m\u001b[36m(worker pid=2885992)\u001b[0m   Q_df = Q_df.append(new_data)\n"
     ]
    },
    {
     "name": "stdout",
     "output_type": "stream",
     "text": [
      "\u001b[2m\u001b[36m(worker pid=2885992)\u001b[0m globaltimer 4907\n",
      "\u001b[2m\u001b[36m(worker pid=2885992)\u001b[0m trial_num 4\n",
      "\u001b[2m\u001b[36m(worker pid=2885992)\u001b[0m chosen_action right\n",
      "\u001b[2m\u001b[36m(worker pid=2885992)\u001b[0m trial_num 4\n",
      "\u001b[2m\u001b[36m(worker pid=2885992)\u001b[0m q_val_chosen [0.42435223]\n",
      "\u001b[2m\u001b[36m(worker pid=2885992)\u001b[0m da_inc [-0.42435223]\n",
      "\u001b[2m\u001b[36m(worker pid=2885992)\u001b[0m Q_df updated\n",
      "\u001b[2m\u001b[36m(worker pid=2885992)\u001b[0m     left     right\n",
      "\u001b[2m\u001b[36m(worker pid=2885992)\u001b[0m 0  0.700  0.300000\n",
      "\u001b[2m\u001b[36m(worker pid=2885992)\u001b[0m 0  0.700  0.225000\n",
      "\u001b[2m\u001b[36m(worker pid=2885992)\u001b[0m 0  0.776  0.225000\n",
      "\u001b[2m\u001b[36m(worker pid=2885992)\u001b[0m 0  0.582  0.225000\n",
      "\u001b[2m\u001b[36m(worker pid=2885992)\u001b[0m 0  0.582  0.424352\n",
      "\u001b[2m\u001b[36m(worker pid=2885992)\u001b[0m 0  0.582  0.318264\n",
      "\u001b[2m\u001b[36m(worker pid=2885992)\u001b[0m scaled dopamine signal -42.43522329980036\n",
      "\u001b[2m\u001b[36m(worker pid=2885992)\u001b[0m globaltimer 4907\n",
      "\u001b[2m\u001b[36m(worker pid=2885992)\u001b[0m trial_num 4\n",
      "\u001b[2m\u001b[36m(worker pid=2885992)\u001b[0m chosen_action right\n",
      "\u001b[2m\u001b[36m(worker pid=2885992)\u001b[0m trial_num 4\n",
      "\u001b[2m\u001b[36m(worker pid=2885992)\u001b[0m q_val_chosen [0.42435223]\n",
      "\u001b[2m\u001b[36m(worker pid=2885992)\u001b[0m da_inc [-0.42435223]\n",
      "\u001b[2m\u001b[36m(worker pid=2885992)\u001b[0m Q_df updated\n",
      "\u001b[2m\u001b[36m(worker pid=2885992)\u001b[0m     left     right\n",
      "\u001b[2m\u001b[36m(worker pid=2885992)\u001b[0m 0  0.700  0.300000\n",
      "\u001b[2m\u001b[36m(worker pid=2885992)\u001b[0m 0  0.700  0.225000\n",
      "\u001b[2m\u001b[36m(worker pid=2885992)\u001b[0m 0  0.776  0.225000\n",
      "\u001b[2m\u001b[36m(worker pid=2885992)\u001b[0m 0  0.582  0.225000\n",
      "\u001b[2m\u001b[36m(worker pid=2885992)\u001b[0m 0  0.582  0.424352\n",
      "\u001b[2m\u001b[36m(worker pid=2885992)\u001b[0m 0  0.582  0.318264\n",
      "\u001b[2m\u001b[36m(worker pid=2885992)\u001b[0m scaled dopamine signal -42.43522329980036\n"
     ]
    }
   ],
   "source": [
    "results = cbgt.ExecutionManager(cores=7).run([pl]*1,[environment]*1)\n"
   ]
  },
  {
   "cell_type": "code",
   "execution_count": 9,
   "metadata": {},
   "outputs": [
    {
     "data": {
      "text/plain": [
       "dict_keys(['experimentchoice', 'params', 'pops', 'receps', 'base', 'dpmns', 'd1', 'd2', 'channels', 'newpathways', 'Q_support_params', 'Q_df_set', 'n_trials', 'volatility', 'conflict', 'reward_mu', 'reward_std', 'maxstim', 'opt_signal_present', 'opt_signal_probability', 'opt_signal_amplitude', 'opt_signal_onset', 'opt_signal_channel', 'opt_signal_population', 'sustainedfraction', 'actionchannels', 'volatile_pattern', 'cp_idx', 'cp_indicator', 'noisy_pattern', 't_epochs', 'block', 'trial_num', 'chosen_action', 'celldefaults', 'popspecific', 'receptordefaults', 'basestim', 'dpmndefaults', 'd1defaults', 'd2defaults', 'popdata', 'pathways', 'connectivity_AMPA', 'meaneff_AMPA', 'plastic_AMPA', 'connectivity_GABA', 'meaneff_GABA', 'plastic_GABA', 'connectivity_NMDA', 'meaneff_NMDA', 'plastic_NMDA', 'Q_df', 'AMPA_con', 'AMPA_eff', 'GABA_con', 'GABA_eff', 'NMDA_con', 'NMDA_eff', 'agent', 'datatables', 'reward_val', 'popfreqs'])"
      ]
     },
     "execution_count": 9,
     "metadata": {},
     "output_type": "execute_result"
    }
   ],
   "source": [
    "# List all the agent variables accessible\n",
    "results[0].keys()"
   ]
  },
  {
   "cell_type": "code",
   "execution_count": 10,
   "metadata": {},
   "outputs": [
    {
     "data": {
      "text/html": [
       "<div>\n",
       "<style scoped>\n",
       "    .dataframe tbody tr th:only-of-type {\n",
       "        vertical-align: middle;\n",
       "    }\n",
       "\n",
       "    .dataframe tbody tr th {\n",
       "        vertical-align: top;\n",
       "    }\n",
       "\n",
       "    .dataframe thead th {\n",
       "        text-align: right;\n",
       "    }\n",
       "</style>\n",
       "<table border=\"1\" class=\"dataframe\">\n",
       "  <thead>\n",
       "    <tr style=\"text-align: right;\">\n",
       "      <th></th>\n",
       "      <th>bayes_unif_min</th>\n",
       "      <th>bayes_unif_max</th>\n",
       "      <th>bayes_H</th>\n",
       "      <th>bayes_sF</th>\n",
       "      <th>q_alpha</th>\n",
       "      <th>dpmn_CPP_scale</th>\n",
       "      <th>reward_value</th>\n",
       "      <th>chosen_action</th>\n",
       "    </tr>\n",
       "  </thead>\n",
       "  <tbody>\n",
       "    <tr>\n",
       "      <th>0</th>\n",
       "      <td>0.0</td>\n",
       "      <td>2.0</td>\n",
       "      <td>0.05</td>\n",
       "      <td>1.25</td>\n",
       "      <td>0.25</td>\n",
       "      <td>100.0</td>\n",
       "      <td>0.0</td>\n",
       "      <td>right</td>\n",
       "    </tr>\n",
       "  </tbody>\n",
       "</table>\n",
       "</div>"
      ],
      "text/plain": [
       "   bayes_unif_min  bayes_unif_max  bayes_H  bayes_sF  q_alpha  dpmn_CPP_scale  \\\n",
       "0             0.0             2.0     0.05      1.25     0.25           100.0   \n",
       "\n",
       "   reward_value chosen_action  \n",
       "0           0.0         right  "
      ]
     },
     "execution_count": 10,
     "metadata": {},
     "output_type": "execute_result"
    }
   ],
   "source": [
    "results[0]['Q_support_params']"
   ]
  },
  {
   "cell_type": "code",
   "execution_count": 11,
   "metadata": {},
   "outputs": [
    {
     "data": {
      "text/html": [
       "<div>\n",
       "<style scoped>\n",
       "    .dataframe tbody tr th:only-of-type {\n",
       "        vertical-align: middle;\n",
       "    }\n",
       "\n",
       "    .dataframe tbody tr th {\n",
       "        vertical-align: top;\n",
       "    }\n",
       "\n",
       "    .dataframe thead th {\n",
       "        text-align: right;\n",
       "    }\n",
       "</style>\n",
       "<table border=\"1\" class=\"dataframe\">\n",
       "  <thead>\n",
       "    <tr style=\"text-align: right;\">\n",
       "      <th></th>\n",
       "      <th>left</th>\n",
       "      <th>right</th>\n",
       "    </tr>\n",
       "  </thead>\n",
       "  <tbody>\n",
       "    <tr>\n",
       "      <th>0</th>\n",
       "      <td>0.700</td>\n",
       "      <td>0.300000</td>\n",
       "    </tr>\n",
       "    <tr>\n",
       "      <th>0</th>\n",
       "      <td>0.700</td>\n",
       "      <td>0.225000</td>\n",
       "    </tr>\n",
       "    <tr>\n",
       "      <th>0</th>\n",
       "      <td>0.776</td>\n",
       "      <td>0.225000</td>\n",
       "    </tr>\n",
       "    <tr>\n",
       "      <th>0</th>\n",
       "      <td>0.582</td>\n",
       "      <td>0.225000</td>\n",
       "    </tr>\n",
       "    <tr>\n",
       "      <th>0</th>\n",
       "      <td>0.582</td>\n",
       "      <td>0.424352</td>\n",
       "    </tr>\n",
       "    <tr>\n",
       "      <th>0</th>\n",
       "      <td>0.582</td>\n",
       "      <td>0.318264</td>\n",
       "    </tr>\n",
       "  </tbody>\n",
       "</table>\n",
       "</div>"
      ],
      "text/plain": [
       "    left     right\n",
       "0  0.700  0.300000\n",
       "0  0.700  0.225000\n",
       "0  0.776  0.225000\n",
       "0  0.582  0.225000\n",
       "0  0.582  0.424352\n",
       "0  0.582  0.318264"
      ]
     },
     "execution_count": 11,
     "metadata": {},
     "output_type": "execute_result"
    }
   ],
   "source": [
    "results[0]['Q_df']"
   ]
  },
  {
   "cell_type": "code",
   "execution_count": 12,
   "metadata": {},
   "outputs": [
    {
     "data": {
      "text/html": [
       "<div>\n",
       "<style scoped>\n",
       "    .dataframe tbody tr th:only-of-type {\n",
       "        vertical-align: middle;\n",
       "    }\n",
       "\n",
       "    .dataframe tbody tr th {\n",
       "        vertical-align: top;\n",
       "    }\n",
       "\n",
       "    .dataframe thead th {\n",
       "        text-align: right;\n",
       "    }\n",
       "</style>\n",
       "<table border=\"1\" class=\"dataframe\">\n",
       "  <thead>\n",
       "    <tr style=\"text-align: right;\">\n",
       "      <th></th>\n",
       "      <th>left</th>\n",
       "      <th>right</th>\n",
       "    </tr>\n",
       "  </thead>\n",
       "  <tbody>\n",
       "    <tr>\n",
       "      <th>0</th>\n",
       "      <td>0.7</td>\n",
       "      <td>0.3</td>\n",
       "    </tr>\n",
       "  </tbody>\n",
       "</table>\n",
       "</div>"
      ],
      "text/plain": [
       "   left  right\n",
       "0   0.7    0.3"
      ]
     },
     "execution_count": 12,
     "metadata": {},
     "output_type": "execute_result"
    }
   ],
   "source": [
    "pd.DataFrame([[0.7, 0.3]],columns=[\"left\",\"right\"])"
   ]
  },
  {
   "cell_type": "code",
   "execution_count": 13,
   "metadata": {},
   "outputs": [
    {
     "name": "stderr",
     "output_type": "stream",
     "text": [
      "/home/jyotika/Work/CBGTPy_release/CBGTPy/plotting_helper_functions.py:114: FutureWarning: The frame.append method is deprecated and will be removed from pandas in a future version. Use pandas.concat instead.\n",
      "  final_data = Q_df_local.append(rew_df)\n",
      "/home/jyotika/Work/CBGTPy_release/CBGTPy/plotting_helper_functions.py:115: FutureWarning: The frame.append method is deprecated and will be removed from pandas in a future version. Use pandas.concat instead.\n",
      "  final_data = final_data.append(chosen_action)\n",
      "/home/jyotika/Work/CBGTPy_release/CBGTPy/plotting_helper_functions.py:116: FutureWarning: The frame.append method is deprecated and will be removed from pandas in a future version. Use pandas.concat instead.\n",
      "  final_data = final_data.append(block)\n",
      "/home/jyotika/Work/CBGTPy_release/CBGTPy/plotting_helper_functions.py:141: FutureWarning: The frame.append method is deprecated and will be removed from pandas in a future version. Use pandas.concat instead.\n",
      "  perf = perf.append({'%_rewarded_actions':rr,\"block\":grp[0][0], \"actions\":grp[0][1],\"%_action\":num},ignore_index=True)\n",
      "/home/jyotika/Work/CBGTPy_release/CBGTPy/plotting_helper_functions.py:141: FutureWarning: The frame.append method is deprecated and will be removed from pandas in a future version. Use pandas.concat instead.\n",
      "  perf = perf.append({'%_rewarded_actions':rr,\"block\":grp[0][0], \"actions\":grp[0][1],\"%_action\":num},ignore_index=True)\n",
      "/home/jyotika/Work/CBGTPy_release/CBGTPy/plotting_helper_functions.py:141: FutureWarning: The frame.append method is deprecated and will be removed from pandas in a future version. Use pandas.concat instead.\n",
      "  perf = perf.append({'%_rewarded_actions':rr,\"block\":grp[0][0], \"actions\":grp[0][1],\"%_action\":num},ignore_index=True)\n",
      "/home/jyotika/Work/CBGTPy_release/CBGTPy/plotting_helper_functions.py:141: FutureWarning: The frame.append method is deprecated and will be removed from pandas in a future version. Use pandas.concat instead.\n",
      "  perf = perf.append({'%_rewarded_actions':rr,\"block\":grp[0][0], \"actions\":grp[0][1],\"%_action\":num},ignore_index=True)\n",
      "/home/jyotika/Work/CBGTPy_release/CBGTPy/plotting_helper_functions.py:150: FutureWarning: The frame.append method is deprecated and will be removed from pandas in a future version. Use pandas.concat instead.\n",
      "  performance = performance.append(perf)\n",
      "/home/jyotika/Work/CBGTPy_release/CBGTPy/plotting_helper_functions.py:162: FutureWarning: The frame.append method is deprecated and will be removed from pandas in a future version. Use pandas.concat instead.\n",
      "  total_performance = total_performance.append(total_perf)\n",
      "/home/jyotika/Work/CBGTPy_release/CBGTPy/plotting_helper_functions.py:176: FutureWarning: The frame.append method is deprecated and will be removed from pandas in a future version. Use pandas.concat instead.\n",
      "  rt_distribution = rt_distribution.append(rt)\n"
     ]
    }
   ],
   "source": [
    "#Extract all the relevant dataframes\n",
    "firing_rates, reward_q_df, performance, rt_dist, total_performance = plt_help.extract_relevant_frames(results,seed)"
   ]
  },
  {
   "cell_type": "code",
   "execution_count": null,
   "metadata": {},
   "outputs": [],
   "source": [
    "# firing rates  \n",
    "firing_rates[0]"
   ]
  },
  {
   "cell_type": "code",
   "execution_count": null,
   "metadata": {},
   "outputs": [],
   "source": []
  },
  {
   "cell_type": "code",
   "execution_count": null,
   "metadata": {},
   "outputs": [],
   "source": [
    "# Relevant reward_dataframe\n",
    "reward_q_df[0]"
   ]
  },
  {
   "cell_type": "code",
   "execution_count": null,
   "metadata": {},
   "outputs": [],
   "source": [
    "performance"
   ]
  },
  {
   "cell_type": "code",
   "execution_count": null,
   "metadata": {},
   "outputs": [],
   "source": [
    "# Extract the data tables from the agent\n",
    "datatables = cbgt.collateVariable(results,'datatables')\n",
    "datatables[0]"
   ]
  },
  {
   "cell_type": "code",
   "execution_count": null,
   "metadata": {},
   "outputs": [],
   "source": [
    "# Check the Q-values data frame\n",
    "results[0]['Q_df']"
   ]
  },
  {
   "cell_type": "code",
   "execution_count": null,
   "metadata": {},
   "outputs": [],
   "source": [
    "# Save the selected variables of results in the data_dir specified\n",
    "# cbgt.saveResults(results,data_dir+'network_data_'+str(seed)+'.pickle',['popfreqs','popdata','Q_support_params','d1','d2','dpmns','datatables'])"
   ]
  },
  {
   "cell_type": "code",
   "execution_count": null,
   "metadata": {},
   "outputs": [],
   "source": [
    "# import seaborn as sns\n",
    "# import matplotlib.pyplot as plt \n",
    "# for i in np.arange(len(results)):\n",
    "#     weights = np.array(results[i]['agent'].hist_w)\n",
    "#     weights[0]\n",
    "#     np.shape(weights)\n",
    "#     reshaped_wts = weights.reshape(len(weights),4)\n",
    "#     nuc_list = ['D1-left','D2-left','D1-right','D2-right' ]\n",
    "#     ind_list = [(0,0),(0,1),(1,0),(1,1)]\n",
    "#     weights_df = pd.DataFrame(columns=[\"weights\",\"trials\",\"nuclei\"])\n",
    "\n",
    "#     for j in np.arange(4):\n",
    "#         temp = pd.DataFrame()\n",
    "#         temp[\"weights\"] = [ np.mean(reshaped_wts[:,j][datatables[0]['stimulusstarttime'][i]:datatables[0]['stimulusstarttime'][i+1]])   for i in np.arange(len(datatables[0])-1) ]\n",
    "#         #temp[\"weights\"] = [ weights[:,ind_list[j][0],ind_list[j][1],:,:][datatables[0]['stimulusstarttime'][i]:datatables[0]['stimulusstarttime'][i+1]])   for i in np.arange(len(datatables[0])-1) ]\n",
    "#         temp[\"trials\"] = np.arange(0,len(datatables[0])-1)\n",
    "#         temp[\"nuclei\"] = nuc_list[j]\n",
    "#         weights_df = weights_df.append(temp)\n",
    "    \n",
    "#    #weights_df.to_csv(data_dir+\"Weights_\"+str(seed)+\".csv\")\n",
    "#     fig,ax = plt.subplots(1,1,figsize=(16,9))\n",
    "#     sns.pointplot(x=\"trials\",y=\"weights\",hue=\"nuclei\",data=weights_df,ax=ax)\n",
    "    #fig.savefig(figure_dir+\"Weights_\"+str(seed)+\"_\"+str(i)+\".png\")    "
   ]
  },
  {
   "cell_type": "code",
   "execution_count": null,
   "metadata": {},
   "outputs": [],
   "source": [
    "# Plot the firing rates extracted, figure handles are returned in fig_handles\n",
    "\n",
    "FR_fig_handles = plt_func.plot_fr(firing_rates)\n"
   ]
  },
  {
   "cell_type": "code",
   "execution_count": null,
   "metadata": {},
   "outputs": [],
   "source": [
    "reward_fig_handles = plt_func.plot_reward_Q_df(reward_q_df)"
   ]
  },
  {
   "cell_type": "code",
   "execution_count": null,
   "metadata": {},
   "outputs": [],
   "source": [
    "# inp = np.array(results[0]['agent'].inp)\n",
    "\n",
    "# fig,ax = pl.subplots(1,2,figsize=(12,9))\n",
    "# ax[0].plot(inp[:,0],label='Ctx-left-input')\n",
    "# ax[0].plot(inp[:,1],label='Ctx-right-input')\n",
    "# ax[0].legend()\n",
    "# ax[1].plot(popfreqs[i].iloc[:,10],label=\"Ctx-left-activity\",color='r')\n",
    "# ax[1].plot(popfreqs[i].iloc[:,11],label=\"Ctx-right-activity\",color='g')\n",
    "# ax[1].plot(popfreqs[i].iloc[:,15],label=\"Ctx-inhibition\",color='c')\n",
    "# ax[1].legend()\n",
    "# fig.savefig(figure_dir+\"Input_vs_activity_lip\"+str(seed)+\".png\")"
   ]
  },
  {
   "cell_type": "code",
   "execution_count": null,
   "metadata": {
    "scrolled": true
   },
   "outputs": [],
   "source": [
    "# for i in np.arange(len(results)):\n",
    "#     fig,ax = plt.subplots(2,3,figsize=(24,16))\n",
    "#     print(ax)\n",
    "#     stim_on = datatables[i][\"stimulusstarttime\"]\n",
    "#     decision_time = datatables[i][\"decisiontime\"]\n",
    "#     weights = np.array(results[i]['agent'].hist_w)\n",
    "#     Wts = pd.DataFrame.from_records(np.array(results[i]['agent'].hist_w).reshape(len(weights),4),columns=nuc_list)\n",
    "#     ax[0][0].plot(popfreqs[i].iloc[:,0],label=\"GPi-left\")\n",
    "#     ax[0][0].plot(popfreqs[i].iloc[:,1],label=\"GPi-right\")\n",
    "\n",
    "#     ax[0][1].plot(popfreqs[i].iloc[:,12],label=\"Th-left\")\n",
    "#     ax[0][1].plot(popfreqs[i].iloc[:,13],label=\"Th-right\")\n",
    "    \n",
    "#     ax[0][2].plot(popfreqs[i].iloc[:,10],label=\"Ctx-left\")\n",
    "#     ax[0][2].plot(popfreqs[i].iloc[:,11],label=\"Ctx-right\")\n",
    "\n",
    "    \n",
    "#     ax[1][0].plot(popfreqs[i].iloc[:,6],label=\"D1-left\")\n",
    "#     ax[1][0].plot(popfreqs[i].iloc[:,7],label=\"D1-right\")\n",
    "#     for k in nuc_list:\n",
    "#         ax[1][1].plot(Wts[k],label=k)\n",
    "\n",
    "#     for a in np.hstack(ax):\n",
    "#         ylims = a.get_ylim()\n",
    "#         for s,d in zip(stim_on,decision_time):\n",
    "#             a.vlines(x=s,ymin=ylims[0],ymax=ylims[1],color='k',lw=1.0,ls=\"solid\")\n",
    "#             a.vlines(x=d,ymin=ylims[0],ymax=ylims[1],color='k',lw=1.0,ls=\"dashed\")\n",
    "#             a.set_ylim(ylims[0],ylims[1])\n",
    "#         a.set_xlim(0,3000)\n",
    "#         a.legend()\n",
    "#     fig.subplots_adjust(left=0.06,bottom=0.06,right=0.96,top=0.96)\n",
    "#     fig.savefig(figure_dir+\"Zoomed_in_activity_\"+str(seed)+\"_\"+str(i)+\".png\")"
   ]
  },
  {
   "cell_type": "code",
   "execution_count": null,
   "metadata": {},
   "outputs": [],
   "source": []
  }
 ],
 "metadata": {
  "kernelspec": {
   "display_name": "Python 3 (ipykernel)",
   "language": "python",
   "name": "python3"
  },
  "language_info": {
   "codemirror_mode": {
    "name": "ipython",
    "version": 3
   },
   "file_extension": ".py",
   "mimetype": "text/x-python",
   "name": "python",
   "nbconvert_exporter": "python",
   "pygments_lexer": "ipython3",
   "version": "3.8.12"
  }
 },
 "nbformat": 4,
 "nbformat_minor": 4
}
