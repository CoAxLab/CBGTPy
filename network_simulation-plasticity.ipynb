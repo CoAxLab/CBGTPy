{
 "cells": [
  {
   "cell_type": "markdown",
   "metadata": {},
   "source": [
    "### To run the cbgt network, see first the technical_testbench to install all the required packages and start the server "
   ]
  },
  {
   "cell_type": "code",
   "execution_count": 1,
   "metadata": {},
   "outputs": [],
   "source": [
    "#Auto reloading \n",
    "%load_ext autoreload\n",
    "\n",
    "%autoreload\n",
    "%reload_ext autoreload "
   ]
  },
  {
   "cell_type": "code",
   "execution_count": 2,
   "metadata": {},
   "outputs": [],
   "source": [
    "#Removing indentation issues:\n",
    "#!autopep8 --in-place --aggressive --aggressive init_params.py\n",
    "#!autopep8 --in-place --aggressive --aggressive popconstruct.py\n",
    "#!autopep8 --in-place --aggressive --aggressive generateepochs.py\n",
    "#!autopep8 --in-place --aggressive --aggressive qvalues.py"
   ]
  },
  {
   "cell_type": "code",
   "execution_count": 3,
   "metadata": {},
   "outputs": [
    {
     "name": "stdout",
     "output_type": "stream",
     "text": [
      "running build_ext\n",
      "running build_ext\n"
     ]
    }
   ],
   "source": [
    "!python setup.py build_ext --inplace"
   ]
  },
  {
   "cell_type": "code",
   "execution_count": 4,
   "metadata": {},
   "outputs": [
    {
     "name": "stderr",
     "output_type": "stream",
     "text": [
      "2023-02-20 16:14:02,694\tINFO worker.py:842 -- Connecting to existing Ray cluster at address: 172.26.98.27:6379\n"
     ]
    }
   ],
   "source": [
    "# Import the pipeline creation object\n",
    "import pandas as pd\n",
    "import cbgt as cbgt\n",
    "import pipeline_creation as pl_creat\n",
    "import plotting_functions as plt_func\n",
    "import plotting_helper_functions as plt_help\n",
    "\n",
    "# Choose the experiment\n",
    "experiment_choice = \"plastic\"\n",
    "\n",
    "# Call choose_pipeline with the pipeline object\n",
    "pl_creat.choose_pipeline(experiment_choice)\n",
    "\n",
    "#Create the main pipeline\n",
    "pl = pl_creat.create_main_pipeline(runloop=True)\n",
    "# pl.experimentchoice = experiment_choice\n"
   ]
  },
  {
   "cell_type": "code",
   "execution_count": 5,
   "metadata": {},
   "outputs": [],
   "source": [
    "#Import core functions\n",
    "\n",
    "# from frontendhelpers import * \n",
    "# from tracetype import *\n",
    "# import qvalues as qval\n",
    "# import generateepochs as gen\n",
    "# from agentmatrixinit import *\n",
    "\n",
    "# import pipeline_creation as pl_creat\n",
    "\n",
    "# Import plotting functions\n",
    "# import matplotlib.pyplot as plt\n",
    "\n",
    "data_dir = \"./Data/\"\n",
    "figure_dir = \"./Figures/\"\n"
   ]
  },
  {
   "cell_type": "markdown",
   "metadata": {},
   "source": [
    "# Create pipeline"
   ]
  },
  {
   "cell_type": "markdown",
   "metadata": {},
   "source": [
    "### Network pipeline"
   ]
  },
  {
   "cell_type": "code",
   "execution_count": 6,
   "metadata": {},
   "outputs": [],
   "source": [
    "#Create the whole pipeline.\n",
    "#This pipeline creates three sub-pipelines: \n",
    "#rewards pipeline (rsg), q values pipeline (q_val), network pipeline(pl)\n",
    "\n",
    "# mega_l = pl_creat.ml.mega_loop"
   ]
  },
  {
   "cell_type": "markdown",
   "metadata": {},
   "source": [
    "# Timestep loop"
   ]
  },
  {
   "cell_type": "code",
   "execution_count": 7,
   "metadata": {},
   "outputs": [],
   "source": [
    "#Adding the timestep loop to the main pipeline\n",
    "# pl.add(mega_l)"
   ]
  },
  {
   "cell_type": "markdown",
   "metadata": {},
   "source": [
    "# Running the pipeline"
   ]
  },
  {
   "cell_type": "markdown",
   "metadata": {},
   "source": [
    "### 1. Default values"
   ]
  },
  {
   "cell_type": "code",
   "execution_count": 8,
   "metadata": {},
   "outputs": [],
   "source": [
    "#See init_params.py / generateepochs.py / popconstruct.py / qvalues.py\n",
    "#to know the parameters contained in each of the following variables \n",
    "environment = {\n",
    "    'experimentchoice': experiment_choice,\n",
    "    'params': None, #neuron parameters (init_params.py)\n",
    "    'pops': None,   #population parameters (init_params.py)\n",
    "    'receps' : None, #receptor parameters (init_params.py)\n",
    "    'base' : None, #baseline stimulation parameters (init_params.py)\n",
    "    'dpmns' : None, #dopamine related parameters (init_params.py)\n",
    "    #'dpmns' : pd.DataFrame([0.05], columns=['dpmn_wmax']),\n",
    "    #'d1' : None, #D1-MSNs population related parameters (init_params.py)\n",
    "    'd1': pd.DataFrame([[39.5,0.055]], columns=['dpmn_alphaw','dpmn_wmax']),\n",
    "    'd2': pd.DataFrame([[-38.2,0.035]], columns=['dpmn_alphaw','dpmn_wmax']),\n",
    "    'channels' : pd.DataFrame([[\"left\"],[\"right\"]], columns=['action']), #action channels related parameters (init_params.py)\n",
    "    #'actionchannels' : pd.DataFrame([[1],[2]], columns=['action']), #labels for the actions (init_params.py)\n",
    "    #'actionchannels' : pd.DataFrame([[\"left\"],[\"right\"]], columns=['action']), #labels for the actions (init_params.py)\n",
    "    'newpathways' :pd.DataFrame([['LIP', 'FSI', 'AMPA', 'all', 1, 0.43]], columns=['src', 'dest', 'receptor', 'type', 'con', 'eff']),    #None, #connectivity parameters (popconstruct.py)\n",
    "    'Q_support_params': pd.DataFrame([[85,0.6]],columns=['dpmn_CPP_scale','q_alpha']), #initialization of Q-values update (qvalues.py) \n",
    "    'Q_df':None, #initialized Q-values df (qvalues.py)  \n",
    "    'n_trials': 4, #number of trials (generateepochs.py)\n",
    "    'volatility': 1, #frequency of changepoints (generateepochs.py)\n",
    "    'conflict': 1.0, #probability of the preferred choice (generateepochs.py)\n",
    "    'reward_mu': 1, #mean for the magnitude of the reward (generateepochs.py)\n",
    "    'reward_std': 0.01, #std for the magnitude of the reward (generateepochs.py)\n",
    "    'maxstim': 1.0, # 3 instead? how much stimulus the LIP gets at maximum\n",
    "    'opt_signal_present':False,\n",
    "    'opt_signal_probability':1.0, # probability of trials that will get the stop signal / list of trial numbers\n",
    "    'opt_signal_amplitude':0.2, # ampitude of the stop signal over base line\n",
    "    'opt_signal_onset':0., # in ms\n",
    "    'opt_signal_channel': \"all\", # \"all\" (all channels are given the stop signal) \n",
    "    'opt_signal_population':[\"D1STR\"],\n",
    "    'sustainedfraction':0.85\n",
    "                                #/\"any\" (channel given the stop signal is chosen randomly)\n",
    "                                # [list of channels] == subset of channels given the stop signal\n",
    "    \n",
    "}\n"
   ]
  },
  {
   "cell_type": "code",
   "execution_count": null,
   "metadata": {},
   "outputs": [],
   "source": []
  },
  {
   "cell_type": "code",
   "execution_count": 9,
   "metadata": {},
   "outputs": [
    {
     "name": "stdout",
     "output_type": "stream",
     "text": [
      "\u001b[2m\u001b[36m(worker pid=2421359)\u001b[0m reward_values [1.01764052 1.00400157 1.00978738 1.02240893]\n",
      "\u001b[2m\u001b[36m(worker pid=2421359)\u001b[0m cp_idx [0 1 2 3 3]\n",
      "\u001b[2m\u001b[36m(worker pid=2421359)\u001b[0m cp_idx [0 1 2 3 3]\n",
      "\u001b[2m\u001b[36m(worker pid=2421359)\u001b[0m reward_values [1.01764052 1.00400157 1.00978738 1.02240893]\n",
      "\u001b[2m\u001b[36m(worker pid=2421359)\u001b[0m cp_idx [0 1 2 3 3]\n",
      "\u001b[2m\u001b[36m(worker pid=2421359)\u001b[0m cp_idx [0 1 2 3 3]\n"
     ]
    },
    {
     "name": "stderr",
     "output_type": "stream",
     "text": [
      "\u001b[2m\u001b[36m(worker pid=2421359)\u001b[0m /home/jyotika/Work/CBGTPy_release/CBGTPy/qvalues.py:113: FutureWarning: The frame.append method is deprecated and will be removed from pandas in a future version. Use pandas.concat instead.\n",
      "\u001b[2m\u001b[36m(worker pid=2421359)\u001b[0m   Q_df = Q_df.append(\n",
      "\u001b[2m\u001b[36m(worker pid=2421359)\u001b[0m /home/jyotika/Work/CBGTPy_release/CBGTPy/qvalues.py:113: FutureWarning: The frame.append method is deprecated and will be removed from pandas in a future version. Use pandas.concat instead.\n",
      "\u001b[2m\u001b[36m(worker pid=2421359)\u001b[0m   Q_df = Q_df.append(\n"
     ]
    },
    {
     "name": "stdout",
     "output_type": "stream",
     "text": [
      "\u001b[2m\u001b[36m(worker pid=2421359)\u001b[0m q_support None\n",
      "\u001b[2m\u001b[36m(worker pid=2421359)\u001b[0m 0    15.0`\n",
      "\u001b[2m\u001b[36m(worker pid=2421359)\u001b[0m Name: dpmn_CPP_scale, dtype: object\n",
      "\u001b[2m\u001b[36m(worker pid=2421359)\u001b[0m q_support None\n",
      "\u001b[2m\u001b[36m(worker pid=2421359)\u001b[0m 0    15.0`\n",
      "\u001b[2m\u001b[36m(worker pid=2421359)\u001b[0m Name: dpmn_CPP_scale, dtype: object\n",
      "\u001b[2m\u001b[36m(worker pid=2421359)\u001b[0m 2 4 0.161666`\n",
      "\u001b[2m\u001b[36m(worker pid=2421359)\u001b[0m 2 4 0.161666`\n",
      "\u001b[2m\u001b[36m(worker pid=2421359)\u001b[0m 3 5 0.161666`\n",
      "\u001b[2m\u001b[36m(worker pid=2421359)\u001b[0m 10 6 1.0`\n",
      "\u001b[2m\u001b[36m(worker pid=2421359)\u001b[0m 10 8 1.0`\n",
      "\u001b[2m\u001b[36m(worker pid=2421359)\u001b[0m 3 5 0.161666`\n",
      "\u001b[2m\u001b[36m(worker pid=2421359)\u001b[0m 10 6 1.0`\n",
      "\u001b[2m\u001b[36m(worker pid=2421359)\u001b[0m 10 8 1.0`\n",
      "\u001b[2m\u001b[36m(worker pid=2421359)\u001b[0m 10 10 0.13`\n",
      "\u001b[2m\u001b[36m(worker pid=2421359)\u001b[0m 10 12 1.0`\n",
      "\u001b[2m\u001b[36m(worker pid=2421359)\u001b[0m 10 14 1.0`\n",
      "\u001b[2m\u001b[36m(worker pid=2421359)\u001b[0m 10 10 0.13`\n",
      "\u001b[2m\u001b[36m(worker pid=2421359)\u001b[0m 10 12 1.0`\n",
      "\u001b[2m\u001b[36m(worker pid=2421359)\u001b[0m 10 14 1.0`\n",
      "\u001b[2m\u001b[36m(worker pid=2421359)\u001b[0m 10 15 0.0725`\n",
      "\u001b[2m\u001b[36m(worker pid=2421359)\u001b[0m 11 7 1.0`\n",
      "\u001b[2m\u001b[36m(worker pid=2421359)\u001b[0m 11 9 1.0`\n",
      "\u001b[2m\u001b[36m(worker pid=2421359)\u001b[0m 10 15 0.0725`\n",
      "\u001b[2m\u001b[36m(worker pid=2421359)\u001b[0m 11 7 1.0`\n",
      "\u001b[2m\u001b[36m(worker pid=2421359)\u001b[0m 11 9 1.0`\n",
      "\u001b[2m\u001b[36m(worker pid=2421359)\u001b[0m 11 11 0.13`\n",
      "\u001b[2m\u001b[36m(worker pid=2421359)\u001b[0m 11 13 1.0`\n",
      "\u001b[2m\u001b[36m(worker pid=2421359)\u001b[0m 11 14 1.0`\n",
      "\u001b[2m\u001b[36m(worker pid=2421359)\u001b[0m 11 11 0.13`\n",
      "\u001b[2m\u001b[36m(worker pid=2421359)\u001b[0m 11 13 1.0`\n",
      "\u001b[2m\u001b[36m(worker pid=2421359)\u001b[0m 11 14 1.0`\n",
      "\u001b[2m\u001b[36m(worker pid=2421359)\u001b[0m 11 15 0.0725`\n",
      "\u001b[2m\u001b[36m(worker pid=2421359)\u001b[0m 12 6 1.0`\n",
      "\u001b[2m\u001b[36m(worker pid=2421359)\u001b[0m 12 8 1.0`\n",
      "\u001b[2m\u001b[36m(worker pid=2421359)\u001b[0m 11 15 0.0725`\n",
      "\u001b[2m\u001b[36m(worker pid=2421359)\u001b[0m 12 6 1.0`\n",
      "\u001b[2m\u001b[36m(worker pid=2421359)\u001b[0m 12 8 1.0`\n",
      "\u001b[2m\u001b[36m(worker pid=2421359)\u001b[0m 12 14 0.8334`\n",
      "\u001b[2m\u001b[36m(worker pid=2421359)\u001b[0m 13 7 1.0`\n",
      "\u001b[2m\u001b[36m(worker pid=2421359)\u001b[0m 13 9 1.0`\n",
      "\u001b[2m\u001b[36m(worker pid=2421359)\u001b[0m 13 14 0.8334`\n",
      "\u001b[2m\u001b[36m(worker pid=2421359)\u001b[0m 0 12 1.0`\n",
      "\u001b[2m\u001b[36m(worker pid=2421359)\u001b[0m 1 13 1.0`\n",
      "\u001b[2m\u001b[36m(worker pid=2421359)\u001b[0m 4 0 1.0`\n",
      "\u001b[2m\u001b[36m(worker pid=2421359)\u001b[0m 12 14 0.8334`\n",
      "\u001b[2m\u001b[36m(worker pid=2421359)\u001b[0m 13 7 1.0`\n",
      "\u001b[2m\u001b[36m(worker pid=2421359)\u001b[0m 13 9 1.0`\n",
      "\u001b[2m\u001b[36m(worker pid=2421359)\u001b[0m 13 14 0.8334`\n",
      "\u001b[2m\u001b[36m(worker pid=2421359)\u001b[0m 0 12 1.0`\n",
      "\u001b[2m\u001b[36m(worker pid=2421359)\u001b[0m 1 13 1.0`\n",
      "\u001b[2m\u001b[36m(worker pid=2421359)\u001b[0m 4 0 1.0`\n",
      "\u001b[2m\u001b[36m(worker pid=2421359)\u001b[0m 4 2 0.0667`\n",
      "\u001b[2m\u001b[36m(worker pid=2421359)\u001b[0m 4 2 0.0667`\n",
      "\u001b[2m\u001b[36m(worker pid=2421359)\u001b[0m 4 4 0.0667`\n",
      "\u001b[2m\u001b[36m(worker pid=2421359)\u001b[0m 4 4 0.0667`\n",
      "\u001b[2m\u001b[36m(worker pid=2421359)\u001b[0m 4 5 0.0667`\n",
      "\u001b[2m\u001b[36m(worker pid=2421359)\u001b[0m 5 1 1.0`\n",
      "\u001b[2m\u001b[36m(worker pid=2421359)\u001b[0m 4 5 0.0667`\n",
      "\u001b[2m\u001b[36m(worker pid=2421359)\u001b[0m 5 1 1.0`\n",
      "\u001b[2m\u001b[36m(worker pid=2421359)\u001b[0m 5 3 0.0667`\n",
      "\u001b[2m\u001b[36m(worker pid=2421359)\u001b[0m 5 3 0.0667`\n",
      "\u001b[2m\u001b[36m(worker pid=2421359)\u001b[0m 5 4 0.0667`\n",
      "\u001b[2m\u001b[36m(worker pid=2421359)\u001b[0m 5 4 0.0667`\n",
      "\u001b[2m\u001b[36m(worker pid=2421359)\u001b[0m 5 5 0.0667`\n",
      "\u001b[2m\u001b[36m(worker pid=2421359)\u001b[0m 6 0 1.0`\n",
      "\u001b[2m\u001b[36m(worker pid=2421359)\u001b[0m 6 6 0.45`\n",
      "\u001b[2m\u001b[36m(worker pid=2421359)\u001b[0m 6 8 0.45`\n",
      "\u001b[2m\u001b[36m(worker pid=2421359)\u001b[0m 7 1 1.0`\n",
      "\u001b[2m\u001b[36m(worker pid=2421359)\u001b[0m 5 5 0.0667`\n",
      "\u001b[2m\u001b[36m(worker pid=2421359)\u001b[0m 6 0 1.0`\n",
      "\u001b[2m\u001b[36m(worker pid=2421359)\u001b[0m 6 6 0.45`\n",
      "\u001b[2m\u001b[36m(worker pid=2421359)\u001b[0m 6 8 0.45`\n",
      "\u001b[2m\u001b[36m(worker pid=2421359)\u001b[0m 7 1 1.0`\n",
      "\u001b[2m\u001b[36m(worker pid=2421359)\u001b[0m 7 7 0.45`\n",
      "\u001b[2m\u001b[36m(worker pid=2421359)\u001b[0m 7 9 0.45`\n",
      "\u001b[2m\u001b[36m(worker pid=2421359)\u001b[0m 8 4 1.0`\n",
      "\u001b[2m\u001b[36m(worker pid=2421359)\u001b[0m 8 6 0.5`\n",
      "\u001b[2m\u001b[36m(worker pid=2421359)\u001b[0m 7 7 0.45`\n",
      "\u001b[2m\u001b[36m(worker pid=2421359)\u001b[0m 7 9 0.45`\n",
      "\u001b[2m\u001b[36m(worker pid=2421359)\u001b[0m 8 4 1.0`\n",
      "\u001b[2m\u001b[36m(worker pid=2421359)\u001b[0m 8 6 0.5`\n",
      "\u001b[2m\u001b[36m(worker pid=2421359)\u001b[0m 8 8 0.45`\n",
      "\u001b[2m\u001b[36m(worker pid=2421359)\u001b[0m 9 5 1.0`\n",
      "\u001b[2m\u001b[36m(worker pid=2421359)\u001b[0m 9 7 0.5`\n",
      "\u001b[2m\u001b[36m(worker pid=2421359)\u001b[0m 9 9 0.45`\n",
      "\u001b[2m\u001b[36m(worker pid=2421359)\u001b[0m 14 6 1.0`\n",
      "\u001b[2m\u001b[36m(worker pid=2421359)\u001b[0m 14 7 1.0`\n",
      "\u001b[2m\u001b[36m(worker pid=2421359)\u001b[0m 14 8 1.0`\n",
      "\u001b[2m\u001b[36m(worker pid=2421359)\u001b[0m 14 9 1.0`\n",
      "\u001b[2m\u001b[36m(worker pid=2421359)\u001b[0m 14 14 1.0`\n",
      "\u001b[2m\u001b[36m(worker pid=2421359)\u001b[0m 8 8 0.45`\n",
      "\u001b[2m\u001b[36m(worker pid=2421359)\u001b[0m 9 5 1.0`\n",
      "\u001b[2m\u001b[36m(worker pid=2421359)\u001b[0m 9 7 0.5`\n",
      "\u001b[2m\u001b[36m(worker pid=2421359)\u001b[0m 9 9 0.45`\n",
      "\u001b[2m\u001b[36m(worker pid=2421359)\u001b[0m 14 6 1.0`\n",
      "\u001b[2m\u001b[36m(worker pid=2421359)\u001b[0m 14 7 1.0`\n",
      "\u001b[2m\u001b[36m(worker pid=2421359)\u001b[0m 14 8 1.0`\n",
      "\u001b[2m\u001b[36m(worker pid=2421359)\u001b[0m 14 9 1.0`\n",
      "\u001b[2m\u001b[36m(worker pid=2421359)\u001b[0m 14 14 1.0`\n",
      "\u001b[2m\u001b[36m(worker pid=2421359)\u001b[0m 15 10 0.5`\n",
      "\u001b[2m\u001b[36m(worker pid=2421359)\u001b[0m 15 10 0.5`\n",
      "\u001b[2m\u001b[36m(worker pid=2421359)\u001b[0m 15 11 0.5`\n",
      "\u001b[2m\u001b[36m(worker pid=2421359)\u001b[0m 15 15 1.0`\n",
      "\u001b[2m\u001b[36m(worker pid=2421359)\u001b[0m 2 0 1.0`\n",
      "\u001b[2m\u001b[36m(worker pid=2421359)\u001b[0m 2 1 1.0`\n",
      "\u001b[2m\u001b[36m(worker pid=2421359)\u001b[0m 15 11 0.5`\n",
      "\u001b[2m\u001b[36m(worker pid=2421359)\u001b[0m 15 15 1.0`\n",
      "\u001b[2m\u001b[36m(worker pid=2421359)\u001b[0m 2 0 1.0`\n",
      "\u001b[2m\u001b[36m(worker pid=2421359)\u001b[0m 2 1 1.0`\n",
      "\u001b[2m\u001b[36m(worker pid=2421359)\u001b[0m 2 4 0.161666`\n",
      "\u001b[2m\u001b[36m(worker pid=2421359)\u001b[0m 3 0 1.0`\n",
      "\u001b[2m\u001b[36m(worker pid=2421359)\u001b[0m 3 1 1.0`\n",
      "\u001b[2m\u001b[36m(worker pid=2421359)\u001b[0m 2 4 0.161666`\n",
      "\u001b[2m\u001b[36m(worker pid=2421359)\u001b[0m 3 0 1.0`\n",
      "\u001b[2m\u001b[36m(worker pid=2421359)\u001b[0m 3 1 1.0`\n",
      "\u001b[2m\u001b[36m(worker pid=2421359)\u001b[0m 3 5 0.161666`\n",
      "\u001b[2m\u001b[36m(worker pid=2421359)\u001b[0m 10 6 1.0`\n",
      "\u001b[2m\u001b[36m(worker pid=2421359)\u001b[0m 10 8 1.0`\n",
      "\u001b[2m\u001b[36m(worker pid=2421359)\u001b[0m 3 5 0.161666`\n",
      "\u001b[2m\u001b[36m(worker pid=2421359)\u001b[0m 10 6 1.0`\n",
      "\u001b[2m\u001b[36m(worker pid=2421359)\u001b[0m 10 8 1.0`\n",
      "\u001b[2m\u001b[36m(worker pid=2421359)\u001b[0m 10 10 0.13`\n",
      "\u001b[2m\u001b[36m(worker pid=2421359)\u001b[0m 10 12 1.0`\n",
      "\u001b[2m\u001b[36m(worker pid=2421359)\u001b[0m 10 10 0.13`\n",
      "\u001b[2m\u001b[36m(worker pid=2421359)\u001b[0m 10 12 1.0`\n",
      "\u001b[2m\u001b[36m(worker pid=2421359)\u001b[0m 10 15 0.0725`\n",
      "\u001b[2m\u001b[36m(worker pid=2421359)\u001b[0m 11 7 1.0`\n",
      "\u001b[2m\u001b[36m(worker pid=2421359)\u001b[0m 11 9 1.0`\n",
      "\u001b[2m\u001b[36m(worker pid=2421359)\u001b[0m 10 15 0.0725`\n",
      "\u001b[2m\u001b[36m(worker pid=2421359)\u001b[0m 11 7 1.0`\n",
      "\u001b[2m\u001b[36m(worker pid=2421359)\u001b[0m 11 9 1.0`\n",
      "\u001b[2m\u001b[36m(worker pid=2421359)\u001b[0m 11 11 0.13`\n",
      "\u001b[2m\u001b[36m(worker pid=2421359)\u001b[0m 11 13 1.0`\n",
      "\u001b[2m\u001b[36m(worker pid=2421359)\u001b[0m 11 11 0.13`\n",
      "\u001b[2m\u001b[36m(worker pid=2421359)\u001b[0m 11 13 1.0`\n",
      "\u001b[2m\u001b[36m(worker pid=2421359)\u001b[0m 11 15 0.0725`\n",
      "\u001b[2m\u001b[36m(worker pid=2421359)\u001b[0m 11 15 0.0725`\n",
      "\u001b[2m\u001b[36m(worker pid=2421359)\u001b[0m 12 10 0.8334`\n",
      "\u001b[2m\u001b[36m(worker pid=2421359)\u001b[0m 12 11 0.8334`\n",
      "\u001b[2m\u001b[36m(worker pid=2421359)\u001b[0m 12 10 0.8334`\n",
      "\u001b[2m\u001b[36m(worker pid=2421359)\u001b[0m 12 11 0.8334`\n",
      "\u001b[2m\u001b[36m(worker pid=2421359)\u001b[0m 12 15 0.8334`\n",
      "\u001b[2m\u001b[36m(worker pid=2421359)\u001b[0m 12 15 0.8334`\n",
      "\u001b[2m\u001b[36m(worker pid=2421359)\u001b[0m 13 10 0.8334`\n",
      "\u001b[2m\u001b[36m(worker pid=2421359)\u001b[0m 13 11 0.8334`\n",
      "\u001b[2m\u001b[36m(worker pid=2421359)\u001b[0m 13 10 0.8334`\n",
      "\u001b[2m\u001b[36m(worker pid=2421359)\u001b[0m 13 11 0.8334`\n",
      "\u001b[2m\u001b[36m(worker pid=2421359)\u001b[0m 13 15 0.8334`\n",
      "\u001b[2m\u001b[36m(worker pid=2421359)\u001b[0m 13 15 0.8334`\n",
      "\u001b[2m\u001b[36m(worker pid=2421359)\u001b[0m [10 11]\n",
      "\u001b[2m\u001b[36m(worker pid=2421359)\u001b[0m [10 11]\n",
      "\u001b[2m\u001b[36m(worker pid=2421359)\u001b[0m phasetimer 249\n",
      "\u001b[2m\u001b[36m(worker pid=2421359)\u001b[0m globaltimer 249\n",
      "\u001b[2m\u001b[36m(worker pid=2421359)\u001b[0m gateFRs [24.66666667 30.22222222]\n",
      "\u001b[2m\u001b[36m(worker pid=2421359)\u001b[0m thresholds_crossed [1]\n",
      "\u001b[2m\u001b[36m(worker pid=2421359)\u001b[0m other_action 0\n",
      "\u001b[2m\u001b[36m(worker pid=2421359)\u001b[0m phasetimer 249\n",
      "\u001b[2m\u001b[36m(worker pid=2421359)\u001b[0m globaltimer 249\n",
      "\u001b[2m\u001b[36m(worker pid=2421359)\u001b[0m gateFRs [24.66666667 30.22222222]\n",
      "\u001b[2m\u001b[36m(worker pid=2421359)\u001b[0m thresholds_crossed [1]\n",
      "\u001b[2m\u001b[36m(worker pid=2421359)\u001b[0m other_action 0\n"
     ]
    },
    {
     "name": "stderr",
     "output_type": "stream",
     "text": [
      "\u001b[2m\u001b[36m(worker pid=2421359)\u001b[0m /home/jyotika/Work/CBGTPy_release/CBGTPy/qvalues.py:196: FutureWarning: The frame.append method is deprecated and will be removed from pandas in a future version. Use pandas.concat instead.\n",
      "\u001b[2m\u001b[36m(worker pid=2421359)\u001b[0m   Q_df = Q_df.append(new_data)\n",
      "\u001b[2m\u001b[36m(worker pid=2421359)\u001b[0m /home/jyotika/Work/CBGTPy_release/CBGTPy/qvalues.py:196: FutureWarning: The frame.append method is deprecated and will be removed from pandas in a future version. Use pandas.concat instead.\n",
      "\u001b[2m\u001b[36m(worker pid=2421359)\u001b[0m   Q_df = Q_df.append(new_data)\n"
     ]
    },
    {
     "name": "stdout",
     "output_type": "stream",
     "text": [
      "\u001b[2m\u001b[36m(worker pid=2421359)\u001b[0m phasetimer 301\n",
      "\u001b[2m\u001b[36m(worker pid=2421359)\u001b[0m globaltimer 550\n",
      "\u001b[2m\u001b[36m(worker pid=2421359)\u001b[0m trial_num 0\n",
      "\u001b[2m\u001b[36m(worker pid=2421359)\u001b[0m   action\n",
      "\u001b[2m\u001b[36m(worker pid=2421359)\u001b[0m 0   left\n",
      "\u001b[2m\u001b[36m(worker pid=2421359)\u001b[0m 1  right\n",
      "\u001b[2m\u001b[36m(worker pid=2421359)\u001b[0m chosen_action right\n",
      "\u001b[2m\u001b[36m(worker pid=2421359)\u001b[0m Q_support_params.chosen_action[0] right\n",
      "\u001b[2m\u001b[36m(worker pid=2421359)\u001b[0m trial_num 0\n",
      "\u001b[2m\u001b[36m(worker pid=2421359)\u001b[0m TRIAL WISE Q DF left     0.5\n",
      "\u001b[2m\u001b[36m(worker pid=2421359)\u001b[0m right    0.5\n",
      "\u001b[2m\u001b[36m(worker pid=2421359)\u001b[0m Name: 0, dtype: float64\n",
      "\u001b[2m\u001b[36m(worker pid=2421359)\u001b[0m self.dpmndefaults['dpmn_DAp'].values[0] -7.5\n",
      "\u001b[2m\u001b[36m(worker pid=2421359)\u001b[0m phasetimer 301\n",
      "\u001b[2m\u001b[36m(worker pid=2421359)\u001b[0m globaltimer 550\n",
      "\u001b[2m\u001b[36m(worker pid=2421359)\u001b[0m trial_num 0\n",
      "\u001b[2m\u001b[36m(worker pid=2421359)\u001b[0m   action\n",
      "\u001b[2m\u001b[36m(worker pid=2421359)\u001b[0m 0   left\n",
      "\u001b[2m\u001b[36m(worker pid=2421359)\u001b[0m 1  right\n",
      "\u001b[2m\u001b[36m(worker pid=2421359)\u001b[0m chosen_action right\n",
      "\u001b[2m\u001b[36m(worker pid=2421359)\u001b[0m Q_support_params.chosen_action[0] right\n",
      "\u001b[2m\u001b[36m(worker pid=2421359)\u001b[0m trial_num 0\n",
      "\u001b[2m\u001b[36m(worker pid=2421359)\u001b[0m TRIAL WISE Q DF left     0.5\n",
      "\u001b[2m\u001b[36m(worker pid=2421359)\u001b[0m right    0.5\n",
      "\u001b[2m\u001b[36m(worker pid=2421359)\u001b[0m Name: 0, dtype: float64\n",
      "\u001b[2m\u001b[36m(worker pid=2421359)\u001b[0m self.dpmndefaults['dpmn_DAp'].values[0] -7.5\n",
      "\u001b[2m\u001b[36m(worker pid=2421359)\u001b[0m phasetimer 199\n",
      "\u001b[2m\u001b[36m(worker pid=2421359)\u001b[0m globaltimer 1350\n",
      "\u001b[2m\u001b[36m(worker pid=2421359)\u001b[0m gateFRs [30.22222222 20.44444444]\n",
      "\u001b[2m\u001b[36m(worker pid=2421359)\u001b[0m thresholds_crossed [0]\n",
      "\u001b[2m\u001b[36m(worker pid=2421359)\u001b[0m other_action 1\n",
      "\u001b[2m\u001b[36m(worker pid=2421359)\u001b[0m phasetimer 199\n",
      "\u001b[2m\u001b[36m(worker pid=2421359)\u001b[0m globaltimer 1350\n",
      "\u001b[2m\u001b[36m(worker pid=2421359)\u001b[0m gateFRs [30.22222222 20.44444444]\n",
      "\u001b[2m\u001b[36m(worker pid=2421359)\u001b[0m thresholds_crossed [0]\n",
      "\u001b[2m\u001b[36m(worker pid=2421359)\u001b[0m other_action 1\n"
     ]
    },
    {
     "name": "stderr",
     "output_type": "stream",
     "text": [
      "\u001b[2m\u001b[36m(worker pid=2421359)\u001b[0m /home/jyotika/Work/CBGTPy_release/CBGTPy/qvalues.py:196: FutureWarning: The frame.append method is deprecated and will be removed from pandas in a future version. Use pandas.concat instead.\n",
      "\u001b[2m\u001b[36m(worker pid=2421359)\u001b[0m   Q_df = Q_df.append(new_data)\n",
      "\u001b[2m\u001b[36m(worker pid=2421359)\u001b[0m /home/jyotika/Work/CBGTPy_release/CBGTPy/qvalues.py:196: FutureWarning: The frame.append method is deprecated and will be removed from pandas in a future version. Use pandas.concat instead.\n",
      "\u001b[2m\u001b[36m(worker pid=2421359)\u001b[0m   Q_df = Q_df.append(new_data)\n"
     ]
    },
    {
     "name": "stdout",
     "output_type": "stream",
     "text": [
      "\u001b[2m\u001b[36m(worker pid=2421359)\u001b[0m phasetimer 301\n",
      "\u001b[2m\u001b[36m(worker pid=2421359)\u001b[0m globaltimer 1651\n",
      "\u001b[2m\u001b[36m(worker pid=2421359)\u001b[0m trial_num 1\n",
      "\u001b[2m\u001b[36m(worker pid=2421359)\u001b[0m   action\n",
      "\u001b[2m\u001b[36m(worker pid=2421359)\u001b[0m 0   left\n",
      "\u001b[2m\u001b[36m(worker pid=2421359)\u001b[0m 1  right\n",
      "\u001b[2m\u001b[36m(worker pid=2421359)\u001b[0m chosen_action left\n",
      "\u001b[2m\u001b[36m(worker pid=2421359)\u001b[0m Q_support_params.chosen_action[0] left\n",
      "\u001b[2m\u001b[36m(worker pid=2421359)\u001b[0m trial_num 1\n",
      "\u001b[2m\u001b[36m(worker pid=2421359)\u001b[0m TRIAL WISE Q DF left     0.500\n",
      "\u001b[2m\u001b[36m(worker pid=2421359)\u001b[0m right    0.275\n",
      "\u001b[2m\u001b[36m(worker pid=2421359)\u001b[0m Name: 0, dtype: float64\n",
      "\u001b[2m\u001b[36m(worker pid=2421359)\u001b[0m self.dpmndefaults['dpmn_DAp'].values[0] -7.5\n",
      "\u001b[2m\u001b[36m(worker pid=2421359)\u001b[0m phasetimer 301\n",
      "\u001b[2m\u001b[36m(worker pid=2421359)\u001b[0m globaltimer 1651\n",
      "\u001b[2m\u001b[36m(worker pid=2421359)\u001b[0m trial_num 1\n",
      "\u001b[2m\u001b[36m(worker pid=2421359)\u001b[0m   action\n",
      "\u001b[2m\u001b[36m(worker pid=2421359)\u001b[0m 0   left\n",
      "\u001b[2m\u001b[36m(worker pid=2421359)\u001b[0m 1  right\n",
      "\u001b[2m\u001b[36m(worker pid=2421359)\u001b[0m chosen_action left\n",
      "\u001b[2m\u001b[36m(worker pid=2421359)\u001b[0m Q_support_params.chosen_action[0] left\n",
      "\u001b[2m\u001b[36m(worker pid=2421359)\u001b[0m trial_num 1\n",
      "\u001b[2m\u001b[36m(worker pid=2421359)\u001b[0m TRIAL WISE Q DF left     0.500\n",
      "\u001b[2m\u001b[36m(worker pid=2421359)\u001b[0m right    0.275\n",
      "\u001b[2m\u001b[36m(worker pid=2421359)\u001b[0m Name: 0, dtype: float64\n",
      "\u001b[2m\u001b[36m(worker pid=2421359)\u001b[0m self.dpmndefaults['dpmn_DAp'].values[0] -7.5\n",
      "\u001b[2m\u001b[36m(worker pid=2421359)\u001b[0m phasetimer 245\n",
      "\u001b[2m\u001b[36m(worker pid=2421359)\u001b[0m globaltimer 2497\n",
      "\u001b[2m\u001b[36m(worker pid=2421359)\u001b[0m gateFRs [22.44444444 30.66666667]\n",
      "\u001b[2m\u001b[36m(worker pid=2421359)\u001b[0m thresholds_crossed [1]\n",
      "\u001b[2m\u001b[36m(worker pid=2421359)\u001b[0m other_action 0\n",
      "\u001b[2m\u001b[36m(worker pid=2421359)\u001b[0m phasetimer 245\n",
      "\u001b[2m\u001b[36m(worker pid=2421359)\u001b[0m globaltimer 2497\n",
      "\u001b[2m\u001b[36m(worker pid=2421359)\u001b[0m gateFRs [22.44444444 30.66666667]\n",
      "\u001b[2m\u001b[36m(worker pid=2421359)\u001b[0m thresholds_crossed [1]\n",
      "\u001b[2m\u001b[36m(worker pid=2421359)\u001b[0m other_action 0\n"
     ]
    },
    {
     "name": "stderr",
     "output_type": "stream",
     "text": [
      "\u001b[2m\u001b[36m(worker pid=2421359)\u001b[0m /home/jyotika/Work/CBGTPy_release/CBGTPy/qvalues.py:196: FutureWarning: The frame.append method is deprecated and will be removed from pandas in a future version. Use pandas.concat instead.\n",
      "\u001b[2m\u001b[36m(worker pid=2421359)\u001b[0m   Q_df = Q_df.append(new_data)\n",
      "\u001b[2m\u001b[36m(worker pid=2421359)\u001b[0m /home/jyotika/Work/CBGTPy_release/CBGTPy/qvalues.py:196: FutureWarning: The frame.append method is deprecated and will be removed from pandas in a future version. Use pandas.concat instead.\n",
      "\u001b[2m\u001b[36m(worker pid=2421359)\u001b[0m   Q_df = Q_df.append(new_data)\n"
     ]
    },
    {
     "name": "stdout",
     "output_type": "stream",
     "text": [
      "\u001b[2m\u001b[36m(worker pid=2421359)\u001b[0m phasetimer 301\n",
      "\u001b[2m\u001b[36m(worker pid=2421359)\u001b[0m globaltimer 2798\n",
      "\u001b[2m\u001b[36m(worker pid=2421359)\u001b[0m trial_num 2\n",
      "\u001b[2m\u001b[36m(worker pid=2421359)\u001b[0m   action\n",
      "\u001b[2m\u001b[36m(worker pid=2421359)\u001b[0m 0   left\n",
      "\u001b[2m\u001b[36m(worker pid=2421359)\u001b[0m 1  right\n",
      "\u001b[2m\u001b[36m(worker pid=2421359)\u001b[0m chosen_action right\n",
      "\u001b[2m\u001b[36m(worker pid=2421359)\u001b[0m Q_support_params.chosen_action[0] right\n",
      "\u001b[2m\u001b[36m(worker pid=2421359)\u001b[0m trial_num 2\n",
      "\u001b[2m\u001b[36m(worker pid=2421359)\u001b[0m TRIAL WISE Q DF left     0.275\n",
      "\u001b[2m\u001b[36m(worker pid=2421359)\u001b[0m right    0.275\n",
      "\u001b[2m\u001b[36m(worker pid=2421359)\u001b[0m Name: 0, dtype: float64\n",
      "\u001b[2m\u001b[36m(worker pid=2421359)\u001b[0m self.dpmndefaults['dpmn_DAp'].values[0] -4.125\n",
      "\u001b[2m\u001b[36m(worker pid=2421359)\u001b[0m phasetimer 301\n",
      "\u001b[2m\u001b[36m(worker pid=2421359)\u001b[0m globaltimer 2798\n",
      "\u001b[2m\u001b[36m(worker pid=2421359)\u001b[0m trial_num 2\n",
      "\u001b[2m\u001b[36m(worker pid=2421359)\u001b[0m   action\n",
      "\u001b[2m\u001b[36m(worker pid=2421359)\u001b[0m 0   left\n",
      "\u001b[2m\u001b[36m(worker pid=2421359)\u001b[0m 1  right\n",
      "\u001b[2m\u001b[36m(worker pid=2421359)\u001b[0m chosen_action right\n",
      "\u001b[2m\u001b[36m(worker pid=2421359)\u001b[0m Q_support_params.chosen_action[0] right\n",
      "\u001b[2m\u001b[36m(worker pid=2421359)\u001b[0m trial_num 2\n",
      "\u001b[2m\u001b[36m(worker pid=2421359)\u001b[0m TRIAL WISE Q DF left     0.275\n",
      "\u001b[2m\u001b[36m(worker pid=2421359)\u001b[0m right    0.275\n",
      "\u001b[2m\u001b[36m(worker pid=2421359)\u001b[0m Name: 0, dtype: float64\n",
      "\u001b[2m\u001b[36m(worker pid=2421359)\u001b[0m self.dpmndefaults['dpmn_DAp'].values[0] -4.125\n",
      "\u001b[2m\u001b[36m(worker pid=2421359)\u001b[0m phasetimer 409\n",
      "\u001b[2m\u001b[36m(worker pid=2421359)\u001b[0m globaltimer 3808\n",
      "\u001b[2m\u001b[36m(worker pid=2421359)\u001b[0m gateFRs [30.44444444 23.11111111]\n",
      "\u001b[2m\u001b[36m(worker pid=2421359)\u001b[0m thresholds_crossed [0]\n",
      "\u001b[2m\u001b[36m(worker pid=2421359)\u001b[0m other_action 1\n",
      "\u001b[2m\u001b[36m(worker pid=2421359)\u001b[0m phasetimer 409\n",
      "\u001b[2m\u001b[36m(worker pid=2421359)\u001b[0m globaltimer 3808\n",
      "\u001b[2m\u001b[36m(worker pid=2421359)\u001b[0m gateFRs [30.44444444 23.11111111]\n",
      "\u001b[2m\u001b[36m(worker pid=2421359)\u001b[0m thresholds_crossed [0]\n",
      "\u001b[2m\u001b[36m(worker pid=2421359)\u001b[0m other_action 1\n"
     ]
    },
    {
     "name": "stderr",
     "output_type": "stream",
     "text": [
      "\u001b[2m\u001b[36m(worker pid=2421359)\u001b[0m /home/jyotika/Work/CBGTPy_release/CBGTPy/qvalues.py:196: FutureWarning: The frame.append method is deprecated and will be removed from pandas in a future version. Use pandas.concat instead.\n",
      "\u001b[2m\u001b[36m(worker pid=2421359)\u001b[0m   Q_df = Q_df.append(new_data)\n",
      "\u001b[2m\u001b[36m(worker pid=2421359)\u001b[0m /home/jyotika/Work/CBGTPy_release/CBGTPy/qvalues.py:196: FutureWarning: The frame.append method is deprecated and will be removed from pandas in a future version. Use pandas.concat instead.\n",
      "\u001b[2m\u001b[36m(worker pid=2421359)\u001b[0m   Q_df = Q_df.append(new_data)\n"
     ]
    },
    {
     "name": "stdout",
     "output_type": "stream",
     "text": [
      "\u001b[2m\u001b[36m(worker pid=2421359)\u001b[0m phasetimer 301\n",
      "\u001b[2m\u001b[36m(worker pid=2421359)\u001b[0m globaltimer 4109\n",
      "\u001b[2m\u001b[36m(worker pid=2421359)\u001b[0m trial_num 3\n",
      "\u001b[2m\u001b[36m(worker pid=2421359)\u001b[0m   action\n",
      "\u001b[2m\u001b[36m(worker pid=2421359)\u001b[0m 0   left\n",
      "\u001b[2m\u001b[36m(worker pid=2421359)\u001b[0m 1  right\n",
      "\u001b[2m\u001b[36m(worker pid=2421359)\u001b[0m chosen_action left\n",
      "\u001b[2m\u001b[36m(worker pid=2421359)\u001b[0m Q_support_params.chosen_action[0] left\n",
      "\u001b[2m\u001b[36m(worker pid=2421359)\u001b[0m trial_num 3\n",
      "\u001b[2m\u001b[36m(worker pid=2421359)\u001b[0m TRIAL WISE Q DF left     0.27500\n",
      "\u001b[2m\u001b[36m(worker pid=2421359)\u001b[0m right    0.15125\n",
      "\u001b[2m\u001b[36m(worker pid=2421359)\u001b[0m Name: 0, dtype: float64\n",
      "\u001b[2m\u001b[36m(worker pid=2421359)\u001b[0m self.dpmndefaults['dpmn_DAp'].values[0] -4.125\n",
      "\u001b[2m\u001b[36m(worker pid=2421359)\u001b[0m phasetimer 301\n",
      "\u001b[2m\u001b[36m(worker pid=2421359)\u001b[0m globaltimer 4109\n",
      "\u001b[2m\u001b[36m(worker pid=2421359)\u001b[0m trial_num 3\n",
      "\u001b[2m\u001b[36m(worker pid=2421359)\u001b[0m   action\n",
      "\u001b[2m\u001b[36m(worker pid=2421359)\u001b[0m 0   left\n",
      "\u001b[2m\u001b[36m(worker pid=2421359)\u001b[0m 1  right\n",
      "\u001b[2m\u001b[36m(worker pid=2421359)\u001b[0m chosen_action left\n",
      "\u001b[2m\u001b[36m(worker pid=2421359)\u001b[0m Q_support_params.chosen_action[0] left\n",
      "\u001b[2m\u001b[36m(worker pid=2421359)\u001b[0m trial_num 3\n",
      "\u001b[2m\u001b[36m(worker pid=2421359)\u001b[0m TRIAL WISE Q DF left     0.27500\n",
      "\u001b[2m\u001b[36m(worker pid=2421359)\u001b[0m right    0.15125\n",
      "\u001b[2m\u001b[36m(worker pid=2421359)\u001b[0m Name: 0, dtype: float64\n",
      "\u001b[2m\u001b[36m(worker pid=2421359)\u001b[0m self.dpmndefaults['dpmn_DAp'].values[0] -4.125\n"
     ]
    }
   ],
   "source": [
    "results = cbgt.ExecutionManager(cores=7).run([pl]*1,[environment]*1)"
   ]
  },
  {
   "cell_type": "code",
   "execution_count": null,
   "metadata": {},
   "outputs": [],
   "source": [
    "results[0].keys()"
   ]
  },
  {
   "cell_type": "code",
   "execution_count": null,
   "metadata": {},
   "outputs": [],
   "source": [
    "results[0]['d1'].keys()\n"
   ]
  },
  {
   "cell_type": "code",
   "execution_count": null,
   "metadata": {},
   "outputs": [],
   "source": [
    "results[0]['popfreqs'].columns\n"
   ]
  },
  {
   "cell_type": "code",
   "execution_count": null,
   "metadata": {},
   "outputs": [],
   "source": [
    "weights = np.array(results[0]['agent'].hist_w)\n",
    "weights[0]\n",
    "np.shape(weights)"
   ]
  },
  {
   "cell_type": "code",
   "execution_count": null,
   "metadata": {},
   "outputs": [],
   "source": [
    "datatables = cbgt.collateVariable(results,'datatables')\n",
    "datatables[0]"
   ]
  },
  {
   "cell_type": "code",
   "execution_count": null,
   "metadata": {},
   "outputs": [],
   "source": [
    "cbgt.saveResults(results,data_dir+'network_data_'+str(seed),['popfreqs','popdata','Q_support_params','d1','d2','dpmns','datatables'])"
   ]
  },
  {
   "cell_type": "code",
   "execution_count": null,
   "metadata": {},
   "outputs": [],
   "source": [
    "np.shape(weights)"
   ]
  },
  {
   "cell_type": "code",
   "execution_count": null,
   "metadata": {},
   "outputs": [],
   "source": [
    "import seaborn as sns\n",
    "for i in np.arange(len(results)):\n",
    "    weights = np.array(results[i]['agent'].hist_w)\n",
    "    weights[0]\n",
    "    np.shape(weights)\n",
    "    reshaped_wts = weights.reshape(len(weights),4)\n",
    "    nuc_list = ['D1-left','D2-left','D1-right','D2-right' ]\n",
    "    ind_list = [(0,0),(0,1),(1,0),(1,1)]\n",
    "    weights_df = pd.DataFrame(columns=[\"weights\",\"trials\",\"nuclei\"])\n",
    "\n",
    "    for j in np.arange(4):\n",
    "        temp = pd.DataFrame()\n",
    "        temp[\"weights\"] = [ np.mean(reshaped_wts[:,j][datatables[0]['stimulusstarttime'][i]:datatables[0]['stimulusstarttime'][i+1]])   for i in np.arange(len(datatables[0])-1) ]\n",
    "        #temp[\"weights\"] = [ weights[:,ind_list[j][0],ind_list[j][1],:,:][datatables[0]['stimulusstarttime'][i]:datatables[0]['stimulusstarttime'][i+1]])   for i in np.arange(len(datatables[0])-1) ]\n",
    "        temp[\"trials\"] = np.arange(0,len(datatables[0])-1)\n",
    "        temp[\"nuclei\"] = nuc_list[j]\n",
    "        weights_df = weights_df.append(temp)\n",
    "    \n",
    "    weights_df.to_csv(data_dir+\"Weights_\"+str(seed)+\".csv\")\n",
    "    fig,ax = plt.subplots(1,1,figsize=(16,9))\n",
    "    sns.pointplot(x=\"trials\",y=\"weights\",hue=\"nuclei\",data=weights_df,ax=ax)\n",
    "    fig.savefig(figure_dir+\"Weights_\"+str(seed)+\"_\"+str(i)+\".png\")    "
   ]
  },
  {
   "cell_type": "code",
   "execution_count": null,
   "metadata": {},
   "outputs": [],
   "source": [
    "#import seaborn as sns\n"
   ]
  },
  {
   "cell_type": "code",
   "execution_count": null,
   "metadata": {},
   "outputs": [],
   "source": [
    "#weights_all = np.array(results[0]['agent'].hist_w_all)\n",
    "#shape_all = np.shape(weights_all)\n",
    "#print(shape_all)\n",
    "#weights_all_reshaped = weights_all.reshape(shape_all[0],4,shape_all[3]*shape_all[4])\n",
    "#np.shape(weights_all_reshaped)\n"
   ]
  },
  {
   "cell_type": "code",
   "execution_count": null,
   "metadata": {},
   "outputs": [],
   "source": []
  },
  {
   "cell_type": "code",
   "execution_count": null,
   "metadata": {},
   "outputs": [],
   "source": [
    "results[0]['actionchannels']"
   ]
  },
  {
   "cell_type": "code",
   "execution_count": null,
   "metadata": {},
   "outputs": [],
   "source": [
    "results[0]['popdata']"
   ]
  },
  {
   "cell_type": "code",
   "execution_count": null,
   "metadata": {},
   "outputs": [],
   "source": [
    "results[0]['opt_channels_df']"
   ]
  },
  {
   "cell_type": "raw",
   "metadata": {},
   "source": []
  },
  {
   "cell_type": "code",
   "execution_count": null,
   "metadata": {},
   "outputs": [],
   "source": [
    "import importlib\n",
    "importlib.reload(plt_help)"
   ]
  },
  {
   "cell_type": "code",
   "execution_count": null,
   "metadata": {},
   "outputs": [],
   "source": [
    "firing_rates, reward_q_df, performance, rt_dist, total_performance = plt_help.extract_relevant_frames(results,seed,data_dir)"
   ]
  },
  {
   "cell_type": "code",
   "execution_count": null,
   "metadata": {},
   "outputs": [],
   "source": [
    "total_performance"
   ]
  },
  {
   "cell_type": "code",
   "execution_count": null,
   "metadata": {},
   "outputs": [],
   "source": [
    "temp = firing_rates[0].groupby(\"variable\").max()\n",
    "\n",
    "ind = np.where(temp[\"nuclei\"].str.contains(\"STR\"))[0]\n",
    "temp1 = temp.iloc[ind][[\"nuclei\",\"firing_rate\",\"channel\"]]\n",
    "temp1[\"nuclei_channel\"] = temp1[\"nuclei\"]+\"_\"+temp1[\"channel\"]\n",
    "max_firing_rates = temp1[[\"nuclei_channel\",\"firing_rate\"]]\n",
    "max_firing_rates = max_firing_rates.reset_index()\n",
    "max_firing_rates = max_firing_rates.drop(columns='variable')\n",
    "# max_firing_rates = max_firing_rates.T\n",
    "# max_firing_rates.columns=max_firing_rates.iloc[0]\n",
    "# max_firing_rates = max_firing_rates.drop_duplicates()\n",
    "print(max_firing_rates)\n",
    "max_firing_rates['d1_dpmn_wmax'] = results[0]['d1']['dpmn_wmax'].values[0]\n",
    "max_firing_rates['d2_dpmn_wmax'] = results[0]['d2']['dpmn_wmax'].values[0]\n",
    "max_firing_rates['d1_dpmn_alphaw'] = results[0]['d1']['dpmn_alphaw'].values[0]\n",
    "max_firing_rates['d2_dpmn_alphaw'] = results[0]['d2']['dpmn_alphaw'].values[0]\n",
    "max_firing_rates['dpmn_CPP_scale'] = results[0]['Q_support_params']['dpmn_CPP_scale'].values[0]\n",
    "max_firing_rates['q_alpha'] = results[0]['Q_support_params']['q_alpha'].values[0]\n",
    "max_firing_rates['performance'] = total_performance[\"%_correct_actions\"].values[0]\n",
    "max_firing_rates['conflict'] = total_performance['conflict'].values[0]\n",
    "max_firing_rates['seed'] = seed\n",
    "print(max_firing_rates)\n",
    "\n",
    "max_firing_rates.to_csv(data_dir+\"max_firing_rates_\"+str(seed)+\".csv\")"
   ]
  },
  {
   "cell_type": "code",
   "execution_count": null,
   "metadata": {},
   "outputs": [],
   "source": [
    "kern = np.arange(0,10)/10.\n",
    "weights = np.array(results[0]['agent'].hist_w)\n",
    "pop_list_names = [\"D1-left\",\"D1-right\",\"D2-left\",\"D2-right\" ]\n",
    "\n",
    "DA_p = pd.DataFrame.from_records(results[0]['agent'].hist_DAp,columns=pop_list_names)\n",
    "DA_p[\"Time\"] = np.arange(0,len(DA_p))\n",
    "DA_p_melt = DA_p.melt(\"Time\")\n",
    "DA_p_melt = DA_p_melt.rename(columns={'value':'DA_p'})\n",
    "\n",
    "Apre = pd.DataFrame.from_records(results[0]['agent'].hist_Apre,columns=nuc_list)\n",
    "Apre[\"Time\"] = np.arange(0,len(Apre))\n",
    "Apre_melt = Apre.melt(\"Time\")\n",
    "Apre_melt = Apre_melt.rename(columns={'value':'Apre'})\n",
    "Apre_melt[\"Apre\"] = np.convolve(Apre_melt[\"Apre\"],kern,mode='same')\n",
    "\n",
    "Apost = pd.DataFrame.from_records(results[0]['agent'].hist_Apost,columns=nuc_list)\n",
    "Apost[\"Time\"] = np.arange(0,len(Apost))\n",
    "Apost_melt = Apost.melt(\"Time\")\n",
    "Apost_melt = Apost_melt.rename(columns={'value':'Apost'})\n",
    "Apost_melt[\"Apost\"] = np.convolve(Apost_melt[\"Apost\"],kern,mode='same')\n",
    "\n",
    "dp_E = pd.DataFrame.from_records(results[0]['agent'].hist_E,columns=pop_list_names)\n",
    "dp_E[\"Time\"] = np.arange(0,len(dp_E))\n",
    "dp_E_melt = dp_E.melt(\"Time\")\n",
    "dp_E_melt = dp_E_melt.rename(columns={'value':'Eligibility'})\n",
    "#dp_E_melt[\"Eligibility\"] = np.convolve(dp_E_melt[\"Eligibility\"],kern,mode='same')\n",
    "\n",
    "Wts = pd.DataFrame.from_records(np.array(results[0]['agent'].hist_w).reshape(len(weights),4),columns=nuc_list)\n",
    "Wts[\"Time\"] = np.arange(0,len(Wts))\n",
    "Wts_melt = Wts.melt(\"Time\")\n",
    "Wts_melt = Wts_melt.rename(columns={'value':'Weights'})\n",
    "\n",
    "# Xpre = pd.DataFrame.from_records(results[0]['agent'].hist_Xpre,columns=nuc_list)\n",
    "# Xpre[\"Time\"] = np.arange(0,len(Xpre))\n",
    "# Xpre_melt = Xpre.melt(\"Time\")\n",
    "# Xpre_melt = Xpre_melt.rename(columns={'value':'Xpre'})\n",
    "# Xpre_melt[\"Xpre\"] = np.convolve(Xpre_melt[\"Xpre\"],kern,mode='same')\n",
    "\n",
    "# Xpost = pd.DataFrame.from_records(results[0]['agent'].hist_Xpost,columns=nuc_list)\n",
    "# Xpost[\"Time\"] = np.arange(0,len(Xpost))\n",
    "# Xpost_melt = Xpost.melt(\"Time\")\n",
    "# Xpost_melt = Xpost_melt.rename(columns={'value':'Xpost'})\n",
    "# Xpost_melt[\"Xpost\"] = np.convolve(Xpost_melt[\"Xpost\"],kern,mode='same')\n",
    "\n",
    "\n",
    "# Apre_Xpost = Apre_melt.copy()\n",
    "# Apre_Xpost[\"Apre\"] = Apre_melt.Apre * Xpost_melt.Xpost\n",
    "# Apre_Xpost = Apre_Xpost.rename(columns={'Apre':\"Apre*Xpost\"})\n",
    "# Apre_Xpost[\"Apre*Xpost\"] = np.convolve(Apre_Xpost[\"Apre*Xpost\"],kern,mode='same')\n",
    "\n",
    "# Apost_Xpre = Apost_melt.copy()\n",
    "# Apost_Xpre[\"Apost\"] = Apost_melt.Apost * Xpre_melt.Xpre\n",
    "# Apost_Xpre = Apost_Xpre.rename(columns={'Apost':\"Apost*Xpre\"})\n",
    "# Apost_Xpre[\"Apost*Xpre\"] = np.convolve(Apost_Xpre[\"Apost*Xpre\"],kern,mode='same')\n"
   ]
  },
  {
   "cell_type": "code",
   "execution_count": null,
   "metadata": {},
   "outputs": [],
   "source": [
    "\n",
    "\n",
    "# fig,ax = plt.subplots(9,1,figsize=(24,24))\n",
    "\n",
    "# sns.lineplot(x=\"Time\",y=\"DA_p\",hue =\"variable\" ,ax=ax[0],data=DA_p_melt)\n",
    "# sns.lineplot(x=\"Time\",y=\"Apre\",hue=\"variable\",ax=ax[1],data=Apre_melt)\n",
    "# sns.lineplot(x=\"Time\",y=\"Apost\",hue=\"variable\",ax=ax[2],data=Apost_melt)\n",
    "# sns.lineplot(x=\"Time\",y=\"Xpre\",hue=\"variable\",ax=ax[3],data=Xpre_melt)\n",
    "# sns.lineplot(x=\"Time\",y=\"Xpost\",hue=\"variable\",ax=ax[4],data=Xpost_melt)\n",
    "# sns.lineplot(x=\"Time\",y=\"Apre*Xpost\",hue=\"variable\",ax=ax[5],data=Apre_Xpost)\n",
    "# sns.lineplot(x=\"Time\",y=\"Apost*Xpre\",hue=\"variable\",ax=ax[6],data=Apost_Xpre)\n",
    "# sns.lineplot(x=\"Time\",y=\"Eligibility\",hue=\"variable\",ax=ax[7],data=dp_E_melt)\n",
    "# sns.lineplot(x=\"Time\",y=\"Weights\",hue=\"variable\",ax=ax[8],data=Wts_melt)\n",
    "\n",
    "\n",
    "# # sns.pointplot(x=\"Trials\",y=\"value\",hue=\"variable\" ,data=reward_q_df[0].loc[reward_q_df[0][\"data_type\"]==\"reward_df\"],ax=ax[5],hue_order=[\"left\",\"right\"])\n",
    "# # ax[5].set_ylabel(\"Reward_df\")\n",
    "# # sns.pointplot(x=\"Trials\",y=\"value\",hue=\"variable\" ,data=reward_q_df[0].loc[reward_q_df[0][\"data_type\"]==\"chosen action\"],ax=ax[6],hue_order=[\"left\",\"right\"])\n",
    "# # ax[6].set_ylabel(\"Chosen_action\")\n",
    "# # sns.pointplot(x=\"Trials\",y=\"value\",hue=\"variable\" ,data=reward_q_df[0].loc[reward_q_df[0][\"data_type\"]==\"Q_df\"],ax=ax[7],hue_order=[\"left\",\"right\"])\n",
    "# # ax[7].set_ylabel(\"Q value\")\n",
    "# fig.subplots_adjust(bottom=0.06,left=0.06,top=0.95,right=0.97)\n",
    "# # #plt.xlim(400,800)\n",
    "# plt.savefig(figure_dir+\"STDP_\"+str(seed)+\".png\")\n",
    "# plt.show()"
   ]
  },
  {
   "cell_type": "code",
   "execution_count": null,
   "metadata": {},
   "outputs": [],
   "source": [
    "plt_help.pool_data(data_dir)\n"
   ]
  },
  {
   "cell_type": "code",
   "execution_count": null,
   "metadata": {},
   "outputs": [],
   "source": [
    "#import pickle\n",
    "#pickle.dump(reward_q_df,open(data_dir+str(seed)+\"/reward_b_cpp.pickle\",\"wb\"))"
   ]
  },
  {
   "cell_type": "code",
   "execution_count": null,
   "metadata": {},
   "outputs": [],
   "source": [
    "#reward_df = pickle.load(open(data_dir+str(seed)+\"/reward_b_cpp.pickle\",\"rb\"))\n",
    "#len(reward_df)\n"
   ]
  },
  {
   "cell_type": "code",
   "execution_count": null,
   "metadata": {},
   "outputs": [],
   "source": [
    "reward_q_df[0]"
   ]
  },
  {
   "cell_type": "code",
   "execution_count": null,
   "metadata": {},
   "outputs": [],
   "source": []
  },
  {
   "cell_type": "code",
   "execution_count": null,
   "metadata": {},
   "outputs": [],
   "source": [
    "total_performance"
   ]
  },
  {
   "cell_type": "code",
   "execution_count": null,
   "metadata": {},
   "outputs": [],
   "source": [
    "results[0]['block']"
   ]
  },
  {
   "cell_type": "code",
   "execution_count": null,
   "metadata": {},
   "outputs": [],
   "source": [
    "results[0]['popfreqs']"
   ]
  },
  {
   "cell_type": "code",
   "execution_count": null,
   "metadata": {},
   "outputs": [],
   "source": [
    "# You can smoothen the FR by sending smooth=True, default: smooth=False\n",
    "#plt_func.plot_fr(results[0],smooth=True)\n",
    "plt_func.plot_fr(firing_rates,seed,figure_dir)\n"
   ]
  },
  {
   "cell_type": "code",
   "execution_count": null,
   "metadata": {},
   "outputs": [],
   "source": [
    "# LLLLLLLLLLLLLLLLLLRRRRRRRRRRRRRRRRRRRRRRLLLLLLLLLLLLLLLLLLLLLLLLLRRRRRRRRRRRRRRRRR\n",
    "\n",
    "# LLLRLLLRLLLRRLLLLLRRRRRRLLRRRRLLRRRLRRRRLLLLLRLLRLLLLLRLLLLRLLLLLRRRRRRRRRRRRRRRRR\n",
    "\n",
    "# LLLLLLLLLLLLLLLLLLRRRRRRRRRRRRRRRRRRRRRRLLLLLLLLLLLLLLLLLLLLLLLLLRRRRRRRRRRRRRRRRR"
   ]
  },
  {
   "cell_type": "code",
   "execution_count": null,
   "metadata": {},
   "outputs": [],
   "source": [
    "reward_q_df[0]"
   ]
  },
  {
   "cell_type": "code",
   "execution_count": null,
   "metadata": {},
   "outputs": [],
   "source": [
    "import importlib\n",
    "\n",
    "importlib.reload(plt_func)"
   ]
  },
  {
   "cell_type": "code",
   "execution_count": null,
   "metadata": {},
   "outputs": [],
   "source": [
    "plt_func.plot_reward_Q_df(reward_q_df,figure_dir)"
   ]
  },
  {
   "cell_type": "code",
   "execution_count": null,
   "metadata": {},
   "outputs": [],
   "source": [
    "savedresults = cbgt.loadResults(data_dir+'network_data_'+str(seed))\n",
    "savedresults[0]['Q_support_params']"
   ]
  },
  {
   "cell_type": "code",
   "execution_count": null,
   "metadata": {},
   "outputs": [],
   "source": [
    "datatables = cbgt.collateVariable(results,'datatables')"
   ]
  },
  {
   "cell_type": "code",
   "execution_count": null,
   "metadata": {},
   "outputs": [],
   "source": [
    "datatables[0]"
   ]
  },
  {
   "cell_type": "code",
   "execution_count": null,
   "metadata": {},
   "outputs": [],
   "source": [
    "total_performance"
   ]
  },
  {
   "cell_type": "code",
   "execution_count": null,
   "metadata": {},
   "outputs": [],
   "source": [
    "\n",
    "\n",
    "\n",
    "\n",
    "\n",
    "\n",
    "\n",
    "\n",
    "plt_func.performance_all(performance,rt_dist,total_performance,figure_dir,data_dir)\n",
    "# To plot performance and rt distributions for all the simulations you have run so far, call performance_all with empty lists\n",
    "# Pools data over seeds and plots the performance\n",
    "plt_func.performance_all([],[],[],figure_dir,data_dir)\n",
    "\n",
    "    "
   ]
  },
  {
   "cell_type": "code",
   "execution_count": null,
   "metadata": {},
   "outputs": [],
   "source": [
    "cbgt.comparisonTable(results, ['n_trials','volatility','conflict'])"
   ]
  },
  {
   "cell_type": "code",
   "execution_count": null,
   "metadata": {},
   "outputs": [],
   "source": [
    "\n",
    "\n"
   ]
  },
  {
   "cell_type": "code",
   "execution_count": null,
   "metadata": {},
   "outputs": [],
   "source": [
    "popfreqs = cbgt.collateVariable(results,'popfreqs')\n",
    "len(results)"
   ]
  },
  {
   "cell_type": "code",
   "execution_count": null,
   "metadata": {},
   "outputs": [],
   "source": [
    "inp = np.array(results[0]['agent'].inp)\n",
    "\n",
    "fig,ax = pl.subplots(1,2,figsize=(12,9))\n",
    "ax[0].plot(inp[:,0],label='Ctx-left-input')\n",
    "ax[0].plot(inp[:,1],label='Ctx-right-input')\n",
    "ax[0].legend()\n",
    "ax[1].plot(popfreqs[i].iloc[:,10],label=\"Ctx-left-activity\",color='r')\n",
    "ax[1].plot(popfreqs[i].iloc[:,11],label=\"Ctx-right-activity\",color='g')\n",
    "ax[1].plot(popfreqs[i].iloc[:,15],label=\"Ctx-inhibition\",color='c')\n",
    "ax[1].legend()\n",
    "fig.savefig(figure_dir+\"Input_vs_activity_lip\"+str(seed)+\".png\")"
   ]
  },
  {
   "cell_type": "code",
   "execution_count": null,
   "metadata": {},
   "outputs": [],
   "source": [
    "popdata = cbgt.collateVariable(results,'popdata')"
   ]
  },
  {
   "cell_type": "code",
   "execution_count": null,
   "metadata": {},
   "outputs": [],
   "source": [
    "popdata[0][popdata[0]['name'] == 'GPi']['column']"
   ]
  },
  {
   "cell_type": "code",
   "execution_count": null,
   "metadata": {
    "scrolled": true
   },
   "outputs": [],
   "source": [
    "for i in np.arange(len(results)):\n",
    "    fig,ax = plt.subplots(2,3,figsize=(24,16))\n",
    "    print(ax)\n",
    "    stim_on = datatables[i][\"stimulusstarttime\"]\n",
    "    decision_time = datatables[i][\"decisiontime\"]\n",
    "    weights = np.array(results[i]['agent'].hist_w)\n",
    "    Wts = pd.DataFrame.from_records(np.array(results[i]['agent'].hist_w).reshape(len(weights),4),columns=nuc_list)\n",
    "    ax[0][0].plot(popfreqs[i].iloc[:,0],label=\"GPi-left\")\n",
    "    ax[0][0].plot(popfreqs[i].iloc[:,1],label=\"GPi-right\")\n",
    "\n",
    "    ax[0][1].plot(popfreqs[i].iloc[:,12],label=\"Th-left\")\n",
    "    ax[0][1].plot(popfreqs[i].iloc[:,13],label=\"Th-right\")\n",
    "    \n",
    "    ax[0][2].plot(popfreqs[i].iloc[:,10],label=\"Ctx-left\")\n",
    "    ax[0][2].plot(popfreqs[i].iloc[:,11],label=\"Ctx-right\")\n",
    "\n",
    "    \n",
    "    ax[1][0].plot(popfreqs[i].iloc[:,6],label=\"D1-left\")\n",
    "    ax[1][0].plot(popfreqs[i].iloc[:,7],label=\"D1-right\")\n",
    "    for k in nuc_list:\n",
    "        ax[1][1].plot(Wts[k],label=k)\n",
    "\n",
    "    for a in np.hstack(ax):\n",
    "        ylims = a.get_ylim()\n",
    "        for s,d in zip(stim_on,decision_time):\n",
    "            a.vlines(x=s,ymin=ylims[0],ymax=ylims[1],color='k',lw=1.0,ls=\"solid\")\n",
    "            a.vlines(x=d,ymin=ylims[0],ymax=ylims[1],color='k',lw=1.0,ls=\"dashed\")\n",
    "            a.set_ylim(ylims[0],ylims[1])\n",
    "        a.set_xlim(0,3000)\n",
    "        a.legend()\n",
    "    fig.subplots_adjust(left=0.06,bottom=0.06,right=0.96,top=0.96)\n",
    "    fig.savefig(figure_dir+\"Zoomed_in_activity_\"+str(seed)+\"_\"+str(i)+\".png\")"
   ]
  },
  {
   "cell_type": "markdown",
   "metadata": {},
   "source": [
    "### 2. Modifying default values "
   ]
  },
  {
   "cell_type": "markdown",
   "metadata": {},
   "source": [
    "### 2.1 Modifying values "
   ]
  },
  {
   "cell_type": "code",
   "execution_count": null,
   "metadata": {},
   "outputs": [],
   "source": [
    "results['popdata']"
   ]
  },
  {
   "cell_type": "code",
   "execution_count": null,
   "metadata": {},
   "outputs": [],
   "source": [
    "results['Q_df']"
   ]
  },
  {
   "cell_type": "markdown",
   "metadata": {},
   "source": [
    "### 2.2 Modifying a subset of values"
   ]
  },
  {
   "cell_type": "code",
   "execution_count": null,
   "metadata": {},
   "outputs": [],
   "source": [
    "results['popdata']"
   ]
  },
  {
   "cell_type": "code",
   "execution_count": null,
   "metadata": {},
   "outputs": [],
   "source": [
    "results['Q_df']"
   ]
  },
  {
   "cell_type": "code",
   "execution_count": null,
   "metadata": {},
   "outputs": [],
   "source": []
  },
  {
   "cell_type": "markdown",
   "metadata": {},
   "source": [
    "### 3. Back to default values "
   ]
  },
  {
   "cell_type": "code",
   "execution_count": null,
   "metadata": {},
   "outputs": [],
   "source": []
  },
  {
   "cell_type": "code",
   "execution_count": null,
   "metadata": {},
   "outputs": [],
   "source": []
  },
  {
   "cell_type": "code",
   "execution_count": null,
   "metadata": {},
   "outputs": [],
   "source": []
  },
  {
   "cell_type": "code",
   "execution_count": null,
   "metadata": {},
   "outputs": [],
   "source": []
  },
  {
   "cell_type": "code",
   "execution_count": null,
   "metadata": {},
   "outputs": [],
   "source": []
  },
  {
   "cell_type": "code",
   "execution_count": null,
   "metadata": {},
   "outputs": [],
   "source": []
  },
  {
   "cell_type": "code",
   "execution_count": null,
   "metadata": {},
   "outputs": [],
   "source": []
  },
  {
   "cell_type": "code",
   "execution_count": null,
   "metadata": {},
   "outputs": [],
   "source": []
  },
  {
   "cell_type": "code",
   "execution_count": null,
   "metadata": {},
   "outputs": [],
   "source": []
  },
  {
   "cell_type": "code",
   "execution_count": null,
   "metadata": {},
   "outputs": [],
   "source": []
  },
  {
   "cell_type": "code",
   "execution_count": null,
   "metadata": {},
   "outputs": [],
   "source": []
  },
  {
   "cell_type": "code",
   "execution_count": null,
   "metadata": {},
   "outputs": [],
   "source": []
  },
  {
   "cell_type": "code",
   "execution_count": null,
   "metadata": {},
   "outputs": [],
   "source": []
  }
 ],
 "metadata": {
  "kernelspec": {
   "display_name": "Python 3 (ipykernel)",
   "language": "python",
   "name": "python3"
  },
  "language_info": {
   "codemirror_mode": {
    "name": "ipython",
    "version": 3
   },
   "file_extension": ".py",
   "mimetype": "text/x-python",
   "name": "python",
   "nbconvert_exporter": "python",
   "pygments_lexer": "ipython3",
   "version": "3.8.12"
  }
 },
 "nbformat": 4,
 "nbformat_minor": 4
}
