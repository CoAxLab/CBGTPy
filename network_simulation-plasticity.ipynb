{
 "cells": [
  {
   "cell_type": "markdown",
   "metadata": {},
   "source": [
    "### To run the cbgt network, see first the technical_testbench to install all the required packages and start the server "
   ]
  },
  {
   "cell_type": "code",
   "execution_count": 1,
   "metadata": {},
   "outputs": [],
   "source": [
    "#Auto reloading \n",
    "# %load_ext autoreload\n",
    "\n",
    "# %autoreload\n",
    "# %reload_ext autoreload "
   ]
  },
  {
   "cell_type": "code",
   "execution_count": 2,
   "metadata": {},
   "outputs": [],
   "source": [
    "#Removing indentation issues:\n",
    "#!autopep8 --in-place --aggressive --aggressive init_params.py\n",
    "#!autopep8 --in-place --aggressive --aggressive popconstruct.py\n",
    "#!autopep8 --in-place --aggressive --aggressive generateepochs.py\n",
    "#!autopep8 --in-place --aggressive --aggressive qvalues.py"
   ]
  },
  {
   "cell_type": "markdown",
   "metadata": {},
   "source": [
    "# Compile the main simulator code using cython "
   ]
  },
  {
   "cell_type": "code",
   "execution_count": 3,
   "metadata": {},
   "outputs": [
    {
     "name": "stdout",
     "output_type": "stream",
     "text": [
      "running build_ext\n",
      "running build_ext\n"
     ]
    }
   ],
   "source": [
    "!python setup.py build_ext --inplace"
   ]
  },
  {
   "cell_type": "markdown",
   "metadata": {},
   "source": [
    "# Import all the relevant files "
   ]
  },
  {
   "cell_type": "code",
   "execution_count": 4,
   "metadata": {},
   "outputs": [
    {
     "name": "stderr",
     "output_type": "stream",
     "text": [
      "2023-03-01 16:15:36,244\tINFO worker.py:842 -- Connecting to existing Ray cluster at address: 172.26.48.10:6379\n"
     ]
    },
    {
     "data": {
      "text/plain": [
       "<module 'plotting_functions' from '/home/jyotika/Work/CBGTPy_release/CBGTPy/plotting_functions.py'>"
      ]
     },
     "execution_count": 4,
     "metadata": {},
     "output_type": "execute_result"
    }
   ],
   "source": [
    "# Import the pipeline creation object\n",
    "import pandas as pd\n",
    "import numpy as np\n",
    "import cbgt as cbgt\n",
    "import pipeline_creation as pl_creat\n",
    "import plotting_functions as plt_func\n",
    "import plotting_helper_functions as plt_help\n",
    "\n",
    "\n",
    "import importlib\n",
    "\n",
    "importlib.reload(plt_help)\n",
    "importlib.reload(plt_func)"
   ]
  },
  {
   "cell_type": "markdown",
   "metadata": {},
   "source": [
    "# Choose the experiment and create the main pipeline"
   ]
  },
  {
   "cell_type": "code",
   "execution_count": 5,
   "metadata": {},
   "outputs": [
    {
     "name": "stdout",
     "output_type": "stream",
     "text": [
      "75434668\n"
     ]
    }
   ],
   "source": [
    "# Choose the experiment\n",
    "experiment_choice = \"plastic\"\n",
    "\n",
    "# Call choose_pipeline with the pipeline object\n",
    "pl_creat.choose_pipeline(experiment_choice)\n",
    "\n",
    "#Create the main pipeline\n",
    "pl = pl_creat.create_main_pipeline(runloop=True)\n",
    "\n",
    "# set a seed\n",
    "seed = np.random.randint(0,99999999,1)[0]\n",
    "print(seed)\n"
   ]
  },
  {
   "cell_type": "code",
   "execution_count": 6,
   "metadata": {},
   "outputs": [],
   "source": [
    "#Import core functions\n",
    "\n",
    "# from frontendhelpers import * \n",
    "# from tracetype import *\n",
    "# import qvalues as qval\n",
    "# import generateepochs as gen\n",
    "# from agentmatrixinit import *\n",
    "\n",
    "# import pipeline_creation as pl_creat\n",
    "\n",
    "# Import plotting functions\n",
    "# import matplotlib.pyplot as plt\n",
    "\n",
    "# Define the data and figure directory\n",
    "\n",
    "data_dir = \"./Data/\"\n",
    "figure_dir = \"./Figures/\"\n"
   ]
  },
  {
   "cell_type": "markdown",
   "metadata": {},
   "source": [
    "# Running the pipeline"
   ]
  },
  {
   "cell_type": "markdown",
   "metadata": {},
   "source": [
    "### 1. Default values of environment variable"
   ]
  },
  {
   "cell_type": "code",
   "execution_count": 7,
   "metadata": {},
   "outputs": [],
   "source": [
    "#See init_params.py / generateepochs.py / popconstruct.py / qvalues.py\n",
    "#to know the parameters contained in each of the following variables \n",
    "environment = {\n",
    "    'experimentchoice': experiment_choice,\n",
    "    'params': None, #neuron parameters (init_params.py)\n",
    "    'pops': None,   #population parameters (init_params.py)\n",
    "    'receps' : None, #receptor parameters (init_params.py)\n",
    "    'base' : None, #baseline stimulation parameters (init_params.py)\n",
    "    'dpmns' : None, #dopamine related parameters (init_params.py)\n",
    "    #'dpmns' : pd.DataFrame([0.05], columns=['dpmn_wmax']),\n",
    "    #'d1' : None, #D1-MSNs population related parameters (init_params.py)\n",
    "    'd1': None,#pd.DataFrame([[39.5,0.055]], columns=['dpmn_alphaw','dpmn_wmax']),\n",
    "    'd2': None, #pd.DataFrame([[-38.2,0.035]], columns=['dpmn_alphaw','dpmn_wmax']),\n",
    "    'channels' : pd.DataFrame([[\"left\"],[\"right\"]], columns=['action']), #action channels related parameters (init_params.py)\n",
    "    #'actionchannels' : pd.DataFrame([[1],[2]], columns=['action']), #labels for the actions (init_params.py)\n",
    "    #'actionchannels' : pd.DataFrame([[\"left\"],[\"right\"]], columns=['action']), #labels for the actions (init_params.py)\n",
    "    'newpathways' :None,\n",
    "    'Q_support_params': None,#pd.DataFrame([[85,0.6]],columns=['dpmn_CPP_scale','q_alpha']), #initialization of Q-values update (qvalues.py) \n",
    "    'Q_df_set':pd.DataFrame([[0.5, 0.5]],columns=[\"left\",\"right\"]), #initialized Q-values df (qvalues.py)  \n",
    "    'n_trials': 10, #number of trials (generateepochs.py)\n",
    "    'volatility': [4,\"exact\"], #frequency of changepoints and type of change points (exact or poisson) (generateepochs.py)\n",
    "    'conflict': (0.0, 1.0), #probability of the preferred choice (generateepochs.py)\n",
    "    'reward_mu': 1, #mean for the magnitude of the reward (generateepochs.py)\n",
    "    'reward_std': 0.01, #std for the magnitude of the reward (generateepochs.py)\n",
    "    'maxstim': 1.0, # 3 instead? how much stimulus the LIP gets at maximum\n",
    "    'opt_signal_present':False,\n",
    "    'opt_signal_probability':1.0, # probability of trials that will get the stop signal / list of trial numbers\n",
    "    'opt_signal_amplitude':0.2, # ampitude of the stop signal over base line\n",
    "    'opt_signal_onset':0., # in ms\n",
    "    'opt_signal_channel': \"all\", # \"all\" (all channels are given the stop signal) \n",
    "    'opt_signal_population':[\"D1STR\"],\n",
    "    'sustainedfraction':0.85\n",
    "                                #/\"any\" (channel given the stop signal is chosen randomly)\n",
    "                                # [list of channels] == subset of channels given the stop signal\n",
    "    \n",
    "}\n"
   ]
  },
  {
   "cell_type": "markdown",
   "metadata": {},
   "source": [
    "### Run the simulation - 1 thread with the environment variable"
   ]
  },
  {
   "cell_type": "code",
   "execution_count": null,
   "metadata": {},
   "outputs": [
    {
     "name": "stdout",
     "output_type": "stream",
     "text": [
      "\u001b[2m\u001b[36m(worker pid=3047861)\u001b[0m conflict (0.0, 1.0)\n",
      "\u001b[2m\u001b[36m(worker pid=3047861)\u001b[0m    left     right\n",
      "\u001b[2m\u001b[36m(worker pid=3047861)\u001b[0m 0   0.0  1.017641\n",
      "\u001b[2m\u001b[36m(worker pid=3047861)\u001b[0m 1   0.0  1.004002\n",
      "\u001b[2m\u001b[36m(worker pid=3047861)\u001b[0m 2   0.0  1.009787\n",
      "\u001b[2m\u001b[36m(worker pid=3047861)\u001b[0m 3   0.0  1.022409\n",
      "\u001b[2m\u001b[36m(worker pid=3047861)\u001b[0m 4   0.0  1.018676\n",
      "\u001b[2m\u001b[36m(worker pid=3047861)\u001b[0m 5   0.0  0.990227\n",
      "\u001b[2m\u001b[36m(worker pid=3047861)\u001b[0m 6   0.0  1.009501\n",
      "\u001b[2m\u001b[36m(worker pid=3047861)\u001b[0m 7   0.0  0.998486\n",
      "\u001b[2m\u001b[36m(worker pid=3047861)\u001b[0m 8   0.0  0.998968\n",
      "\u001b[2m\u001b[36m(worker pid=3047861)\u001b[0m 9   0.0  1.004106\n",
      "\u001b[2m\u001b[36m(worker pid=3047861)\u001b[0m change points: [0 4 8 9]\n",
      "\u001b[2m\u001b[36m(worker pid=3047861)\u001b[0m conflict (0.0, 1.0)\n",
      "\u001b[2m\u001b[36m(worker pid=3047861)\u001b[0m conflict (0.0, 1.0)\n",
      "\u001b[2m\u001b[36m(worker pid=3047861)\u001b[0m    left     right\n",
      "\u001b[2m\u001b[36m(worker pid=3047861)\u001b[0m 0   0.0  1.017641\n",
      "\u001b[2m\u001b[36m(worker pid=3047861)\u001b[0m 1   0.0  1.004002\n",
      "\u001b[2m\u001b[36m(worker pid=3047861)\u001b[0m 2   0.0  1.009787\n",
      "\u001b[2m\u001b[36m(worker pid=3047861)\u001b[0m 3   0.0  1.022409\n",
      "\u001b[2m\u001b[36m(worker pid=3047861)\u001b[0m 4   0.0  1.018676\n",
      "\u001b[2m\u001b[36m(worker pid=3047861)\u001b[0m 5   0.0  0.990227\n",
      "\u001b[2m\u001b[36m(worker pid=3047861)\u001b[0m 6   0.0  1.009501\n",
      "\u001b[2m\u001b[36m(worker pid=3047861)\u001b[0m 7   0.0  0.998486\n",
      "\u001b[2m\u001b[36m(worker pid=3047861)\u001b[0m 8   0.0  0.998968\n",
      "\u001b[2m\u001b[36m(worker pid=3047861)\u001b[0m 9   0.0  1.004106\n",
      "\u001b[2m\u001b[36m(worker pid=3047861)\u001b[0m change points: [0 4 8 9]\n",
      "\u001b[2m\u001b[36m(worker pid=3047861)\u001b[0m conflict (0.0, 1.0)\n",
      "\u001b[2m\u001b[36m(worker pid=3047861)\u001b[0m 0    100.0`\n",
      "\u001b[2m\u001b[36m(worker pid=3047861)\u001b[0m Name: dpmn_CPP_scale, dtype: object\n",
      "\u001b[2m\u001b[36m(worker pid=3047861)\u001b[0m 0    100.0`\n",
      "\u001b[2m\u001b[36m(worker pid=3047861)\u001b[0m Name: dpmn_CPP_scale, dtype: object\n"
     ]
    },
    {
     "name": "stderr",
     "output_type": "stream",
     "text": [
      "\u001b[2m\u001b[36m(worker pid=3047861)\u001b[0m /home/jyotika/Work/CBGTPy_release/CBGTPy/qvalues.py:113: FutureWarning: The frame.append method is deprecated and will be removed from pandas in a future version. Use pandas.concat instead.\n",
      "\u001b[2m\u001b[36m(worker pid=3047861)\u001b[0m   Q_df = Q_df.append(\n",
      "\u001b[2m\u001b[36m(worker pid=3047861)\u001b[0m /home/jyotika/Work/CBGTPy_release/CBGTPy/qvalues.py:126: FutureWarning: The frame.append method is deprecated and will be removed from pandas in a future version. Use pandas.concat instead.\n",
      "\u001b[2m\u001b[36m(worker pid=3047861)\u001b[0m   Q_df = Q_df.append(\n",
      "\u001b[2m\u001b[36m(worker pid=3047861)\u001b[0m /home/jyotika/Work/CBGTPy_release/CBGTPy/qvalues.py:113: FutureWarning: The frame.append method is deprecated and will be removed from pandas in a future version. Use pandas.concat instead.\n",
      "\u001b[2m\u001b[36m(worker pid=3047861)\u001b[0m   Q_df = Q_df.append(\n",
      "\u001b[2m\u001b[36m(worker pid=3047861)\u001b[0m /home/jyotika/Work/CBGTPy_release/CBGTPy/qvalues.py:126: FutureWarning: The frame.append method is deprecated and will be removed from pandas in a future version. Use pandas.concat instead.\n",
      "\u001b[2m\u001b[36m(worker pid=3047861)\u001b[0m   Q_df = Q_df.append(\n"
     ]
    },
    {
     "name": "stdout",
     "output_type": "stream",
     "text": [
      "\u001b[2m\u001b[36m(worker pid=3047861)\u001b[0m 2 4 0.161666`\n",
      "\u001b[2m\u001b[36m(worker pid=3047861)\u001b[0m 2 4 0.161666`\n",
      "\u001b[2m\u001b[36m(worker pid=3047861)\u001b[0m 3 5 0.161666`\n",
      "\u001b[2m\u001b[36m(worker pid=3047861)\u001b[0m 10 6 1.0`\n",
      "\u001b[2m\u001b[36m(worker pid=3047861)\u001b[0m 10 8 1.0`\n",
      "\u001b[2m\u001b[36m(worker pid=3047861)\u001b[0m 3 5 0.161666`\n",
      "\u001b[2m\u001b[36m(worker pid=3047861)\u001b[0m 10 6 1.0`\n",
      "\u001b[2m\u001b[36m(worker pid=3047861)\u001b[0m 10 8 1.0`\n",
      "\u001b[2m\u001b[36m(worker pid=3047861)\u001b[0m 10 10 0.13`\n",
      "\u001b[2m\u001b[36m(worker pid=3047861)\u001b[0m 10 12 1.0`\n",
      "\u001b[2m\u001b[36m(worker pid=3047861)\u001b[0m 10 14 1.0`\n",
      "\u001b[2m\u001b[36m(worker pid=3047861)\u001b[0m 10 10 0.13`\n",
      "\u001b[2m\u001b[36m(worker pid=3047861)\u001b[0m 10 12 1.0`\n",
      "\u001b[2m\u001b[36m(worker pid=3047861)\u001b[0m 10 14 1.0`\n",
      "\u001b[2m\u001b[36m(worker pid=3047861)\u001b[0m 10 15 0.0725`\n",
      "\u001b[2m\u001b[36m(worker pid=3047861)\u001b[0m 11 7 1.0`\n",
      "\u001b[2m\u001b[36m(worker pid=3047861)\u001b[0m 11 9 1.0`\n",
      "\u001b[2m\u001b[36m(worker pid=3047861)\u001b[0m 11 11 0.13`\n",
      "\u001b[2m\u001b[36m(worker pid=3047861)\u001b[0m 11 13 1.0`\n",
      "\u001b[2m\u001b[36m(worker pid=3047861)\u001b[0m 11 14 1.0`\n",
      "\u001b[2m\u001b[36m(worker pid=3047861)\u001b[0m 10 15 0.0725`\n",
      "\u001b[2m\u001b[36m(worker pid=3047861)\u001b[0m 11 7 1.0`\n",
      "\u001b[2m\u001b[36m(worker pid=3047861)\u001b[0m 11 9 1.0`\n",
      "\u001b[2m\u001b[36m(worker pid=3047861)\u001b[0m 11 11 0.13`\n",
      "\u001b[2m\u001b[36m(worker pid=3047861)\u001b[0m 11 13 1.0`\n",
      "\u001b[2m\u001b[36m(worker pid=3047861)\u001b[0m 11 14 1.0`\n",
      "\u001b[2m\u001b[36m(worker pid=3047861)\u001b[0m 11 15 0.0725`\n",
      "\u001b[2m\u001b[36m(worker pid=3047861)\u001b[0m 12 6 1.0`\n",
      "\u001b[2m\u001b[36m(worker pid=3047861)\u001b[0m 12 8 1.0`\n",
      "\u001b[2m\u001b[36m(worker pid=3047861)\u001b[0m 12 14 0.8334`\n",
      "\u001b[2m\u001b[36m(worker pid=3047861)\u001b[0m 13 7 1.0`\n",
      "\u001b[2m\u001b[36m(worker pid=3047861)\u001b[0m 13 9 1.0`\n",
      "\u001b[2m\u001b[36m(worker pid=3047861)\u001b[0m 13 14 0.8334`\n",
      "\u001b[2m\u001b[36m(worker pid=3047861)\u001b[0m 0 12 1.0`\n",
      "\u001b[2m\u001b[36m(worker pid=3047861)\u001b[0m 1 13 1.0`\n",
      "\u001b[2m\u001b[36m(worker pid=3047861)\u001b[0m 4 0 1.0`\n",
      "\u001b[2m\u001b[36m(worker pid=3047861)\u001b[0m 11 15 0.0725`\n",
      "\u001b[2m\u001b[36m(worker pid=3047861)\u001b[0m 12 6 1.0`\n",
      "\u001b[2m\u001b[36m(worker pid=3047861)\u001b[0m 12 8 1.0`\n",
      "\u001b[2m\u001b[36m(worker pid=3047861)\u001b[0m 12 14 0.8334`\n",
      "\u001b[2m\u001b[36m(worker pid=3047861)\u001b[0m 13 7 1.0`\n",
      "\u001b[2m\u001b[36m(worker pid=3047861)\u001b[0m 13 9 1.0`\n",
      "\u001b[2m\u001b[36m(worker pid=3047861)\u001b[0m 13 14 0.8334`\n",
      "\u001b[2m\u001b[36m(worker pid=3047861)\u001b[0m 0 12 1.0`\n",
      "\u001b[2m\u001b[36m(worker pid=3047861)\u001b[0m 1 13 1.0`\n",
      "\u001b[2m\u001b[36m(worker pid=3047861)\u001b[0m 4 0 1.0`\n",
      "\u001b[2m\u001b[36m(worker pid=3047861)\u001b[0m 4 2 0.0667`\n",
      "\u001b[2m\u001b[36m(worker pid=3047861)\u001b[0m 4 2 0.0667`\n",
      "\u001b[2m\u001b[36m(worker pid=3047861)\u001b[0m 4 4 0.0667`\n",
      "\u001b[2m\u001b[36m(worker pid=3047861)\u001b[0m 4 4 0.0667`\n",
      "\u001b[2m\u001b[36m(worker pid=3047861)\u001b[0m 4 5 0.0667`\n",
      "\u001b[2m\u001b[36m(worker pid=3047861)\u001b[0m 5 1 1.0`\n",
      "\u001b[2m\u001b[36m(worker pid=3047861)\u001b[0m 4 5 0.0667`\n",
      "\u001b[2m\u001b[36m(worker pid=3047861)\u001b[0m 5 1 1.0`\n",
      "\u001b[2m\u001b[36m(worker pid=3047861)\u001b[0m 5 3 0.0667`\n",
      "\u001b[2m\u001b[36m(worker pid=3047861)\u001b[0m 5 3 0.0667`\n",
      "\u001b[2m\u001b[36m(worker pid=3047861)\u001b[0m 5 4 0.0667`\n",
      "\u001b[2m\u001b[36m(worker pid=3047861)\u001b[0m 5 4 0.0667`\n",
      "\u001b[2m\u001b[36m(worker pid=3047861)\u001b[0m 5 5 0.0667`\n",
      "\u001b[2m\u001b[36m(worker pid=3047861)\u001b[0m 6 0 1.0`\n",
      "\u001b[2m\u001b[36m(worker pid=3047861)\u001b[0m 6 6 0.45`\n",
      "\u001b[2m\u001b[36m(worker pid=3047861)\u001b[0m 6 8 0.45`\n",
      "\u001b[2m\u001b[36m(worker pid=3047861)\u001b[0m 7 1 1.0`\n",
      "\u001b[2m\u001b[36m(worker pid=3047861)\u001b[0m 5 5 0.0667`\n",
      "\u001b[2m\u001b[36m(worker pid=3047861)\u001b[0m 6 0 1.0`\n",
      "\u001b[2m\u001b[36m(worker pid=3047861)\u001b[0m 6 6 0.45`\n",
      "\u001b[2m\u001b[36m(worker pid=3047861)\u001b[0m 6 8 0.45`\n",
      "\u001b[2m\u001b[36m(worker pid=3047861)\u001b[0m 7 1 1.0`\n",
      "\u001b[2m\u001b[36m(worker pid=3047861)\u001b[0m 7 7 0.45`\n",
      "\u001b[2m\u001b[36m(worker pid=3047861)\u001b[0m 7 9 0.45`\n",
      "\u001b[2m\u001b[36m(worker pid=3047861)\u001b[0m 8 4 1.0`\n",
      "\u001b[2m\u001b[36m(worker pid=3047861)\u001b[0m 8 6 0.5`\n",
      "\u001b[2m\u001b[36m(worker pid=3047861)\u001b[0m 8 8 0.45`\n",
      "\u001b[2m\u001b[36m(worker pid=3047861)\u001b[0m 9 5 1.0`\n",
      "\u001b[2m\u001b[36m(worker pid=3047861)\u001b[0m 9 7 0.5`\n",
      "\u001b[2m\u001b[36m(worker pid=3047861)\u001b[0m 9 9 0.45`\n",
      "\u001b[2m\u001b[36m(worker pid=3047861)\u001b[0m 14 6 1.0`\n",
      "\u001b[2m\u001b[36m(worker pid=3047861)\u001b[0m 14 7 1.0`\n",
      "\u001b[2m\u001b[36m(worker pid=3047861)\u001b[0m 14 8 1.0`\n",
      "\u001b[2m\u001b[36m(worker pid=3047861)\u001b[0m 14 9 1.0`\n",
      "\u001b[2m\u001b[36m(worker pid=3047861)\u001b[0m 14 14 1.0`\n",
      "\u001b[2m\u001b[36m(worker pid=3047861)\u001b[0m 7 7 0.45`\n",
      "\u001b[2m\u001b[36m(worker pid=3047861)\u001b[0m 7 9 0.45`\n",
      "\u001b[2m\u001b[36m(worker pid=3047861)\u001b[0m 8 4 1.0`\n",
      "\u001b[2m\u001b[36m(worker pid=3047861)\u001b[0m 8 6 0.5`\n",
      "\u001b[2m\u001b[36m(worker pid=3047861)\u001b[0m 8 8 0.45`\n",
      "\u001b[2m\u001b[36m(worker pid=3047861)\u001b[0m 9 5 1.0`\n",
      "\u001b[2m\u001b[36m(worker pid=3047861)\u001b[0m 9 7 0.5`\n",
      "\u001b[2m\u001b[36m(worker pid=3047861)\u001b[0m 9 9 0.45`\n",
      "\u001b[2m\u001b[36m(worker pid=3047861)\u001b[0m 14 6 1.0`\n",
      "\u001b[2m\u001b[36m(worker pid=3047861)\u001b[0m 14 7 1.0`\n",
      "\u001b[2m\u001b[36m(worker pid=3047861)\u001b[0m 14 8 1.0`\n",
      "\u001b[2m\u001b[36m(worker pid=3047861)\u001b[0m 14 9 1.0`\n",
      "\u001b[2m\u001b[36m(worker pid=3047861)\u001b[0m 14 14 1.0`\n",
      "\u001b[2m\u001b[36m(worker pid=3047861)\u001b[0m 15 10 0.5`\n",
      "\u001b[2m\u001b[36m(worker pid=3047861)\u001b[0m 15 10 0.5`\n",
      "\u001b[2m\u001b[36m(worker pid=3047861)\u001b[0m 15 11 0.5`\n",
      "\u001b[2m\u001b[36m(worker pid=3047861)\u001b[0m 15 15 1.0`\n",
      "\u001b[2m\u001b[36m(worker pid=3047861)\u001b[0m 2 0 1.0`\n",
      "\u001b[2m\u001b[36m(worker pid=3047861)\u001b[0m 2 1 1.0`\n",
      "\u001b[2m\u001b[36m(worker pid=3047861)\u001b[0m 15 11 0.5`\n",
      "\u001b[2m\u001b[36m(worker pid=3047861)\u001b[0m 15 15 1.0`\n",
      "\u001b[2m\u001b[36m(worker pid=3047861)\u001b[0m 2 0 1.0`\n",
      "\u001b[2m\u001b[36m(worker pid=3047861)\u001b[0m 2 1 1.0`\n",
      "\u001b[2m\u001b[36m(worker pid=3047861)\u001b[0m 2 4 0.161666`\n",
      "\u001b[2m\u001b[36m(worker pid=3047861)\u001b[0m 3 0 1.0`\n",
      "\u001b[2m\u001b[36m(worker pid=3047861)\u001b[0m 3 1 1.0`\n",
      "\u001b[2m\u001b[36m(worker pid=3047861)\u001b[0m 2 4 0.161666`\n",
      "\u001b[2m\u001b[36m(worker pid=3047861)\u001b[0m 3 0 1.0`\n",
      "\u001b[2m\u001b[36m(worker pid=3047861)\u001b[0m 3 1 1.0`\n",
      "\u001b[2m\u001b[36m(worker pid=3047861)\u001b[0m 3 5 0.161666`\n",
      "\u001b[2m\u001b[36m(worker pid=3047861)\u001b[0m 3 5 0.161666`\n",
      "\u001b[2m\u001b[36m(worker pid=3047861)\u001b[0m 10 6 1.0`\n",
      "\u001b[2m\u001b[36m(worker pid=3047861)\u001b[0m 10 8 1.0`\n",
      "\u001b[2m\u001b[36m(worker pid=3047861)\u001b[0m 10 6 1.0`\n",
      "\u001b[2m\u001b[36m(worker pid=3047861)\u001b[0m 10 8 1.0`\n",
      "\u001b[2m\u001b[36m(worker pid=3047861)\u001b[0m 10 10 0.13`\n",
      "\u001b[2m\u001b[36m(worker pid=3047861)\u001b[0m 10 12 1.0`\n",
      "\u001b[2m\u001b[36m(worker pid=3047861)\u001b[0m 10 10 0.13`\n",
      "\u001b[2m\u001b[36m(worker pid=3047861)\u001b[0m 10 12 1.0`\n",
      "\u001b[2m\u001b[36m(worker pid=3047861)\u001b[0m 10 15 0.0725`\n",
      "\u001b[2m\u001b[36m(worker pid=3047861)\u001b[0m 11 7 1.0`\n",
      "\u001b[2m\u001b[36m(worker pid=3047861)\u001b[0m 11 9 1.0`\n",
      "\u001b[2m\u001b[36m(worker pid=3047861)\u001b[0m 10 15 0.0725`\n",
      "\u001b[2m\u001b[36m(worker pid=3047861)\u001b[0m 11 7 1.0`\n",
      "\u001b[2m\u001b[36m(worker pid=3047861)\u001b[0m 11 9 1.0`\n",
      "\u001b[2m\u001b[36m(worker pid=3047861)\u001b[0m 11 11 0.13`\n",
      "\u001b[2m\u001b[36m(worker pid=3047861)\u001b[0m 11 13 1.0`\n",
      "\u001b[2m\u001b[36m(worker pid=3047861)\u001b[0m 11 11 0.13`\n",
      "\u001b[2m\u001b[36m(worker pid=3047861)\u001b[0m 11 13 1.0`\n",
      "\u001b[2m\u001b[36m(worker pid=3047861)\u001b[0m 11 15 0.0725`\n",
      "\u001b[2m\u001b[36m(worker pid=3047861)\u001b[0m 12 10 0.8334`\n",
      "\u001b[2m\u001b[36m(worker pid=3047861)\u001b[0m 12 11 0.8334`\n",
      "\u001b[2m\u001b[36m(worker pid=3047861)\u001b[0m 11 15 0.0725`\n",
      "\u001b[2m\u001b[36m(worker pid=3047861)\u001b[0m 12 10 0.8334`\n",
      "\u001b[2m\u001b[36m(worker pid=3047861)\u001b[0m 12 11 0.8334`\n",
      "\u001b[2m\u001b[36m(worker pid=3047861)\u001b[0m 12 15 0.8334`\n",
      "\u001b[2m\u001b[36m(worker pid=3047861)\u001b[0m 13 10 0.8334`\n",
      "\u001b[2m\u001b[36m(worker pid=3047861)\u001b[0m 13 11 0.8334`\n",
      "\u001b[2m\u001b[36m(worker pid=3047861)\u001b[0m 12 15 0.8334`\n",
      "\u001b[2m\u001b[36m(worker pid=3047861)\u001b[0m 13 10 0.8334`\n",
      "\u001b[2m\u001b[36m(worker pid=3047861)\u001b[0m 13 11 0.8334`\n",
      "\u001b[2m\u001b[36m(worker pid=3047861)\u001b[0m 13 15 0.8334`\n",
      "\u001b[2m\u001b[36m(worker pid=3047861)\u001b[0m 13 15 0.8334`\n",
      "\u001b[2m\u001b[36m(worker pid=3047861)\u001b[0m phasetimer 193\n",
      "\u001b[2m\u001b[36m(worker pid=3047861)\u001b[0m gateFRs [30.22222222 25.33333333]\n",
      "\u001b[2m\u001b[36m(worker pid=3047861)\u001b[0m thresholds_crossed [0]\n",
      "\u001b[2m\u001b[36m(worker pid=3047861)\u001b[0m phasetimer 193\n",
      "\u001b[2m\u001b[36m(worker pid=3047861)\u001b[0m gateFRs [30.22222222 25.33333333]\n",
      "\u001b[2m\u001b[36m(worker pid=3047861)\u001b[0m thresholds_crossed [0]\n",
      "\u001b[2m\u001b[36m(worker pid=3047861)\u001b[0m globaltimer 494\n",
      "\u001b[2m\u001b[36m(worker pid=3047861)\u001b[0m trial_num 0\n",
      "\u001b[2m\u001b[36m(worker pid=3047861)\u001b[0m chosen_action left\n",
      "\u001b[2m\u001b[36m(worker pid=3047861)\u001b[0m trial_num 0\n",
      "\u001b[2m\u001b[36m(worker pid=3047861)\u001b[0m q_val_chosen [0.5]\n",
      "\u001b[2m\u001b[36m(worker pid=3047861)\u001b[0m da_inc [-0.5]\n",
      "\u001b[2m\u001b[36m(worker pid=3047861)\u001b[0m Q_df updated\n",
      "\u001b[2m\u001b[36m(worker pid=3047861)\u001b[0m     left  right\n",
      "\u001b[2m\u001b[36m(worker pid=3047861)\u001b[0m 0  0.500    0.5\n",
      "\u001b[2m\u001b[36m(worker pid=3047861)\u001b[0m 0  0.375    0.5\n",
      "\u001b[2m\u001b[36m(worker pid=3047861)\u001b[0m scaled dopamine signal -50.0\n",
      "\u001b[2m\u001b[36m(worker pid=3047861)\u001b[0m globaltimer 494\n",
      "\u001b[2m\u001b[36m(worker pid=3047861)\u001b[0m trial_num 0\n",
      "\u001b[2m\u001b[36m(worker pid=3047861)\u001b[0m chosen_action left\n",
      "\u001b[2m\u001b[36m(worker pid=3047861)\u001b[0m trial_num 0\n",
      "\u001b[2m\u001b[36m(worker pid=3047861)\u001b[0m q_val_chosen [0.5]\n",
      "\u001b[2m\u001b[36m(worker pid=3047861)\u001b[0m da_inc [-0.5]\n",
      "\u001b[2m\u001b[36m(worker pid=3047861)\u001b[0m Q_df updated\n",
      "\u001b[2m\u001b[36m(worker pid=3047861)\u001b[0m     left  right\n",
      "\u001b[2m\u001b[36m(worker pid=3047861)\u001b[0m 0  0.500    0.5\n",
      "\u001b[2m\u001b[36m(worker pid=3047861)\u001b[0m 0  0.375    0.5\n",
      "\u001b[2m\u001b[36m(worker pid=3047861)\u001b[0m scaled dopamine signal -50.0\n"
     ]
    },
    {
     "name": "stderr",
     "output_type": "stream",
     "text": [
      "\u001b[2m\u001b[36m(worker pid=3047861)\u001b[0m /home/jyotika/Work/CBGTPy_release/CBGTPy/qvalues.py:182: FutureWarning: The frame.append method is deprecated and will be removed from pandas in a future version. Use pandas.concat instead.\n",
      "\u001b[2m\u001b[36m(worker pid=3047861)\u001b[0m   Q_df = Q_df.append(new_data)\n",
      "\u001b[2m\u001b[36m(worker pid=3047861)\u001b[0m /home/jyotika/Work/CBGTPy_release/CBGTPy/qvalues.py:182: FutureWarning: The frame.append method is deprecated and will be removed from pandas in a future version. Use pandas.concat instead.\n",
      "\u001b[2m\u001b[36m(worker pid=3047861)\u001b[0m   Q_df = Q_df.append(new_data)\n"
     ]
    },
    {
     "name": "stdout",
     "output_type": "stream",
     "text": [
      "\u001b[2m\u001b[36m(worker pid=3047861)\u001b[0m phasetimer 212\n",
      "\u001b[2m\u001b[36m(worker pid=3047861)\u001b[0m gateFRs [24.         30.22222222]\n",
      "\u001b[2m\u001b[36m(worker pid=3047861)\u001b[0m thresholds_crossed [1]\n",
      "\u001b[2m\u001b[36m(worker pid=3047861)\u001b[0m phasetimer 212\n",
      "\u001b[2m\u001b[36m(worker pid=3047861)\u001b[0m gateFRs [24.         30.22222222]\n",
      "\u001b[2m\u001b[36m(worker pid=3047861)\u001b[0m thresholds_crossed [1]\n",
      "\u001b[2m\u001b[36m(worker pid=3047861)\u001b[0m globaltimer 1608\n",
      "\u001b[2m\u001b[36m(worker pid=3047861)\u001b[0m trial_num 1\n",
      "\u001b[2m\u001b[36m(worker pid=3047861)\u001b[0m chosen_action right\n",
      "\u001b[2m\u001b[36m(worker pid=3047861)\u001b[0m trial_num 1\n",
      "\u001b[2m\u001b[36m(worker pid=3047861)\u001b[0m q_val_chosen [0.5]\n",
      "\u001b[2m\u001b[36m(worker pid=3047861)\u001b[0m da_inc [0.50400157]\n",
      "\u001b[2m\u001b[36m(worker pid=3047861)\u001b[0m Q_df updated\n",
      "\u001b[2m\u001b[36m(worker pid=3047861)\u001b[0m globaltimer 1608\n",
      "\u001b[2m\u001b[36m(worker pid=3047861)\u001b[0m trial_num 1\n",
      "\u001b[2m\u001b[36m(worker pid=3047861)\u001b[0m chosen_action right\n",
      "\u001b[2m\u001b[36m(worker pid=3047861)\u001b[0m trial_num 1\n",
      "\u001b[2m\u001b[36m(worker pid=3047861)\u001b[0m q_val_chosen [0.5]\n",
      "\u001b[2m\u001b[36m(worker pid=3047861)\u001b[0m da_inc [0.50400157]\n",
      "\u001b[2m\u001b[36m(worker pid=3047861)\u001b[0m Q_df updated\n",
      "\u001b[2m\u001b[36m(worker pid=3047861)\u001b[0m     left  right\n",
      "\u001b[2m\u001b[36m(worker pid=3047861)\u001b[0m 0  0.500  0.500\n",
      "\u001b[2m\u001b[36m(worker pid=3047861)\u001b[0m 0  0.375  0.500\n",
      "\u001b[2m\u001b[36m(worker pid=3047861)\u001b[0m 0  0.375  0.626\n",
      "\u001b[2m\u001b[36m(worker pid=3047861)\u001b[0m scaled dopamine signal 50.40015720836721\n",
      "\u001b[2m\u001b[36m(worker pid=3047861)\u001b[0m     left  right\n",
      "\u001b[2m\u001b[36m(worker pid=3047861)\u001b[0m 0  0.500  0.500\n",
      "\u001b[2m\u001b[36m(worker pid=3047861)\u001b[0m 0  0.375  0.500\n",
      "\u001b[2m\u001b[36m(worker pid=3047861)\u001b[0m 0  0.375  0.626\n",
      "\u001b[2m\u001b[36m(worker pid=3047861)\u001b[0m scaled dopamine signal 50.40015720836721\n"
     ]
    },
    {
     "name": "stderr",
     "output_type": "stream",
     "text": [
      "\u001b[2m\u001b[36m(worker pid=3047861)\u001b[0m /home/jyotika/Work/CBGTPy_release/CBGTPy/qvalues.py:182: FutureWarning: The frame.append method is deprecated and will be removed from pandas in a future version. Use pandas.concat instead.\n",
      "\u001b[2m\u001b[36m(worker pid=3047861)\u001b[0m   Q_df = Q_df.append(new_data)\n",
      "\u001b[2m\u001b[36m(worker pid=3047861)\u001b[0m /home/jyotika/Work/CBGTPy_release/CBGTPy/qvalues.py:182: FutureWarning: The frame.append method is deprecated and will be removed from pandas in a future version. Use pandas.concat instead.\n",
      "\u001b[2m\u001b[36m(worker pid=3047861)\u001b[0m   Q_df = Q_df.append(new_data)\n"
     ]
    },
    {
     "name": "stdout",
     "output_type": "stream",
     "text": [
      "\u001b[2m\u001b[36m(worker pid=3047861)\u001b[0m phasetimer 128\n",
      "\u001b[2m\u001b[36m(worker pid=3047861)\u001b[0m gateFRs [24.88888889 30.22222222]\n",
      "\u001b[2m\u001b[36m(worker pid=3047861)\u001b[0m thresholds_crossed [1]\n",
      "\u001b[2m\u001b[36m(worker pid=3047861)\u001b[0m phasetimer 128\n",
      "\u001b[2m\u001b[36m(worker pid=3047861)\u001b[0m gateFRs [24.88888889 30.22222222]\n",
      "\u001b[2m\u001b[36m(worker pid=3047861)\u001b[0m thresholds_crossed [1]\n",
      "\u001b[2m\u001b[36m(worker pid=3047861)\u001b[0m globaltimer 2638\n",
      "\u001b[2m\u001b[36m(worker pid=3047861)\u001b[0m trial_num 2\n",
      "\u001b[2m\u001b[36m(worker pid=3047861)\u001b[0m chosen_action right\n",
      "\u001b[2m\u001b[36m(worker pid=3047861)\u001b[0m trial_num 2\n",
      "\u001b[2m\u001b[36m(worker pid=3047861)\u001b[0m q_val_chosen [0.62600039]\n",
      "\u001b[2m\u001b[36m(worker pid=3047861)\u001b[0m da_inc [0.38378699]\n",
      "\u001b[2m\u001b[36m(worker pid=3047861)\u001b[0m Q_df updated\n",
      "\u001b[2m\u001b[36m(worker pid=3047861)\u001b[0m     left     right\n",
      "\u001b[2m\u001b[36m(worker pid=3047861)\u001b[0m 0  0.500  0.500000\n",
      "\u001b[2m\u001b[36m(worker pid=3047861)\u001b[0m 0  0.375  0.500000\n",
      "\u001b[2m\u001b[36m(worker pid=3047861)\u001b[0m 0  0.375  0.626000\n",
      "\u001b[2m\u001b[36m(worker pid=3047861)\u001b[0m 0  0.375  0.721947\n",
      "\u001b[2m\u001b[36m(worker pid=3047861)\u001b[0m scaled dopamine signal 38.37869868201395\n",
      "\u001b[2m\u001b[36m(worker pid=3047861)\u001b[0m globaltimer 2638\n",
      "\u001b[2m\u001b[36m(worker pid=3047861)\u001b[0m trial_num 2\n",
      "\u001b[2m\u001b[36m(worker pid=3047861)\u001b[0m chosen_action right\n",
      "\u001b[2m\u001b[36m(worker pid=3047861)\u001b[0m trial_num 2\n",
      "\u001b[2m\u001b[36m(worker pid=3047861)\u001b[0m q_val_chosen [0.62600039]\n",
      "\u001b[2m\u001b[36m(worker pid=3047861)\u001b[0m da_inc [0.38378699]\n",
      "\u001b[2m\u001b[36m(worker pid=3047861)\u001b[0m Q_df updated\n",
      "\u001b[2m\u001b[36m(worker pid=3047861)\u001b[0m     left     right\n",
      "\u001b[2m\u001b[36m(worker pid=3047861)\u001b[0m 0  0.500  0.500000\n",
      "\u001b[2m\u001b[36m(worker pid=3047861)\u001b[0m 0  0.375  0.500000\n",
      "\u001b[2m\u001b[36m(worker pid=3047861)\u001b[0m 0  0.375  0.626000\n",
      "\u001b[2m\u001b[36m(worker pid=3047861)\u001b[0m 0  0.375  0.721947\n",
      "\u001b[2m\u001b[36m(worker pid=3047861)\u001b[0m scaled dopamine signal 38.37869868201395\n"
     ]
    },
    {
     "name": "stderr",
     "output_type": "stream",
     "text": [
      "\u001b[2m\u001b[36m(worker pid=3047861)\u001b[0m /home/jyotika/Work/CBGTPy_release/CBGTPy/qvalues.py:182: FutureWarning: The frame.append method is deprecated and will be removed from pandas in a future version. Use pandas.concat instead.\n",
      "\u001b[2m\u001b[36m(worker pid=3047861)\u001b[0m   Q_df = Q_df.append(new_data)\n",
      "\u001b[2m\u001b[36m(worker pid=3047861)\u001b[0m /home/jyotika/Work/CBGTPy_release/CBGTPy/qvalues.py:182: FutureWarning: The frame.append method is deprecated and will be removed from pandas in a future version. Use pandas.concat instead.\n",
      "\u001b[2m\u001b[36m(worker pid=3047861)\u001b[0m   Q_df = Q_df.append(new_data)\n"
     ]
    }
   ],
   "source": [
    "results = cbgt.ExecutionManager(cores=7).run([pl]*1,[environment]*1)\n"
   ]
  },
  {
   "cell_type": "code",
   "execution_count": null,
   "metadata": {},
   "outputs": [],
   "source": [
    "# List all the agent variables accessible\n",
    "results[0].keys()"
   ]
  },
  {
   "cell_type": "code",
   "execution_count": null,
   "metadata": {},
   "outputs": [],
   "source": [
    "results[0]['volatility']"
   ]
  },
  {
   "cell_type": "code",
   "execution_count": null,
   "metadata": {},
   "outputs": [],
   "source": [
    "results[0]['Q_df']"
   ]
  },
  {
   "cell_type": "code",
   "execution_count": null,
   "metadata": {},
   "outputs": [],
   "source": []
  },
  {
   "cell_type": "code",
   "execution_count": null,
   "metadata": {},
   "outputs": [],
   "source": []
  },
  {
   "cell_type": "code",
   "execution_count": null,
   "metadata": {},
   "outputs": [],
   "source": []
  },
  {
   "cell_type": "code",
   "execution_count": null,
   "metadata": {},
   "outputs": [],
   "source": [
    "#Extract all the relevant dataframes\n",
    "firing_rates, reward_q_df, performance, rt_dist, total_performance = plt_help.extract_relevant_frames(results,seed)"
   ]
  },
  {
   "cell_type": "code",
   "execution_count": null,
   "metadata": {},
   "outputs": [],
   "source": [
    "# firing rates  \n",
    "firing_rates[0]"
   ]
  },
  {
   "cell_type": "code",
   "execution_count": null,
   "metadata": {},
   "outputs": [],
   "source": []
  },
  {
   "cell_type": "code",
   "execution_count": null,
   "metadata": {},
   "outputs": [],
   "source": [
    "# Relevant reward_dataframe\n",
    "reward_q_df[0]"
   ]
  },
  {
   "cell_type": "code",
   "execution_count": null,
   "metadata": {},
   "outputs": [],
   "source": [
    "performance"
   ]
  },
  {
   "cell_type": "code",
   "execution_count": null,
   "metadata": {},
   "outputs": [],
   "source": [
    "# Extract the data tables from the agent\n",
    "datatables = cbgt.collateVariable(results,'datatables')\n",
    "datatables[0]"
   ]
  },
  {
   "cell_type": "code",
   "execution_count": null,
   "metadata": {},
   "outputs": [],
   "source": [
    "# Check the Q-values data frame\n",
    "results[0]['Q_df']"
   ]
  },
  {
   "cell_type": "code",
   "execution_count": null,
   "metadata": {},
   "outputs": [],
   "source": [
    "# Save the selected variables of results in the data_dir specified\n",
    "# cbgt.saveResults(results,data_dir+'network_data_'+str(seed)+'.pickle',['popfreqs','popdata','Q_support_params','d1','d2','dpmns','datatables'])"
   ]
  },
  {
   "cell_type": "code",
   "execution_count": null,
   "metadata": {},
   "outputs": [],
   "source": [
    "# import seaborn as sns\n",
    "# import matplotlib.pyplot as plt \n",
    "# for i in np.arange(len(results)):\n",
    "#     weights = np.array(results[i]['agent'].hist_w)\n",
    "#     weights[0]\n",
    "#     np.shape(weights)\n",
    "#     reshaped_wts = weights.reshape(len(weights),4)\n",
    "#     nuc_list = ['D1-left','D2-left','D1-right','D2-right' ]\n",
    "#     ind_list = [(0,0),(0,1),(1,0),(1,1)]\n",
    "#     weights_df = pd.DataFrame(columns=[\"weights\",\"trials\",\"nuclei\"])\n",
    "\n",
    "#     for j in np.arange(4):\n",
    "#         temp = pd.DataFrame()\n",
    "#         temp[\"weights\"] = [ np.mean(reshaped_wts[:,j][datatables[0]['stimulusstarttime'][i]:datatables[0]['stimulusstarttime'][i+1]])   for i in np.arange(len(datatables[0])-1) ]\n",
    "#         #temp[\"weights\"] = [ weights[:,ind_list[j][0],ind_list[j][1],:,:][datatables[0]['stimulusstarttime'][i]:datatables[0]['stimulusstarttime'][i+1]])   for i in np.arange(len(datatables[0])-1) ]\n",
    "#         temp[\"trials\"] = np.arange(0,len(datatables[0])-1)\n",
    "#         temp[\"nuclei\"] = nuc_list[j]\n",
    "#         weights_df = weights_df.append(temp)\n",
    "    \n",
    "#    #weights_df.to_csv(data_dir+\"Weights_\"+str(seed)+\".csv\")\n",
    "#     fig,ax = plt.subplots(1,1,figsize=(16,9))\n",
    "#     sns.pointplot(x=\"trials\",y=\"weights\",hue=\"nuclei\",data=weights_df,ax=ax)\n",
    "    #fig.savefig(figure_dir+\"Weights_\"+str(seed)+\"_\"+str(i)+\".png\")    "
   ]
  },
  {
   "cell_type": "code",
   "execution_count": null,
   "metadata": {},
   "outputs": [],
   "source": [
    "# Plot the firing rates extracted, figure handles are returned in fig_handles\n",
    "\n",
    "FR_fig_handles = plt_func.plot_fr(firing_rates)\n"
   ]
  },
  {
   "cell_type": "code",
   "execution_count": null,
   "metadata": {},
   "outputs": [],
   "source": [
    "reward_fig_handles = plt_func.plot_reward_Q_df(reward_q_df)"
   ]
  },
  {
   "cell_type": "code",
   "execution_count": null,
   "metadata": {},
   "outputs": [],
   "source": [
    "# inp = np.array(results[0]['agent'].inp)\n",
    "\n",
    "# fig,ax = pl.subplots(1,2,figsize=(12,9))\n",
    "# ax[0].plot(inp[:,0],label='Ctx-left-input')\n",
    "# ax[0].plot(inp[:,1],label='Ctx-right-input')\n",
    "# ax[0].legend()\n",
    "# ax[1].plot(popfreqs[i].iloc[:,10],label=\"Ctx-left-activity\",color='r')\n",
    "# ax[1].plot(popfreqs[i].iloc[:,11],label=\"Ctx-right-activity\",color='g')\n",
    "# ax[1].plot(popfreqs[i].iloc[:,15],label=\"Ctx-inhibition\",color='c')\n",
    "# ax[1].legend()\n",
    "# fig.savefig(figure_dir+\"Input_vs_activity_lip\"+str(seed)+\".png\")"
   ]
  },
  {
   "cell_type": "code",
   "execution_count": null,
   "metadata": {
    "scrolled": true
   },
   "outputs": [],
   "source": [
    "# for i in np.arange(len(results)):\n",
    "#     fig,ax = plt.subplots(2,3,figsize=(24,16))\n",
    "#     print(ax)\n",
    "#     stim_on = datatables[i][\"stimulusstarttime\"]\n",
    "#     decision_time = datatables[i][\"decisiontime\"]\n",
    "#     weights = np.array(results[i]['agent'].hist_w)\n",
    "#     Wts = pd.DataFrame.from_records(np.array(results[i]['agent'].hist_w).reshape(len(weights),4),columns=nuc_list)\n",
    "#     ax[0][0].plot(popfreqs[i].iloc[:,0],label=\"GPi-left\")\n",
    "#     ax[0][0].plot(popfreqs[i].iloc[:,1],label=\"GPi-right\")\n",
    "\n",
    "#     ax[0][1].plot(popfreqs[i].iloc[:,12],label=\"Th-left\")\n",
    "#     ax[0][1].plot(popfreqs[i].iloc[:,13],label=\"Th-right\")\n",
    "    \n",
    "#     ax[0][2].plot(popfreqs[i].iloc[:,10],label=\"Ctx-left\")\n",
    "#     ax[0][2].plot(popfreqs[i].iloc[:,11],label=\"Ctx-right\")\n",
    "\n",
    "    \n",
    "#     ax[1][0].plot(popfreqs[i].iloc[:,6],label=\"D1-left\")\n",
    "#     ax[1][0].plot(popfreqs[i].iloc[:,7],label=\"D1-right\")\n",
    "#     for k in nuc_list:\n",
    "#         ax[1][1].plot(Wts[k],label=k)\n",
    "\n",
    "#     for a in np.hstack(ax):\n",
    "#         ylims = a.get_ylim()\n",
    "#         for s,d in zip(stim_on,decision_time):\n",
    "#             a.vlines(x=s,ymin=ylims[0],ymax=ylims[1],color='k',lw=1.0,ls=\"solid\")\n",
    "#             a.vlines(x=d,ymin=ylims[0],ymax=ylims[1],color='k',lw=1.0,ls=\"dashed\")\n",
    "#             a.set_ylim(ylims[0],ylims[1])\n",
    "#         a.set_xlim(0,3000)\n",
    "#         a.legend()\n",
    "#     fig.subplots_adjust(left=0.06,bottom=0.06,right=0.96,top=0.96)\n",
    "#     fig.savefig(figure_dir+\"Zoomed_in_activity_\"+str(seed)+\"_\"+str(i)+\".png\")"
   ]
  },
  {
   "cell_type": "code",
   "execution_count": null,
   "metadata": {},
   "outputs": [],
   "source": []
  },
  {
   "cell_type": "code",
   "execution_count": null,
   "metadata": {},
   "outputs": [],
   "source": []
  }
 ],
 "metadata": {
  "kernelspec": {
   "display_name": "Python 3 (ipykernel)",
   "language": "python",
   "name": "python3"
  },
  "language_info": {
   "codemirror_mode": {
    "name": "ipython",
    "version": 3
   },
   "file_extension": ".py",
   "mimetype": "text/x-python",
   "name": "python",
   "nbconvert_exporter": "python",
   "pygments_lexer": "ipython3",
   "version": "3.8.12"
  }
 },
 "nbformat": 4,
 "nbformat_minor": 4
}
