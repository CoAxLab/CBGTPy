{
 "cells": [
  {
   "cell_type": "markdown",
   "id": "5b234bc7",
   "metadata": {},
   "source": [
    "# Compile the main simulator code using cython "
   ]
  },
  {
   "cell_type": "code",
   "execution_count": null,
   "id": "88b9a02f",
   "metadata": {
    "scrolled": true
   },
   "outputs": [],
   "source": [
    "!python ../setup.py build_ext --inplace"
   ]
  },
  {
   "cell_type": "markdown",
   "id": "08528b64",
   "metadata": {},
   "source": [
    "# Import all the relevant files "
   ]
  },
  {
   "cell_type": "code",
   "execution_count": null,
   "id": "8877b51a",
   "metadata": {},
   "outputs": [],
   "source": [
    "import numpy as np\n",
    "import pandas as pd\n",
    "import matplotlib.pyplot as plt\n",
    "import importlib\n",
    "import seaborn as sns\n",
    "import pathos.multiprocessing"
   ]
  },
  {
   "cell_type": "code",
   "execution_count": null,
   "id": "ad14d30b",
   "metadata": {},
   "outputs": [],
   "source": [
    "import sys\n",
    "sys.path.append('../')\n",
    "\n",
    "#Importing scripts:\n",
    "\n",
    "#Import relevant frames:\n",
    "import common.cbgt as cbgt\n",
    "import common.pipeline_creation as pl_creat\n",
    "\n",
    "#Import plotting functions:\n",
    "import common.plotting_functions as plt_func\n",
    "import common.plotting_helper_functions as plt_help\n",
    "import common.postprocessing_helpers as post_help\n",
    "\n",
    "importlib.reload(plt_help)\n",
    "importlib.reload(plt_func)\n",
    "importlib.reload(post_help)\n",
    "\n",
    "%load_ext autoreload\n",
    "%autoreload 2\n",
    "%reload_ext autoreload \n",
    "\n",
    "import warnings\n",
    "warnings.simplefilter('ignore', category=FutureWarning)"
   ]
  },
  {
   "cell_type": "markdown",
   "id": "24317093",
   "metadata": {},
   "source": [
    "# Choose the experiment and create the main pipeline"
   ]
  },
  {
   "cell_type": "markdown",
   "id": "a8d0e543",
   "metadata": {},
   "source": [
    "Choose the experiment to run, and define the number of choices, the number of simulations/thread to run and number of cores:"
   ]
  },
  {
   "cell_type": "code",
   "execution_count": null,
   "id": "75c9b428",
   "metadata": {},
   "outputs": [],
   "source": [
    "#Choose the experiment:\n",
    "experiment_choice = 'stop-signal'\n",
    "\n",
    "if experiment_choice == 'stop-signal':\n",
    "    import stopsignal.paramfile_stopsignal as paramfile\n",
    "elif experiment_choice == 'n-choice':\n",
    "    import nchoice.paramfile_nchoice as paramfile\n",
    "\n",
    "number_of_choices = 2\n",
    "\n",
    "#Choose which multiprocessing library to use:\n",
    "use_library = \"pathos\" # \"none\" or \"pathos\" or \"ray\"\n",
    "\n",
    "\n",
    "# how many simulations do you want to run? each simulation is executed as a separate thread.\n",
    "num_sims = 1\n",
    "num_cores = 7\n",
    "\n",
    "\n",
    "#Call choose_pipeline with the pipeline object:\n",
    "pl_creat.choose_pipeline(experiment_choice)\n",
    "#Create the main pipeline:\n",
    "pl = pl_creat.create_main_pipeline(runloop=True)\n",
    "\n",
    "#Set a seed:\n",
    "seed = np.random.randint(0,99999999,1)[0]\n",
    "print(seed)"
   ]
  },
  {
   "cell_type": "markdown",
   "id": "7929b9de",
   "metadata": {},
   "source": [
    "Define data and figures directories:"
   ]
  },
  {
   "cell_type": "code",
   "execution_count": null,
   "id": "369c400e",
   "metadata": {},
   "outputs": [],
   "source": [
    "data_dir = \"../Data/\"\n",
    "figure_dir = \"../Figures/\""
   ]
  },
  {
   "cell_type": "markdown",
   "id": "013b238e",
   "metadata": {},
   "source": [
    "# Modify cellular parameters as desired. \n",
    "### The paramfile has all the parameter dictionaries that can be modified. They are listed as below:\n",
    "- celldefaults (neuronal parameters)\n",
    "- d1defaults (dSPN parameters)\n",
    "- d2defaults (iSPN parameters)\n",
    "- dpmndefaults (dopamine related parameters)\n",
    "- basestim (background input for the nuclei)\n",
    "- popspecific (population specific parameters)\n",
    "- receptordefaults (GABA, AMPA receptor parameters)\n",
    "### The details of each of these dictionaries can be checked by simply typing paramfile.<parameter name> as also shown in the block below"
   ]
  },
  {
   "cell_type": "code",
   "execution_count": null,
   "id": "4144fbc3-2080-472d-b631-257bfd504987",
   "metadata": {},
   "outputs": [],
   "source": [
    "# list out the available parameter dictionaries:\n",
    "dir(paramfile)"
   ]
  },
  {
   "cell_type": "code",
   "execution_count": null,
   "id": "8f9082f1",
   "metadata": {},
   "outputs": [],
   "source": [
    "# view (or edit) one of the parameter dictionaries:\n",
    "paramfile.celldefaults"
   ]
  },
  {
   "cell_type": "markdown",
   "id": "66ab99ab-f5a1-45fb-b0c8-918536d37e29",
   "metadata": {},
   "source": [
    "### To change a parameter, simply assign the desired value to the parameter\n",
    "### eg. paramfile.celldefaults['C'] = 0.5"
   ]
  },
  {
   "cell_type": "code",
   "execution_count": null,
   "id": "a63fafe5-7862-4f99-b034-d243dc430ad4",
   "metadata": {},
   "outputs": [],
   "source": [
    "# paramfile.celldefaults['C'] = 0.5"
   ]
  },
  {
   "cell_type": "markdown",
   "id": "e7c53648",
   "metadata": {},
   "source": [
    "# Running the pipeline"
   ]
  },
  {
   "cell_type": "markdown",
   "id": "b2e5df4e",
   "metadata": {},
   "source": [
    "### Define configuration parameter"
   ]
  },
  {
   "cell_type": "code",
   "execution_count": null,
   "id": "d908da85",
   "metadata": {},
   "outputs": [],
   "source": [
    "configuration = {\n",
    "    'experimentchoice': experiment_choice,\n",
    "    'inter_trial_interval': None,\n",
    "    'thalamic_threshold': 30.,\n",
    "    'movement_time': ['mean', 250], #default sampled from N(250,1.5), [\"constant\",250], [\"mean\",250]\n",
    "    'choice_timeout': 300,\n",
    "    \n",
    "    'params': paramfile.celldefaults,  #neuron parameters\n",
    "    'pops': paramfile.popspecific,    #population parameters\n",
    "    'receps' : paramfile.receptordefaults, #receptor parameters\n",
    "    'base' : paramfile.basestim,   #baseline stimulation parameters\n",
    "    'dpmns' : paramfile.dpmndefaults,  #dopamine related parameters\n",
    "    'dSPN_params' : paramfile.dSPNdefaults,     #dSPNs population related parameters\n",
    "    'iSPN_params' : paramfile.iSPNdefaults,     #iSPNs population related parameters\n",
    "    'channels' : pd.DataFrame([['left'], ['right']], columns=['action']), #action channels related parameters\n",
    "    'number_of_choices': number_of_choices,\n",
    "    'newpathways' : None,     #connectivity parameters\n",
    "    'Q_support_params': None, #initialization of Q-values update\n",
    "    'Q_df_set': pd.DataFrame([[0.5, 0.5]],columns=[\"left\", \"right\"]), #initialized Q-values df  \n",
    "    'n_trials': 1,            #number of trials\n",
    "    'volatility': [None,\"exact\"], #frequency of changepoints\n",
    "    'conflict': (1.0, 0),         #probability of the preferred choice\n",
    "    'reward_mu': 1,               #mean for the magnitude of the reward\n",
    "    'reward_std': 0.1,            #std for the magnitude of the reward\n",
    "    'maxstim': 0.8,               #amplitude of the cortical input over base line\n",
    "    'sustainedfraction': 0.75,\n",
    "    \n",
    "    #Stop signal\n",
    "    'stop_signal_present': [True,True],\n",
    "    'stop_signal_probability': [1., 1.],  #probability of trials that will get the stop-signal / list of trial numbers\n",
    "    'stop_signal_amplitude': [0.6, 0.6],  #amplitude of the stop signal over base line\n",
    "    'stop_signal_onset': [60.,60.],       #in ms\n",
    "    'stop_signal_duration' : [\"phase 0\",165.], \n",
    "    'stop_signal_channel': [\"all\",\"left\"], #\"all\" (all channels are given the stop signal) \n",
    "                                            #\"any\" (channel given the stop signal is chosen randomly)\n",
    "                                            # [list of channels] == subset of channels given the stop signal\n",
    "    'stop_signal_population':[\"STN\",\"GPeA\"],\n",
    "    \n",
    "    'record_variables':[\"stop_input\"],\n",
    "    \n",
    "    \n",
    "    #Opto signal\n",
    "    'opt_signal_present': [False],\n",
    "    'opt_signal_probability': [1.], # probability of trials that will get the optogenetic signal / list of trial numbers\n",
    "    'opt_signal_amplitude': [.7],   #amplitude of the stop signal over base line\n",
    "    'opt_signal_onset': [30.],      #in ms\n",
    "    'opt_signal_duration': [150.],\n",
    "    'opt_signal_channel': [\"all\"],  # \"all\" (all channels are given the stop signal) \n",
    "                                    #\"any\" (channel given the stop signal is chosen randomly)\n",
    "                                    # [list of channels] == subset of channels given the stop signal\n",
    "    \n",
    "    'opt_signal_population':[\"iSPN\"],\n",
    "}"
   ]
  },
  {
   "cell_type": "markdown",
   "id": "37771412",
   "metadata": {},
   "source": [
    "### Run the simulation"
   ]
  },
  {
   "cell_type": "markdown",
   "id": "6274a439",
   "metadata": {},
   "source": [
    "ExecutionManager class can take for 'use': \n",
    "\n",
    "- 'none', that corresponds to the singlethreaded mode;\n",
    "- 'pathos', that corresponds to python's multiprocessing mode;\n",
    "- 'ray', that corresponds to a multiprocessing library for python that operates on a client-server mode.\n",
    "\n",
    "The default value is None (singlethreaded mode)."
   ]
  },
  {
   "cell_type": "code",
   "execution_count": null,
   "id": "db5483fe",
   "metadata": {
    "scrolled": true
   },
   "outputs": [],
   "source": [
    "results = cbgt.ExecutionManager(cores=num_cores,use=use_library).run([pl]*num_sims,[configuration]*num_sims)"
   ]
  },
  {
   "cell_type": "markdown",
   "id": "6a0fab85",
   "metadata": {},
   "source": [
    "# Results"
   ]
  },
  {
   "cell_type": "markdown",
   "id": "41149cd4",
   "metadata": {},
   "source": [
    "List all the agent variables accessible: "
   ]
  },
  {
   "cell_type": "code",
   "execution_count": null,
   "id": "387d8b4a",
   "metadata": {},
   "outputs": [],
   "source": [
    "results[0].keys()"
   ]
  },
  {
   "cell_type": "code",
   "execution_count": null,
   "id": "b4f6d370",
   "metadata": {},
   "outputs": [],
   "source": [
    "results[0]['stop_list_trials_list']"
   ]
  },
  {
   "cell_type": "code",
   "execution_count": null,
   "id": "516a4186",
   "metadata": {},
   "outputs": [],
   "source": [
    "results[0]['meaneff_GABA']"
   ]
  },
  {
   "cell_type": "code",
   "execution_count": null,
   "id": "a15540ff",
   "metadata": {},
   "outputs": [],
   "source": [
    "results[0]['stop_signal_amplitude']"
   ]
  },
  {
   "cell_type": "code",
   "execution_count": null,
   "id": "e24790c8",
   "metadata": {},
   "outputs": [],
   "source": [
    "experiment_choice"
   ]
  },
  {
   "cell_type": "markdown",
   "id": "b2696c7e",
   "metadata": {},
   "source": [
    "Extract all the relevant dataframes:"
   ]
  },
  {
   "cell_type": "code",
   "execution_count": null,
   "id": "48f110b1",
   "metadata": {},
   "outputs": [],
   "source": [
    "firing_rates, rt_dist = plt_help.extract_relevant_frames(results,seed,experiment_choice)"
   ]
  },
  {
   "cell_type": "code",
   "execution_count": null,
   "id": "0947feab",
   "metadata": {},
   "outputs": [],
   "source": [
    "results[0]['popfreqs']"
   ]
  },
  {
   "cell_type": "code",
   "execution_count": null,
   "id": "35607840",
   "metadata": {},
   "outputs": [],
   "source": [
    "firing_rates[0]"
   ]
  },
  {
   "cell_type": "code",
   "execution_count": null,
   "id": "e730df2a",
   "metadata": {},
   "outputs": [],
   "source": [
    "recorded_variables = post_help.extract_recording_variables(results,results[0]['record_variables'],seed)"
   ]
  },
  {
   "cell_type": "code",
   "execution_count": null,
   "id": "634fc832",
   "metadata": {},
   "outputs": [],
   "source": [
    "recorded_variables['stop_input']#.melt(id_vars='Time(ms)')"
   ]
  },
  {
   "cell_type": "markdown",
   "id": "824877d8",
   "metadata": {},
   "source": [
    "Plot the recorded variable extracted. Figure is saved in the figure_dir previously specified:"
   ]
  },
  {
   "cell_type": "code",
   "execution_count": null,
   "id": "2c047567",
   "metadata": {},
   "outputs": [],
   "source": [
    "fig,ax = plt.subplots(1,1,figsize=(5,4))\n",
    "sns.set(style=\"white\", font_scale=1.5)\n",
    "sns.lineplot(x=\"Time(ms)\",y=\"value\",data=recorded_variables['stop_input'],hue='nuclei',lw=3.0,ax=ax)\n",
    "ax.legend_.remove()\n",
    "ax.spines.top.set_visible(False)\n",
    "ax.spines.right.set_visible(False)\n",
    "plt.tight_layout()\n",
    "#fig.savefig(figure_dir+'stop_input.png')"
   ]
  },
  {
   "cell_type": "markdown",
   "id": "dc228499",
   "metadata": {},
   "source": [
    "Extract the data tables from the agent:"
   ]
  },
  {
   "cell_type": "code",
   "execution_count": null,
   "id": "ba3e9a5d",
   "metadata": {},
   "outputs": [],
   "source": [
    "datatables = cbgt.collateVariable(results,'datatables')\n",
    "datatables[0]"
   ]
  },
  {
   "cell_type": "markdown",
   "id": "8f72c19b",
   "metadata": {},
   "source": [
    "Save the selected variables of results in the data_dir previously specified:"
   ]
  },
  {
   "cell_type": "code",
   "execution_count": null,
   "id": "2236a1cc",
   "metadata": {},
   "outputs": [],
   "source": [
    "postfix=\"\"\n",
    "cbgt.saveResults(results,data_dir+'network_data_'+str(seed)+'.pickle',['popfreqs','popdata','datatables'])"
   ]
  },
  {
   "cell_type": "code",
   "execution_count": null,
   "id": "f1dd822a-bb78-4082-9526-81c5ac43eb26",
   "metadata": {},
   "outputs": [],
   "source": [
    "firing_rates[0].to_csv(data_dir+\"firing_rates_\"+postfix+\".csv\")\n",
    "rt_dist.to_csv(data_dir+\"rt_dist_\"+postfix+\".csv\")"
   ]
  },
  {
   "cell_type": "markdown",
   "id": "a973d115",
   "metadata": {},
   "source": [
    "Plot the firing rates extracted (figure handles are returned in fig_handles).\n",
    "Figure is saved in the figure_dir previously specified:"
   ]
  },
  {
   "cell_type": "code",
   "execution_count": null,
   "id": "43037b9e",
   "metadata": {},
   "outputs": [],
   "source": [
    "FR_fig_handles = plt_func.plot_fr(firing_rates,datatables,results,experiment_choice,True)\n",
    "FR_fig_handles[0].savefig(figure_dir+\"Example_FR_stopsignal.png\",dpi=300)"
   ]
  },
  {
   "cell_type": "code",
   "execution_count": null,
   "id": "9b05e8e9",
   "metadata": {},
   "outputs": [],
   "source": []
  }
 ],
 "metadata": {
  "kernelspec": {
   "display_name": "Python 3",
   "language": "python",
   "name": "python3"
  },
  "language_info": {
   "codemirror_mode": {
    "name": "ipython",
    "version": 3
   },
   "file_extension": ".py",
   "mimetype": "text/x-python",
   "name": "python",
   "nbconvert_exporter": "python",
   "pygments_lexer": "ipython3",
   "version": "3.8.11"
  }
 },
 "nbformat": 4,
 "nbformat_minor": 5
}
