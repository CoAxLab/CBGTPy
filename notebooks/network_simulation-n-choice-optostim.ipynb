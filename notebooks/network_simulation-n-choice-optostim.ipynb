{
 "cells": [
  {
   "cell_type": "markdown",
   "metadata": {},
   "source": [
    "# Compile the main simulator code using cython "
   ]
  },
  {
   "cell_type": "code",
   "execution_count": null,
   "metadata": {},
   "outputs": [],
   "source": [
    "!python ../setup.py build_ext --inplace"
   ]
  },
  {
   "cell_type": "markdown",
   "metadata": {},
   "source": [
    "# Import all the relevant files "
   ]
  },
  {
   "cell_type": "code",
   "execution_count": null,
   "metadata": {},
   "outputs": [],
   "source": [
    "# Import the pipeline creation object\n",
    "import sys\n",
    "sys.path.append('../')\n",
    "\n",
    "# Import the pipeline creation object\n",
    "import pandas as pd\n",
    "import numpy as np\n",
    "import common.cbgt as cbgt\n",
    "import common.pipeline_creation as pl_creat\n",
    "import common.plotting_functions as plt_func\n",
    "import common.plotting_helper_functions as plt_help\n",
    "import common.postprocessing_helpers as post_help\n",
    "import importlib\n",
    "\n",
    "importlib.reload(plt_help)\n",
    "importlib.reload(plt_func)\n",
    "importlib.reload(post_help)\n",
    "\n",
    "\n",
    "%load_ext autoreload\n",
    "%autoreload 2\n",
    "%reload_ext autoreload \n",
    "\n",
    "import warnings\n",
    "warnings.simplefilter('ignore', category=FutureWarning)"
   ]
  },
  {
   "cell_type": "markdown",
   "metadata": {},
   "source": [
    "# Choose the experiment and create the main pipeline"
   ]
  },
  {
   "cell_type": "code",
   "execution_count": null,
   "metadata": {},
   "outputs": [],
   "source": [
    "# Choose the experiment:\n",
    "experiment_choice = 'n-choice'\n",
    "\n",
    "if experiment_choice == 'stop-signal':\n",
    "    import stopsignal.paramfile_stopsignal as paramfile\n",
    "elif experiment_choice == 'n-choice':\n",
    "    import nchoice.paramfile_nchoice as paramfile\n",
    "\n",
    "number_of_choices = 3\n",
    "\n",
    "#Choose which multiprocessing library to use\n",
    "use_library = \"pathos\" # \"none\" or \"pathos\" or \"ray\"\n",
    "\n",
    "# Call choose_pipeline with the pipeline object\n",
    "pl_creat.choose_pipeline(experiment_choice)\n",
    "\n",
    "#Create the main pipeline\n",
    "pl = pl_creat.create_main_pipeline(runloop=True)\n",
    "\n",
    "# how many simulations do you want to run ? each simulation is executed as a seperate thread\n",
    "num_sims = 1\n",
    "num_cores = 7\n",
    "# set a seed\n",
    "import time\n",
    "np.random.seed(int(time.time()))\n",
    "#seed = np.random.choice(np.random.randint(0,9999999,100),1)[0]\n",
    "seed = 8867366\n",
    "print(seed)\n"
   ]
  },
  {
   "cell_type": "code",
   "execution_count": null,
   "metadata": {},
   "outputs": [],
   "source": [
    "\n",
    "# Define the data and figure directory\n",
    "\n",
    "data_dir = \"../Data/\"\n",
    "figure_dir = \"../Figures/\"\n"
   ]
  },
  {
   "cell_type": "markdown",
   "metadata": {},
   "source": [
    "\n",
    "# Modify cellular parameters as desired. \n",
    "### The paramfile has all the parameter dictionaries that can be modified. They are listed as below:\n",
    "- celldefaults (neuronal parameters)\n",
    "- d1defaults (dSPN parameters)\n",
    "- d2defaults (iSPN parameters)\n",
    "- dpmndefaults (dopamine related parameters)\n",
    "- basestim (background input for the nuclei)\n",
    "- popspecific (population specific parameters)\n",
    "- receptordefaults (GABA, AMPA receptor parameters)\n",
    "### The details of each of these dictionaries can be checked by simply typing paramfile.<parameter name> as also shown in the block below"
   ]
  },
  {
   "cell_type": "code",
   "execution_count": null,
   "metadata": {},
   "outputs": [],
   "source": [
    "# list out the available parameter dictionaries\n",
    "dir(paramfile)"
   ]
  },
  {
   "cell_type": "code",
   "execution_count": null,
   "metadata": {},
   "outputs": [],
   "source": [
    "# view (or edit) one of the parameter dictionaries\n",
    "paramfile.celldefaults"
   ]
  },
  {
   "cell_type": "markdown",
   "metadata": {},
   "source": [
    "# Running the pipeline"
   ]
  },
  {
   "cell_type": "markdown",
   "metadata": {},
   "source": [
    "### 1. Default values of environment variable"
   ]
  },
  {
   "cell_type": "code",
   "execution_count": null,
   "metadata": {},
   "outputs": [],
   "source": [
    "#See init_params.py / generateepochs.py / popconstruct.py / qvalues.py\n",
    "#to know the parameters contained in each of the following variables \n",
    "configuration = {\n",
    "    'seed': seed,\n",
    "    'experimentchoice': experiment_choice,\n",
    "    'inter_trial_interval': None, # default = 600ms\n",
    "    'thalamic_threshold': None, # default 30sp/s\n",
    "    'movement_time':None,# #default sampled from N(250,1.5), [\"constant\",250], [\"mean\",250]\n",
    "    'choice_timeout':None, #wait for a choice to be made, default 1000, \n",
    "    'params': paramfile.celldefaults,  #neuron parameters\n",
    "    'pops': paramfile.popspecific,    #population parameters\n",
    "    'receps' : paramfile.receptordefaults, #receptor parameters\n",
    "    'base' : paramfile.basestim,   #baseline stimulation parameters\n",
    "    'dpmns' : paramfile.dpmndefaults,  #dopamine related parameters\n",
    "    'dSPN_params' : paramfile.dSPNdefaults,     #dSPNs population related parameters\n",
    "    'iSPN_params' : paramfile.iSPNdefaults,     #iSPNs population related parameters\n",
    "    'channels' : pd.DataFrame([[\"A\"],[\"B\"],[\"C\"]], columns=['action']), #action channels related parameters (init_params.py)\n",
    "    'number_of_choices':number_of_choices,\n",
    "    #'actionchannels' : pd.DataFrame([[1],[2]], columns=['action']), #labels for the actions (init_params.py)\n",
    "    #'actionchannels' : pd.DataFrame([[\"left\"],[\"right\"]], columns=['action']), #labels for the actions (init_params.py)\n",
    "    'newpathways' :None,\n",
    "    'Q_support_params': None,#pd.DataFrame([[85,0.6]],columns=['dpmn_CPP_scale','q_alpha']), #initialization of Q-values update (qvalues.py) \n",
    "    'Q_df_set':pd.DataFrame([[0.5, 0.5,0.5]],columns=[\"A\",\"B\",\"C\"]), #initialized Q-values df (qvalues.py)  \n",
    "    'n_trials': 3, #number of trials (generateepochs.py)\n",
    "    'volatility': [1,\"exact\"], #frequency of changepoints and type of change points (exact or poisson) (generateepochs.py)\n",
    "    'conflict': (0.7, 0.3,0.4), #probability of the preferred choice (generateepochs.py)\n",
    "    'reward_mu': 1, #mean for the magnitude of the reward (generateepochs.py)\n",
    "    'reward_std': 0.01, #std for the magnitude of the reward (generateepochs.py)\n",
    "    'maxstim': 0.8, # 3 instead? how much stimulus the LIP gets at maximum\n",
    "    'corticostriatal_plasticity_present':False, # whether plasticity is on or \"off\" at corticostriatal synapses\n",
    "    'record_variables':[\"weight\",\"optogenetic_input\"],#\"optogenetic_input\"],\n",
    "    'opt_signal_present':[True, True],\n",
    "    'opt_signal_probability':[[0],[1]], # probability of trials that will get the optogenetic signal / list of trial numbers\n",
    "    'opt_signal_amplitude':[0.1, -0.5], # ampitude of the stop signal over base line\n",
    "    'opt_signal_onset':[10.,10.], # in ms\n",
    "    'opt_signal_duration':[\"phase 0\",400.],\n",
    "    'opt_signal_channel': [\"all\",\"all\"], # \"all\" (all channels are given the stop signal) \n",
    "    'opt_signal_population':[\"iSPN\",\"dSPN\"],\n",
    "    'sustainedfraction':0.7\n",
    "                                #/\"any\" (channel given the stop signal is chosen randomly)\n",
    "                                # [list of channels] == subset of channels given the stop signal\n",
    "    \n",
    "}\n"
   ]
  },
  {
   "cell_type": "markdown",
   "metadata": {},
   "source": [
    "### Run the simulation - num_sims thread with the environment variable"
   ]
  },
  {
   "cell_type": "code",
   "execution_count": null,
   "metadata": {},
   "outputs": [],
   "source": [
    "# pl.modulelist"
   ]
  },
  {
   "cell_type": "code",
   "execution_count": null,
   "metadata": {},
   "outputs": [],
   "source": [
    "results = cbgt.ExecutionManager(cores=num_cores,use=use_library).run([pl]*num_sims,[configuration]*num_sims)\n"
   ]
  },
  {
   "cell_type": "code",
   "execution_count": null,
   "metadata": {},
   "outputs": [],
   "source": [
    "# List all the agent variables accessible\n",
    "results[0].keys()"
   ]
  },
  {
   "cell_type": "code",
   "execution_count": null,
   "metadata": {},
   "outputs": [],
   "source": [
    "results[0]['meaneff_GABA']"
   ]
  },
  {
   "cell_type": "code",
   "execution_count": null,
   "metadata": {},
   "outputs": [],
   "source": [
    "results[0]['conflict']"
   ]
  },
  {
   "cell_type": "code",
   "execution_count": null,
   "metadata": {},
   "outputs": [],
   "source": [
    "results[0]['Q_df']"
   ]
  },
  {
   "cell_type": "code",
   "execution_count": null,
   "metadata": {},
   "outputs": [],
   "source": []
  },
  {
   "cell_type": "code",
   "execution_count": null,
   "metadata": {},
   "outputs": [],
   "source": [
    "experiment_choice"
   ]
  },
  {
   "cell_type": "code",
   "execution_count": null,
   "metadata": {},
   "outputs": [],
   "source": [
    "#Extract all the relevant dataframes\n",
    "firing_rates, reward_q_df, performance, rt_dist, total_performance = plt_help.extract_relevant_frames(results,seed,experiment_choice)"
   ]
  },
  {
   "cell_type": "code",
   "execution_count": null,
   "metadata": {},
   "outputs": [],
   "source": [
    "results[0]['popfreqs']"
   ]
  },
  {
   "cell_type": "code",
   "execution_count": null,
   "metadata": {},
   "outputs": [],
   "source": [
    "# firing rates  \n",
    "firing_rates[0]"
   ]
  },
  {
   "cell_type": "code",
   "execution_count": null,
   "metadata": {},
   "outputs": [],
   "source": [
    "performance"
   ]
  },
  {
   "cell_type": "code",
   "execution_count": null,
   "metadata": {},
   "outputs": [],
   "source": [
    "recorded_variables = post_help.extract_recording_variables(results,results[0]['record_variables'],seed)"
   ]
  },
  {
   "cell_type": "code",
   "execution_count": null,
   "metadata": {},
   "outputs": [],
   "source": [
    "recorded_variables['weight']"
   ]
  },
  {
   "cell_type": "code",
   "execution_count": null,
   "metadata": {},
   "outputs": [],
   "source": [
    "recorded_variables['optogenetic_input'].nuclei.unique()"
   ]
  },
  {
   "cell_type": "code",
   "execution_count": null,
   "metadata": {},
   "outputs": [],
   "source": [
    "recorded_variables['optogenetic_input']"
   ]
  },
  {
   "cell_type": "code",
   "execution_count": null,
   "metadata": {},
   "outputs": [],
   "source": [
    "import seaborn as sns\n",
    "import pylab as pl\n",
    "sns.pointplot(x=\"trials\",y=\"weights\",hue=\"nuclei\",data=recorded_variables['weight'])\n"
   ]
  },
  {
   "cell_type": "code",
   "execution_count": null,
   "metadata": {},
   "outputs": [],
   "source": [
    "fig,ax = pl.subplots(1,1,figsize=(5,4))\n",
    "sns.set(style=\"white\", font_scale=1.2)\n",
    "sns.lineplot(x=\"Time(ms)\",y=\"value\",data=recorded_variables['optogenetic_input'],hue='nuclei',lw=3.0,ax=ax)\n",
    "ax.spines.top.set_visible(False)\n",
    "ax.spines.right.set_visible(False)\n",
    "ax.legend(loc='upper right',bbox_to_anchor=[1.1, 0.8])\n",
    "pl.tight_layout()\n",
    "fig.savefig(figure_dir+'optogenetic_stimulation.png')\n"
   ]
  },
  {
   "cell_type": "code",
   "execution_count": null,
   "metadata": {},
   "outputs": [],
   "source": []
  },
  {
   "cell_type": "code",
   "execution_count": null,
   "metadata": {},
   "outputs": [],
   "source": [
    "# Relevant reward_dataframe\n",
    "reward_q_df[0]"
   ]
  },
  {
   "cell_type": "code",
   "execution_count": null,
   "metadata": {},
   "outputs": [],
   "source": [
    "performance"
   ]
  },
  {
   "cell_type": "code",
   "execution_count": null,
   "metadata": {},
   "outputs": [],
   "source": [
    "# Extract the data tables from the agent\n",
    "datatables = cbgt.collateVariable(results,'datatables')\n",
    "datatables[0][\"decisiondurationplusdelay\"]-datatables[0][\"decisionduration\"]"
   ]
  },
  {
   "cell_type": "code",
   "execution_count": null,
   "metadata": {},
   "outputs": [],
   "source": [
    "datatables[0]"
   ]
  },
  {
   "cell_type": "code",
   "execution_count": null,
   "metadata": {},
   "outputs": [],
   "source": [
    "# Check the Q-values data frame\n",
    "results[0]['Q_df']"
   ]
  },
  {
   "cell_type": "code",
   "execution_count": null,
   "metadata": {},
   "outputs": [],
   "source": [
    "# postfix = \"weak_GPi_inh\"\n",
    "postfix = \"\""
   ]
  },
  {
   "cell_type": "code",
   "execution_count": null,
   "metadata": {},
   "outputs": [],
   "source": [
    "#Save the selected variables of results in the data_dir specified\n",
    "cbgt.saveResults(results,data_dir+'network_data_'+postfix+'_'+str(seed)+'.pickle',['popfreqs','popdata','Q_support_params','dSPN_params','iSPN_params','dpmns','datatables'])\n"
   ]
  },
  {
   "cell_type": "code",
   "execution_count": null,
   "metadata": {},
   "outputs": [],
   "source": [
    "firing_rates[0].to_csv(data_dir+\"firing_rates_\"+postfix+\".csv\")\n",
    "reward_q_df[0].to_csv(data_dir+\"reward_df_\"+postfix+\".csv\")\n",
    "performance.to_csv(data_dir+\"performance_\"+postfix+\".csv\")\n",
    "rt_dist.to_csv(data_dir+\"rt_dist_\"+postfix+\".csv\")\n",
    "total_performance.to_csv(data_dir+\"total_performance_\"+postfix+\".csv\")"
   ]
  },
  {
   "cell_type": "code",
   "execution_count": null,
   "metadata": {},
   "outputs": [],
   "source": [
    "reward_q_df"
   ]
  },
  {
   "cell_type": "code",
   "execution_count": null,
   "metadata": {},
   "outputs": [],
   "source": [
    "results[0]['opt_list_trials_list'][1]"
   ]
  },
  {
   "cell_type": "code",
   "execution_count": null,
   "metadata": {},
   "outputs": [],
   "source": [
    "# Plot the firing rates extracted, figure handles are returned in fig_handles\n",
    "\n",
    "FR_fig_handles = plt_func.plot_fr(firing_rates,datatables,results,experiment_choice,True)\n",
    "FR_fig_handles[0].savefig(figure_dir+\"Example_FR_optostim_\"+postfix+\"two_stims.png\",dpi=300)"
   ]
  },
  {
   "cell_type": "code",
   "execution_count": null,
   "metadata": {},
   "outputs": [],
   "source": []
  },
  {
   "cell_type": "code",
   "execution_count": null,
   "metadata": {},
   "outputs": [],
   "source": [
    "reward_fig_handles = plt_func.plot_reward_Q_df(reward_q_df)"
   ]
  },
  {
   "cell_type": "code",
   "execution_count": null,
   "metadata": {},
   "outputs": [],
   "source": []
  },
  {
   "cell_type": "code",
   "execution_count": null,
   "metadata": {},
   "outputs": [],
   "source": []
  },
  {
   "cell_type": "code",
   "execution_count": null,
   "metadata": {},
   "outputs": [],
   "source": []
  },
  {
   "cell_type": "code",
   "execution_count": null,
   "metadata": {},
   "outputs": [],
   "source": []
  },
  {
   "cell_type": "code",
   "execution_count": null,
   "metadata": {},
   "outputs": [],
   "source": []
  },
  {
   "cell_type": "code",
   "execution_count": null,
   "metadata": {},
   "outputs": [],
   "source": []
  },
  {
   "cell_type": "code",
   "execution_count": null,
   "metadata": {},
   "outputs": [],
   "source": []
  },
  {
   "cell_type": "code",
   "execution_count": null,
   "metadata": {},
   "outputs": [],
   "source": []
  },
  {
   "cell_type": "code",
   "execution_count": null,
   "metadata": {},
   "outputs": [],
   "source": []
  },
  {
   "cell_type": "code",
   "execution_count": null,
   "metadata": {},
   "outputs": [],
   "source": []
  },
  {
   "cell_type": "code",
   "execution_count": null,
   "metadata": {},
   "outputs": [],
   "source": []
  },
  {
   "cell_type": "code",
   "execution_count": null,
   "metadata": {},
   "outputs": [],
   "source": []
  }
 ],
 "metadata": {
  "kernelspec": {
   "display_name": "Python 3 (ipykernel)",
   "language": "python",
   "name": "python3"
  },
  "language_info": {
   "codemirror_mode": {
    "name": "ipython",
    "version": 3
   },
   "file_extension": ".py",
   "mimetype": "text/x-python",
   "name": "python",
   "nbconvert_exporter": "python",
   "pygments_lexer": "ipython3",
   "version": "3.8.18"
  }
 },
 "nbformat": 4,
 "nbformat_minor": 4
}
