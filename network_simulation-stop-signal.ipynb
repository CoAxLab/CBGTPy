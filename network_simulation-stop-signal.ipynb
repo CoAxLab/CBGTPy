{
 "cells": [
  {
   "cell_type": "markdown",
   "id": "80fbf2e5",
   "metadata": {},
   "source": [
    "# Installation procedure"
   ]
  },
  {
   "cell_type": "markdown",
   "id": "34e3c6ec",
   "metadata": {},
   "source": [
    "### Pathos\n",
    "\n",
    "To install Pathos for the first time on your machine, run:"
   ]
  },
  {
   "cell_type": "code",
   "execution_count": null,
   "id": "f765bed6",
   "metadata": {},
   "outputs": [],
   "source": [
    "!pip install pathos"
   ]
  },
  {
   "cell_type": "markdown",
   "id": "070d532b",
   "metadata": {},
   "source": [
    "### Ray\n",
    "\n",
    "To install Ray for the first time on your machine, run: "
   ]
  },
  {
   "cell_type": "code",
   "execution_count": null,
   "id": "09e02730",
   "metadata": {},
   "outputs": [],
   "source": [
    "!pip install -U \"ray[default]\""
   ]
  },
  {
   "cell_type": "markdown",
   "id": "2f64bc5a",
   "metadata": {},
   "source": [
    "To obtain the local ip node, run:"
   ]
  },
  {
   "cell_type": "code",
   "execution_count": null,
   "id": "1ec090fa",
   "metadata": {},
   "outputs": [],
   "source": [
    "!ray start --head --port=6379 --redis-password=\"cbgt2\""
   ]
  },
  {
   "cell_type": "markdown",
   "id": "590be364",
   "metadata": {},
   "source": [
    "Use the local ip node obtained by running the command line above and run: "
   ]
  },
  {
   "cell_type": "code",
   "execution_count": null,
   "id": "de16671d",
   "metadata": {},
   "outputs": [],
   "source": [
    "!ray start --address='local ip node:6379' --redis-password='cbgt2' "
   ]
  },
  {
   "cell_type": "markdown",
   "id": "d480225f",
   "metadata": {},
   "source": [
    "If it doesn't work, shut down the ray server and start it again.\n",
    "If some ray processes are still opened, run:"
   ]
  },
  {
   "cell_type": "code",
   "execution_count": null,
   "id": "d2c6e2ff",
   "metadata": {},
   "outputs": [],
   "source": [
    "!ray stop --force "
   ]
  },
  {
   "cell_type": "markdown",
   "id": "21974b25",
   "metadata": {},
   "source": [
    "### autopep8\n",
    "\n",
    "To install autopep8 for the first time on your machine, run: "
   ]
  },
  {
   "cell_type": "code",
   "execution_count": null,
   "id": "92a637c2",
   "metadata": {},
   "outputs": [],
   "source": [
    "!pip install --upgrade autopep8"
   ]
  },
  {
   "cell_type": "markdown",
   "id": "2e62bd51",
   "metadata": {},
   "source": [
    "Uncomment and run this on any code files you create before pushing to github to prevent indentation problems: "
   ]
  },
  {
   "cell_type": "code",
   "execution_count": null,
   "id": "c6c0b85d",
   "metadata": {},
   "outputs": [],
   "source": [
    "#!autopep8 --in-place --aggressive --aggressive <filename>.py"
   ]
  },
  {
   "cell_type": "markdown",
   "id": "5b234bc7",
   "metadata": {},
   "source": [
    "# Compile the main simulator code using cython "
   ]
  },
  {
   "cell_type": "code",
   "execution_count": null,
   "id": "88b9a02f",
   "metadata": {},
   "outputs": [],
   "source": [
    "!python setup.py build_ext --inplace"
   ]
  },
  {
   "cell_type": "markdown",
   "id": "08528b64",
   "metadata": {},
   "source": [
    "# Import all the relevant files "
   ]
  },
  {
   "cell_type": "code",
   "execution_count": null,
   "id": "8877b51a",
   "metadata": {},
   "outputs": [],
   "source": [
    "import numpy as np\n",
    "import pandas as pd\n",
    "import matplotlib.pyplot as plt\n",
    "import pandas as pd\n",
    "import importlib\n",
    "import seaborn as sns\n",
    "import pathos.multiprocessing"
   ]
  },
  {
   "cell_type": "code",
   "execution_count": null,
   "id": "ad14d30b",
   "metadata": {},
   "outputs": [],
   "source": [
    "#Importing scripts:\n",
    "\n",
    "#Import relevant frames:\n",
    "import cbgt as cbgt\n",
    "import pipeline_creation as pl_creat\n",
    "\n",
    "#Import plotting functions:\n",
    "import plotting_functions as plt_func\n",
    "import plotting_helper_functions as plt_help\n",
    "import postprocessing_helpers as post_help\n",
    "\n",
    "importlib.reload(plt_help)\n",
    "importlib.reload(plt_func)\n",
    "importlib.reload(post_help)"
   ]
  },
  {
   "cell_type": "markdown",
   "id": "24317093",
   "metadata": {},
   "source": [
    "# Choose the experiment and create the main pipeline"
   ]
  },
  {
   "cell_type": "markdown",
   "id": "a8d0e543",
   "metadata": {},
   "source": [
    "Choose the experiment to run, and define the number of choices, the number of simulations/thread to run and number of cores:"
   ]
  },
  {
   "cell_type": "code",
   "execution_count": null,
   "id": "75c9b428",
   "metadata": {},
   "outputs": [],
   "source": [
    "#Choose the experiment:\n",
    "experiment_choice = 'stop-signal'\n",
    "number_of_choices = 2\n",
    "\n",
    "#Define how many simulations to run. \n",
    "#Each simulation is executed as a separate thread.\n",
    "num_sims = 5\n",
    "num_cores = 7\n",
    "\n",
    "\n",
    "#Call choose_pipeline with the pipeline object:\n",
    "pl_creat.choose_pipeline(experiment_choice)\n",
    "#Create the main pipeline:\n",
    "pl = pl_creat.create_main_pipeline(runloop=True)\n",
    "\n",
    "#Set a seed:\n",
    "seed = np.random.randint(0,99999999,1)[0]\n",
    "print(seed)"
   ]
  },
  {
   "cell_type": "markdown",
   "id": "7929b9de",
   "metadata": {},
   "source": [
    "Define data and figures directories:"
   ]
  },
  {
   "cell_type": "code",
   "execution_count": null,
   "id": "369c400e",
   "metadata": {},
   "outputs": [],
   "source": [
    "data_dir = \"./Data/\"\n",
    "figure_dir = \"./Figures/\""
   ]
  },
  {
   "cell_type": "markdown",
   "id": "e7c53648",
   "metadata": {},
   "source": [
    "# Running the pipeline"
   ]
  },
  {
   "cell_type": "markdown",
   "id": "b2e5df4e",
   "metadata": {},
   "source": [
    "### Define configuration parameter"
   ]
  },
  {
   "cell_type": "code",
   "execution_count": null,
   "id": "d908da85",
   "metadata": {},
   "outputs": [],
   "source": [
    "#See init_params.py / generateepochs.py / popconstruct.py / qvalues.py\n",
    "#to know the parameters contained in each of the following variables \n",
    "\n",
    "configuration = {\n",
    "    'experimentchoice': experiment_choice,\n",
    "    'inter_trial_interval': None,\n",
    "    'thalamic_threshold': 30.,\n",
    "    'movement_time': ['mean', 250], #['constant', 300], #default sampled from N(250,1.5), [\"constant\",250], [\"mean\",250]\n",
    "    'choice_timeout': 300,          #default = 1000\n",
    "    \n",
    "    'params': None,  #neuron parameters (init_params.py)\n",
    "    'pops': None,    #population parameters (init_params.py)\n",
    "    'receps' : None, #receptor parameters (init_params.py)\n",
    "    'base' : None,   #baseline stimulation parameters (init_params.py)\n",
    "    'dpmns' : None,  #dopamine related parameters (init_params.py)\n",
    "    'd1' : None,     #D1-MSNs population related parameters (init_params.py)\n",
    "    'd2' : None,     #D2-MSNs population related parameters (init_params.py)\n",
    "    'channels' : pd.DataFrame([['left'], ['right']], columns=['action']), #action channels related parameters (init_params.py)\n",
    "    'number_of_choices': number_of_choices,\n",
    "    'newpathways' : None,     #connectivity parameters (popconstruct.py)\n",
    "    'Q_support_params': None, #initialization of Q-values update (qvalues.py) \n",
    "    'Q_df_set': pd.DataFrame([[0.5, 0.5]],columns=[\"left\", \"right\"]), #pd.DataFrame([[0.3,0.7]],columns=['left','right']), #initialized Q-values df (qvalues.py)  \n",
    "    'n_trials': 3,            #number of trials (generateepochs.py)\n",
    "    'volatility': [None,\"exact\"], #frequency of changepoints (generateepochs.py)\n",
    "    'conflict': (1.0, 0),         #probability of the preferred choice (generateepochs.py)\n",
    "    'reward_mu': 1,               #mean for the magnitude of the reward (generateepochs.py)\n",
    "    'reward_std': 0.1,            #std for the magnitude of the reward (generateepochs.py)\n",
    "    'maxstim': 0.8,               #amplitude of the cortical input over base line #0.85\n",
    "    'sustainedfraction': 0.75,\n",
    "    \n",
    "    #Stop 1\n",
    "    'stop_signal_present': [True,True],\n",
    "    'stop_signal_probability': [1., 1.],  #[[1,3],[1,2]], #probability of trials that will get the stop-signal / list of trial numbers\n",
    "    'stop_signal_amplitude': [0.6, 0.6],  #amplitude of the stop signal over base line\n",
    "    'stop_signal_onset': [30.,60.],       #in ms\n",
    "    'stop_signal_duration' : [\"phase 0\",165.], \n",
    "    'stop_signal_channel': [\"left\",\"left\"], #\"all\" (all channels are given the stop signal) \n",
    "                                            #\"any\" (channel given the stop signal is chosen randomly)\n",
    "                                            # [list of channels] == subset of channels given the stop signal\n",
    "    'stop_signal_population':[\"STN\",\"GPeA\"],\n",
    "    \n",
    "    'record_variables':[\"stop_input\"],\n",
    "    \n",
    "    \n",
    "    #Opto\n",
    "    'opt_signal_present': [False],\n",
    "    'opt_signal_probability': [1.], #[0,1,2,3,4], # probability of trials that will get the optogenetic signal / list of trial numbers\n",
    "    'opt_signal_amplitude': [.7],   #amplitude of the stop signal over base line\n",
    "    'opt_signal_onset': [30.],      #in ms\n",
    "    'opt_signal_duration': [150.],\n",
    "    'opt_signal_channel': [\"all\"],  # \"all\" (all channels are given the stop signal) \n",
    "                                    #\"any\" (channel given the stop signal is chosen randomly)\n",
    "                                    # [list of channels] == subset of channels given the stop signal\n",
    "    \n",
    "    'opt_signal_population':[\"iSPN\"],\n",
    "}"
   ]
  },
  {
   "cell_type": "markdown",
   "id": "37771412",
   "metadata": {},
   "source": [
    "### Run the simulation"
   ]
  },
  {
   "cell_type": "markdown",
   "id": "6274a439",
   "metadata": {},
   "source": [
    "ExecutionManager class can take for 'use': \n",
    "\n",
    "- 'none', that corresponds to the singlethreaded mode;\n",
    "- 'pathos', that corresponds to python's multiprocessing mode;\n",
    "- 'ray', that corresponds to a multiprocessing library for python that operates on a client-server mode.\n",
    "\n",
    "The default value is None (singlethreaded mode)."
   ]
  },
  {
   "cell_type": "code",
   "execution_count": null,
   "id": "db5483fe",
   "metadata": {
    "scrolled": true
   },
   "outputs": [],
   "source": [
    "results = cbgt.ExecutionManager(cores=7, use='ray').run([pl]*num_sims,[configuration]*num_sims)  "
   ]
  },
  {
   "cell_type": "markdown",
   "id": "6a0fab85",
   "metadata": {},
   "source": [
    "# Results"
   ]
  },
  {
   "cell_type": "markdown",
   "id": "41149cd4",
   "metadata": {},
   "source": [
    "List all the agent variables accessible: "
   ]
  },
  {
   "cell_type": "code",
   "execution_count": null,
   "id": "387d8b4a",
   "metadata": {},
   "outputs": [],
   "source": [
    "results[0].keys()"
   ]
  },
  {
   "cell_type": "code",
   "execution_count": null,
   "id": "b4f6d370",
   "metadata": {},
   "outputs": [],
   "source": [
    "results[0]['stop_list_trials_list']"
   ]
  },
  {
   "cell_type": "code",
   "execution_count": null,
   "id": "516a4186",
   "metadata": {},
   "outputs": [],
   "source": [
    "results[0]['meaneff_GABA']"
   ]
  },
  {
   "cell_type": "code",
   "execution_count": null,
   "id": "a15540ff",
   "metadata": {},
   "outputs": [],
   "source": [
    "results[0]['stop_signal_amplitude']"
   ]
  },
  {
   "cell_type": "code",
   "execution_count": null,
   "id": "e24790c8",
   "metadata": {},
   "outputs": [],
   "source": [
    "experiment_choice"
   ]
  },
  {
   "cell_type": "markdown",
   "id": "b2696c7e",
   "metadata": {},
   "source": [
    "Extract all the relevant dataframes:"
   ]
  },
  {
   "cell_type": "code",
   "execution_count": null,
   "id": "48f110b1",
   "metadata": {},
   "outputs": [],
   "source": [
    "firing_rates, rt_dist = plt_help.extract_relevant_frames(results,seed,experiment_choice)"
   ]
  },
  {
   "cell_type": "code",
   "execution_count": null,
   "id": "0947feab",
   "metadata": {},
   "outputs": [],
   "source": [
    "results[0]['popfreqs']"
   ]
  },
  {
   "cell_type": "code",
   "execution_count": null,
   "id": "35607840",
   "metadata": {},
   "outputs": [],
   "source": [
    " firing_rates[0]"
   ]
  },
  {
   "cell_type": "code",
   "execution_count": null,
   "id": "e730df2a",
   "metadata": {},
   "outputs": [],
   "source": [
    "recorded_variables = post_help.extract_recording_variables(results,results[0]['record_variables'],seed)"
   ]
  },
  {
   "cell_type": "code",
   "execution_count": null,
   "id": "634fc832",
   "metadata": {},
   "outputs": [],
   "source": [
    "recorded_variables['stop_input']#.melt(id_vars='Time(ms)')"
   ]
  },
  {
   "cell_type": "markdown",
   "id": "824877d8",
   "metadata": {},
   "source": [
    "Plot the recorded variable extracted. Figure is saved in the figure_dir previously specified:"
   ]
  },
  {
   "cell_type": "code",
   "execution_count": null,
   "id": "2c047567",
   "metadata": {},
   "outputs": [],
   "source": [
    "fig,ax = plt.subplots(1,1,figsize=(5,4))\n",
    "sns.set(style=\"white\", font_scale=1.5)\n",
    "sns.lineplot(x=\"Time(ms)\",y=\"value\",data=recorded_variables['stop_input'],hue='nuclei',lw=3.0,ax=ax)\n",
    "ax.legend_.remove()\n",
    "ax.spines.top.set_visible(False)\n",
    "ax.spines.right.set_visible(False)\n",
    "plt.tight_layout()\n",
    "fig.savefig(figure_dir+'stop_input.png')"
   ]
  },
  {
   "cell_type": "markdown",
   "id": "dc228499",
   "metadata": {},
   "source": [
    "Extract the data tables from the agent:"
   ]
  },
  {
   "cell_type": "code",
   "execution_count": null,
   "id": "ba3e9a5d",
   "metadata": {},
   "outputs": [],
   "source": [
    "datatables = cbgt.collateVariable(results,'datatables')\n",
    "datatables[0]"
   ]
  },
  {
   "cell_type": "markdown",
   "id": "8f72c19b",
   "metadata": {},
   "source": [
    "Save the selected variables of results in the data_dir previously specified:"
   ]
  },
  {
   "cell_type": "code",
   "execution_count": null,
   "id": "2236a1cc",
   "metadata": {},
   "outputs": [],
   "source": [
    "cbgt.saveResults(results,data_dir+'network_data_'+str(seed)+'.pickle',['popfreqs','popdata','datatables'])"
   ]
  },
  {
   "cell_type": "markdown",
   "id": "a973d115",
   "metadata": {},
   "source": [
    "Plot the firing rates extracted (figure handles are returned in fig_handles).\n",
    "Figure is saved in the figure_dir previously specified:"
   ]
  },
  {
   "cell_type": "code",
   "execution_count": null,
   "id": "43037b9e",
   "metadata": {},
   "outputs": [],
   "source": [
    "FR_fig_handles = plt_func.plot_fr(firing_rates,datatables,results,experiment_choice,True)\n",
    "FR_fig_handles[0].savefig(figure_dir+\"Example_FR_stopsignal.png\",dpi=300)"
   ]
  },
  {
   "cell_type": "code",
   "execution_count": null,
   "id": "9b05e8e9",
   "metadata": {},
   "outputs": [],
   "source": []
  }
 ],
 "metadata": {
  "kernelspec": {
   "display_name": "Python 3",
   "language": "python",
   "name": "python3"
  },
  "language_info": {
   "codemirror_mode": {
    "name": "ipython",
    "version": 3
   },
   "file_extension": ".py",
   "mimetype": "text/x-python",
   "name": "python",
   "nbconvert_exporter": "python",
   "pygments_lexer": "ipython3",
   "version": "3.9.13"
  }
 },
 "nbformat": 4,
 "nbformat_minor": 5
}
